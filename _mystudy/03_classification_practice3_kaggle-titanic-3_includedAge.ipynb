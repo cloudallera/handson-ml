{
 "cells": [
  {
   "cell_type": "markdown",
   "metadata": {
    "toc": true
   },
   "source": [
    "<h1>Table of Contents<span class=\"tocSkip\"></span></h1>\n",
    "<div class=\"toc\"><ul class=\"toc-item\"><li><span><a href=\"#3.8-Classification-연습문제\" data-toc-modified-id=\"3.8-Classification-연습문제-1\">3.8 Classification 연습문제</a></span><ul class=\"toc-item\"><li><span><a href=\"#(Practice3)-타이타닉-데이터셋에-도전(Kaggle)\" data-toc-modified-id=\"(Practice3)-타이타닉-데이터셋에-도전(Kaggle)-1.1\">(Practice3) 타이타닉 데이터셋에 도전(Kaggle)</a></span><ul class=\"toc-item\"><li><span><a href=\"#데이터를-적재합니다.\" data-toc-modified-id=\"데이터를-적재합니다.-1.1.1\">데이터를 적재합니다.</a></span></li><li><span><a href=\"#데이터-살펴보기\" data-toc-modified-id=\"데이터-살펴보기-1.1.2\">데이터 살펴보기</a></span><ul class=\"toc-item\"><li><span><a href=\"#속성은-다음과-같은-의미를-가집니다:\" data-toc-modified-id=\"속성은-다음과-같은-의미를-가집니다:-1.1.2.1\">속성은 다음과 같은 의미를 가집니다:</a></span></li><li><span><a href=\"#누락된-데이터가-얼마나-되는지-알아보겠습니다.\" data-toc-modified-id=\"누락된-데이터가-얼마나-되는지-알아보겠습니다.-1.1.2.2\">누락된 데이터가 얼마나 되는지 알아보겠습니다.</a></span></li><li><span><a href=\"#훈련-데이터의-숫자형-특성들의-통계치를-살펴-보겠습니다.\" data-toc-modified-id=\"훈련-데이터의-숫자형-특성들의-통계치를-살펴-보겠습니다.-1.1.2.3\">훈련 데이터의 숫자형 특성들의 통계치를 살펴 보겠습니다.</a></span></li><li><span><a href=\"#특성별-생존자-구성-비율을-분석해봅니다.\" data-toc-modified-id=\"특성별-생존자-구성-비율을-분석해봅니다.-1.1.2.4\">특성별 생존자 구성 비율을 분석해봅니다.</a></span></li></ul></li><li><span><a href=\"#Feature-engineering\" data-toc-modified-id=\"Feature-engineering-1.1.3\">Feature engineering</a></span><ul class=\"toc-item\"><li><span><a href=\"#Name의-호칭-부분을-추출하여-Initial-특성을-추가합니다.\" data-toc-modified-id=\"Name의-호칭-부분을-추출하여-Initial-특성을-추가합니다.-1.1.3.1\">Name의 호칭 부분을 추출하여 Initial 특성을 추가합니다.</a></span></li><li><span><a href=\"#누락된-Age-값을-Initial(호칭)별-중간값으로-채웁니다.\" data-toc-modified-id=\"누락된-Age-값을-Initial(호칭)별-중간값으로-채웁니다.-1.1.3.2\">누락된 Age 값을 Initial(호칭)별 중간값으로 채웁니다.</a></span></li><li><span><a href=\"#누락된-Fare값을-Pclass의-평균값(mean)으로으로-채웁니다.\" data-toc-modified-id=\"누락된-Fare값을-Pclass의-평균값(mean)으로으로-채웁니다.-1.1.3.3\">누락된 Fare값을 Pclass의 평균값(mean)으로으로 채웁니다.</a></span></li><li><span><a href=\"#누락된-Embarked-값은-가장-많은-범주-값(most_frequent)으로-채웁니다.\" data-toc-modified-id=\"누락된-Embarked-값은-가장-많은-범주-값(most_frequent)으로-채웁니다.-1.1.3.4\">누락된 Embarked 값은 가장 많은 범주 값(most_frequent)으로 채웁니다.</a></span></li><li><span><a href=\"#Cabin-특성의-누락된-데이터를-채우는-방법을-찾아봅니다.\" data-toc-modified-id=\"Cabin-특성의-누락된-데이터를-채우는-방법을-찾아봅니다.-1.1.3.5\">Cabin 특성의 누락된 데이터를 채우는 방법을 찾아봅니다.</a></span></li><li><span><a href=\"#Pclass와-Cabin을-이용해-갑판(Deck)-특성을-만듭니다.\" data-toc-modified-id=\"Pclass와-Cabin을-이용해-갑판(Deck)-특성을-만듭니다.-1.1.3.6\">Pclass와 Cabin을 이용해 갑판(Deck) 특성을 만듭니다.</a></span></li><li><span><a href=\"#숫자형-Age-특성으로-부터-범주형-AgeBucket을-만듭니다.\" data-toc-modified-id=\"숫자형-Age-특성으로-부터-범주형-AgeBucket을-만듭니다.-1.1.3.7\">숫자형 Age 특성으로 부터 범주형 AgeBucket을 만듭니다.</a></span></li><li><span><a href=\"#형제배우자와-부모자녀-특성을-더해서-FamilySize-특성을-만듭니다.\" data-toc-modified-id=\"형제배우자와-부모자녀-특성을-더해서-FamilySize-특성을-만듭니다.-1.1.3.8\">형제배우자와 부모자녀 특성을 더해서 FamilySize 특성을 만듭니다.</a></span></li><li><span><a href=\"#Ticket을-분석해서-TicketNumber와-TicketCode를-만듭니다.\" data-toc-modified-id=\"Ticket을-분석해서-TicketNumber와-TicketCode를-만듭니다.-1.1.3.9\">Ticket을 분석해서 TicketNumber와 TicketCode를 만듭니다.</a></span></li><li><span><a href=\"#TicketNumber를-티켓번호-구간을-기준으로-범주형으로-변환-합니다.\" data-toc-modified-id=\"TicketNumber를-티켓번호-구간을-기준으로-범주형으로-변환-합니다.-1.1.3.10\">TicketNumber를 티켓번호 구간을 기준으로 범주형으로 변환 합니다.</a></span></li><li><span><a href=\"#숫자형-특성-Standardization(표준화)와-범주형-특성-OneHotEncoding을-수행-합니다.\" data-toc-modified-id=\"숫자형-특성-Standardization(표준화)와-범주형-특성-OneHotEncoding을-수행-합니다.-1.1.3.11\">숫자형 특성 Standardization(표준화)와 범주형 특성 OneHotEncoding을 수행 합니다.</a></span></li><li><span><a href=\"#전처리가-끝난-titanic_data에서-훈련-데이터와-테스트-데이터를-분리-합니다.\" data-toc-modified-id=\"전처리가-끝난-titanic_data에서-훈련-데이터와-테스트-데이터를-분리-합니다.-1.1.3.12\">전처리가 끝난 titanic_data에서 훈련 데이터와 테스트 데이터를 분리 합니다.</a></span></li></ul></li><li><span><a href=\"#모델을-훈련-합니다.\" data-toc-modified-id=\"모델을-훈련-합니다.-1.1.4\">모델을 훈련 합니다.</a></span><ul class=\"toc-item\"><li><span><a href=\"#SVM\" data-toc-modified-id=\"SVM-1.1.4.1\">SVM</a></span></li><li><span><a href=\"#kNN\" data-toc-modified-id=\"kNN-1.1.4.2\">kNN</a></span></li><li><span><a href=\"#Decision-Tree\" data-toc-modified-id=\"Decision-Tree-1.1.4.3\">Decision Tree</a></span></li><li><span><a href=\"#Ramdom-Forest\" data-toc-modified-id=\"Ramdom-Forest-1.1.4.4\">Ramdom Forest</a></span></li><li><span><a href=\"#그리드-탐색으로-최적의-하이퍼파라미터를-튜닝-해봅니다.\" data-toc-modified-id=\"그리드-탐색으로-최적의-하이퍼파라미터를-튜닝-해봅니다.-1.1.4.5\">그리드 탐색으로 최적의 하이퍼파라미터를 튜닝 해봅니다.</a></span></li></ul></li><li><span><a href=\"#테스트-데이터에-대한-예측을-만들어-Kaggle에-업로드-합니다.\" data-toc-modified-id=\"테스트-데이터에-대한-예측을-만들어-Kaggle에-업로드-합니다.-1.1.5\">테스트 데이터에 대한 예측을 만들어 Kaggle에 업로드 합니다.</a></span></li></ul></li></ul></li></ul></div>"
   ]
  },
  {
   "cell_type": "markdown",
   "metadata": {},
   "source": [
    "## 3.8 Classification 연습문제"
   ]
  },
  {
   "cell_type": "markdown",
   "metadata": {},
   "source": [
    "### (Practice3) 타이타닉 데이터셋에 도전(Kaggle)"
   ]
  },
  {
   "cell_type": "markdown",
   "metadata": {},
   "source": [
    "승객의 나이, 성별, 승객 등급, 승선 위치 같은 속성을 기반으로 하여 승객의 생존 여부를 예측하는 것이 목표입니다.\n",
    "\n",
    "먼저 [캐글](https://www.kaggle.com)에 로그인 하고, [타이타닉 챌린지](https://www.kaggle.com/c/titanic)에서 `train.csv`와 `test.csv`를 다운로드합니다. 두 파일을 `datasets/titanic` 디렉토리에 저장하세요."
   ]
  },
  {
   "cell_type": "markdown",
   "metadata": {},
   "source": [
    "#### 데이터를 적재합니다."
   ]
  },
  {
   "cell_type": "code",
   "execution_count": 1,
   "metadata": {},
   "outputs": [],
   "source": [
    "import pandas as pd\n",
    "import numpy as np\n",
    "import matplotlib.pyplot as plt\n",
    "import seaborn as sns\n",
    "import warnings\n",
    "\n",
    "%matplotlib inline\n",
    "\n",
    "sns.set()    # setting seaborn default for plots\n",
    "\n",
    "warnings.filterwarnings(\"ignore\", category=FutureWarning)\n",
    "warnings.filterwarnings(\"ignore\", category=DeprecationWarning)\n",
    "\n",
    "train_data = pd.read_csv(\"datasets/titanic/train.csv\")\n",
    "test_data = pd.read_csv(\"datasets/titanic/test.csv\")\n",
    "titanic_data = pd.concat([train_data, test_data])"
   ]
  },
  {
   "cell_type": "markdown",
   "metadata": {},
   "source": [
    "- 데이터 분석에는 train_data를 사용하고, <br>\n",
    "   데이터 전처리는 titanic_data로 한꺼번에 처리 후 모델 훈련 전에 훈련 데이터와 테스트 데이터를 분리해줍니다."
   ]
  },
  {
   "cell_type": "markdown",
   "metadata": {},
   "source": [
    "#### 데이터 살펴보기"
   ]
  },
  {
   "cell_type": "code",
   "execution_count": 2,
   "metadata": {},
   "outputs": [
    {
     "data": {
      "text/plain": [
       "(891, 12)"
      ]
     },
     "execution_count": 2,
     "metadata": {},
     "output_type": "execute_result"
    }
   ],
   "source": [
    "train_data.shape"
   ]
  },
  {
   "cell_type": "code",
   "execution_count": 3,
   "metadata": {
    "scrolled": true
   },
   "outputs": [
    {
     "data": {
      "text/plain": [
       "(418, 11)"
      ]
     },
     "execution_count": 3,
     "metadata": {},
     "output_type": "execute_result"
    }
   ],
   "source": [
    "test_data.shape"
   ]
  },
  {
   "cell_type": "code",
   "execution_count": 4,
   "metadata": {},
   "outputs": [
    {
     "data": {
      "text/html": [
       "<div>\n",
       "<style scoped>\n",
       "    .dataframe tbody tr th:only-of-type {\n",
       "        vertical-align: middle;\n",
       "    }\n",
       "\n",
       "    .dataframe tbody tr th {\n",
       "        vertical-align: top;\n",
       "    }\n",
       "\n",
       "    .dataframe thead th {\n",
       "        text-align: right;\n",
       "    }\n",
       "</style>\n",
       "<table border=\"1\" class=\"dataframe\">\n",
       "  <thead>\n",
       "    <tr style=\"text-align: right;\">\n",
       "      <th></th>\n",
       "      <th>Age</th>\n",
       "      <th>Cabin</th>\n",
       "      <th>Embarked</th>\n",
       "      <th>Fare</th>\n",
       "      <th>Name</th>\n",
       "      <th>Parch</th>\n",
       "      <th>PassengerId</th>\n",
       "      <th>Pclass</th>\n",
       "      <th>Sex</th>\n",
       "      <th>SibSp</th>\n",
       "      <th>Survived</th>\n",
       "      <th>Ticket</th>\n",
       "    </tr>\n",
       "  </thead>\n",
       "  <tbody>\n",
       "    <tr>\n",
       "      <th>0</th>\n",
       "      <td>22.0</td>\n",
       "      <td>NaN</td>\n",
       "      <td>S</td>\n",
       "      <td>7.2500</td>\n",
       "      <td>Braund, Mr. Owen Harris</td>\n",
       "      <td>0</td>\n",
       "      <td>1</td>\n",
       "      <td>3</td>\n",
       "      <td>male</td>\n",
       "      <td>1</td>\n",
       "      <td>0.0</td>\n",
       "      <td>A/5 21171</td>\n",
       "    </tr>\n",
       "    <tr>\n",
       "      <th>1</th>\n",
       "      <td>38.0</td>\n",
       "      <td>C85</td>\n",
       "      <td>C</td>\n",
       "      <td>71.2833</td>\n",
       "      <td>Cumings, Mrs. John Bradley (Florence Briggs Th...</td>\n",
       "      <td>0</td>\n",
       "      <td>2</td>\n",
       "      <td>1</td>\n",
       "      <td>female</td>\n",
       "      <td>1</td>\n",
       "      <td>1.0</td>\n",
       "      <td>PC 17599</td>\n",
       "    </tr>\n",
       "    <tr>\n",
       "      <th>2</th>\n",
       "      <td>26.0</td>\n",
       "      <td>NaN</td>\n",
       "      <td>S</td>\n",
       "      <td>7.9250</td>\n",
       "      <td>Heikkinen, Miss. Laina</td>\n",
       "      <td>0</td>\n",
       "      <td>3</td>\n",
       "      <td>3</td>\n",
       "      <td>female</td>\n",
       "      <td>0</td>\n",
       "      <td>1.0</td>\n",
       "      <td>STON/O2. 3101282</td>\n",
       "    </tr>\n",
       "    <tr>\n",
       "      <th>3</th>\n",
       "      <td>35.0</td>\n",
       "      <td>C123</td>\n",
       "      <td>S</td>\n",
       "      <td>53.1000</td>\n",
       "      <td>Futrelle, Mrs. Jacques Heath (Lily May Peel)</td>\n",
       "      <td>0</td>\n",
       "      <td>4</td>\n",
       "      <td>1</td>\n",
       "      <td>female</td>\n",
       "      <td>1</td>\n",
       "      <td>1.0</td>\n",
       "      <td>113803</td>\n",
       "    </tr>\n",
       "    <tr>\n",
       "      <th>4</th>\n",
       "      <td>35.0</td>\n",
       "      <td>NaN</td>\n",
       "      <td>S</td>\n",
       "      <td>8.0500</td>\n",
       "      <td>Allen, Mr. William Henry</td>\n",
       "      <td>0</td>\n",
       "      <td>5</td>\n",
       "      <td>3</td>\n",
       "      <td>male</td>\n",
       "      <td>0</td>\n",
       "      <td>0.0</td>\n",
       "      <td>373450</td>\n",
       "    </tr>\n",
       "  </tbody>\n",
       "</table>\n",
       "</div>"
      ],
      "text/plain": [
       "    Age Cabin Embarked     Fare  \\\n",
       "0  22.0   NaN        S   7.2500   \n",
       "1  38.0   C85        C  71.2833   \n",
       "2  26.0   NaN        S   7.9250   \n",
       "3  35.0  C123        S  53.1000   \n",
       "4  35.0   NaN        S   8.0500   \n",
       "\n",
       "                                                Name  Parch  PassengerId  \\\n",
       "0                            Braund, Mr. Owen Harris      0            1   \n",
       "1  Cumings, Mrs. John Bradley (Florence Briggs Th...      0            2   \n",
       "2                             Heikkinen, Miss. Laina      0            3   \n",
       "3       Futrelle, Mrs. Jacques Heath (Lily May Peel)      0            4   \n",
       "4                           Allen, Mr. William Henry      0            5   \n",
       "\n",
       "   Pclass     Sex  SibSp  Survived            Ticket  \n",
       "0       3    male      1       0.0         A/5 21171  \n",
       "1       1  female      1       1.0          PC 17599  \n",
       "2       3  female      0       1.0  STON/O2. 3101282  \n",
       "3       1  female      1       1.0            113803  \n",
       "4       3    male      0       0.0            373450  "
      ]
     },
     "execution_count": 4,
     "metadata": {},
     "output_type": "execute_result"
    }
   ],
   "source": [
    "titanic_data.head()"
   ]
  },
  {
   "cell_type": "markdown",
   "metadata": {},
   "source": [
    "##### 속성은 다음과 같은 의미를 가집니다:\n",
    "* **Survived**: 타깃입니다. 0은 생존하지 못한 것이고 1은 생존을 의미합니다.\n",
    "* **Pclass**: 승객 등급. 1, 2, 3등석.\n",
    "* **Name**, **Sex**, **Age**: 이름 그대로 의미입니다.\n",
    "* **SibSp**: 함께 탑승한 형제, 배우자의 수.\n",
    "* **Parch**: 함께 탑승한 자녀, 부모의 수.\n",
    "* **Ticket**: 티켓 아이디\n",
    "* **Fare**: 티켓 요금 (파운드)\n",
    "* **Cabin**: 객실 번호\n",
    "* **Embarked**: 승객이 탑승한 곳. C(Cherbourg), Q(Queenstown), S(Southampton)"
   ]
  },
  {
   "cell_type": "markdown",
   "metadata": {},
   "source": [
    "##### 누락된 데이터가 얼마나 되는지 알아보겠습니다."
   ]
  },
  {
   "cell_type": "code",
   "execution_count": 5,
   "metadata": {},
   "outputs": [
    {
     "name": "stdout",
     "output_type": "stream",
     "text": [
      "<class 'pandas.core.frame.DataFrame'>\n",
      "Int64Index: 1309 entries, 0 to 417\n",
      "Data columns (total 12 columns):\n",
      "Age            1046 non-null float64\n",
      "Cabin          295 non-null object\n",
      "Embarked       1307 non-null object\n",
      "Fare           1308 non-null float64\n",
      "Name           1309 non-null object\n",
      "Parch          1309 non-null int64\n",
      "PassengerId    1309 non-null int64\n",
      "Pclass         1309 non-null int64\n",
      "Sex            1309 non-null object\n",
      "SibSp          1309 non-null int64\n",
      "Survived       891 non-null float64\n",
      "Ticket         1309 non-null object\n",
      "dtypes: float64(3), int64(4), object(5)\n",
      "memory usage: 132.9+ KB\n"
     ]
    }
   ],
   "source": [
    "titanic_data.info()"
   ]
  },
  {
   "cell_type": "markdown",
   "metadata": {},
   "source": [
    "- Survived는 출력 레이블 입니다.\n",
    "- Age, Cabin, Embarked, Fare 특성은 일부 데이터가 Null 입니다.\n",
    "- Object형 특성 중에 Name, Ticket, Cabin은 Text형 특성이고, Sex, Embarked는 범주형 특성 입니다.\n",
    "- int64형 특성 중에 Pclass는 범주형 특성 입니다.\n",
    "- 1,309개 데이터 중에 891개는 label값(Survived)이 있는 훈련 데이터 이고, 418개는 테스트 데이터 입니다."
   ]
  },
  {
   "cell_type": "markdown",
   "metadata": {},
   "source": [
    "##### 훈련 데이터의 숫자형 특성들의 통계치를 살펴 보겠습니다."
   ]
  },
  {
   "cell_type": "code",
   "execution_count": 6,
   "metadata": {
    "scrolled": false
   },
   "outputs": [
    {
     "data": {
      "text/html": [
       "<div>\n",
       "<style scoped>\n",
       "    .dataframe tbody tr th:only-of-type {\n",
       "        vertical-align: middle;\n",
       "    }\n",
       "\n",
       "    .dataframe tbody tr th {\n",
       "        vertical-align: top;\n",
       "    }\n",
       "\n",
       "    .dataframe thead th {\n",
       "        text-align: right;\n",
       "    }\n",
       "</style>\n",
       "<table border=\"1\" class=\"dataframe\">\n",
       "  <thead>\n",
       "    <tr style=\"text-align: right;\">\n",
       "      <th></th>\n",
       "      <th>PassengerId</th>\n",
       "      <th>Survived</th>\n",
       "      <th>Pclass</th>\n",
       "      <th>Age</th>\n",
       "      <th>SibSp</th>\n",
       "      <th>Parch</th>\n",
       "      <th>Fare</th>\n",
       "    </tr>\n",
       "  </thead>\n",
       "  <tbody>\n",
       "    <tr>\n",
       "      <th>count</th>\n",
       "      <td>891.000000</td>\n",
       "      <td>891.000000</td>\n",
       "      <td>891.000000</td>\n",
       "      <td>714.000000</td>\n",
       "      <td>891.000000</td>\n",
       "      <td>891.000000</td>\n",
       "      <td>891.000000</td>\n",
       "    </tr>\n",
       "    <tr>\n",
       "      <th>mean</th>\n",
       "      <td>446.000000</td>\n",
       "      <td>0.383838</td>\n",
       "      <td>2.308642</td>\n",
       "      <td>29.699118</td>\n",
       "      <td>0.523008</td>\n",
       "      <td>0.381594</td>\n",
       "      <td>32.204208</td>\n",
       "    </tr>\n",
       "    <tr>\n",
       "      <th>std</th>\n",
       "      <td>257.353842</td>\n",
       "      <td>0.486592</td>\n",
       "      <td>0.836071</td>\n",
       "      <td>14.526497</td>\n",
       "      <td>1.102743</td>\n",
       "      <td>0.806057</td>\n",
       "      <td>49.693429</td>\n",
       "    </tr>\n",
       "    <tr>\n",
       "      <th>min</th>\n",
       "      <td>1.000000</td>\n",
       "      <td>0.000000</td>\n",
       "      <td>1.000000</td>\n",
       "      <td>0.420000</td>\n",
       "      <td>0.000000</td>\n",
       "      <td>0.000000</td>\n",
       "      <td>0.000000</td>\n",
       "    </tr>\n",
       "    <tr>\n",
       "      <th>25%</th>\n",
       "      <td>223.500000</td>\n",
       "      <td>0.000000</td>\n",
       "      <td>2.000000</td>\n",
       "      <td>20.125000</td>\n",
       "      <td>0.000000</td>\n",
       "      <td>0.000000</td>\n",
       "      <td>7.910400</td>\n",
       "    </tr>\n",
       "    <tr>\n",
       "      <th>50%</th>\n",
       "      <td>446.000000</td>\n",
       "      <td>0.000000</td>\n",
       "      <td>3.000000</td>\n",
       "      <td>28.000000</td>\n",
       "      <td>0.000000</td>\n",
       "      <td>0.000000</td>\n",
       "      <td>14.454200</td>\n",
       "    </tr>\n",
       "    <tr>\n",
       "      <th>75%</th>\n",
       "      <td>668.500000</td>\n",
       "      <td>1.000000</td>\n",
       "      <td>3.000000</td>\n",
       "      <td>38.000000</td>\n",
       "      <td>1.000000</td>\n",
       "      <td>0.000000</td>\n",
       "      <td>31.000000</td>\n",
       "    </tr>\n",
       "    <tr>\n",
       "      <th>max</th>\n",
       "      <td>891.000000</td>\n",
       "      <td>1.000000</td>\n",
       "      <td>3.000000</td>\n",
       "      <td>80.000000</td>\n",
       "      <td>8.000000</td>\n",
       "      <td>6.000000</td>\n",
       "      <td>512.329200</td>\n",
       "    </tr>\n",
       "  </tbody>\n",
       "</table>\n",
       "</div>"
      ],
      "text/plain": [
       "       PassengerId    Survived      Pclass         Age       SibSp  \\\n",
       "count   891.000000  891.000000  891.000000  714.000000  891.000000   \n",
       "mean    446.000000    0.383838    2.308642   29.699118    0.523008   \n",
       "std     257.353842    0.486592    0.836071   14.526497    1.102743   \n",
       "min       1.000000    0.000000    1.000000    0.420000    0.000000   \n",
       "25%     223.500000    0.000000    2.000000   20.125000    0.000000   \n",
       "50%     446.000000    0.000000    3.000000   28.000000    0.000000   \n",
       "75%     668.500000    1.000000    3.000000   38.000000    1.000000   \n",
       "max     891.000000    1.000000    3.000000   80.000000    8.000000   \n",
       "\n",
       "            Parch        Fare  \n",
       "count  891.000000  891.000000  \n",
       "mean     0.381594   32.204208  \n",
       "std      0.806057   49.693429  \n",
       "min      0.000000    0.000000  \n",
       "25%      0.000000    7.910400  \n",
       "50%      0.000000   14.454200  \n",
       "75%      0.000000   31.000000  \n",
       "max      6.000000  512.329200  "
      ]
     },
     "execution_count": 6,
     "metadata": {},
     "output_type": "execute_result"
    }
   ],
   "source": [
    "train_data.describe()"
   ]
  },
  {
   "cell_type": "markdown",
   "metadata": {},
   "source": [
    "- 생존자는 38% 정도 입니다.\n",
    "- 부모자식 수는 최대 6명, 형제/배우자 수는 최대 8명, 나이는 0.42~80.0세 까지 분포해있습니다."
   ]
  },
  {
   "cell_type": "markdown",
   "metadata": {},
   "source": [
    "##### 특성별 생존자 구성 비율을 분석해봅니다."
   ]
  },
  {
   "cell_type": "code",
   "execution_count": 7,
   "metadata": {},
   "outputs": [],
   "source": [
    "# 특성별 생존자 구성을 분석하기 위한 바-차트 함수를 만듭니다.\n",
    "def bar_chart(feature):\n",
    "    survived = train_data[train_data['Survived']==1][feature].value_counts()\n",
    "    dead = train_data[train_data['Survived']==0][feature].value_counts()\n",
    "    df = pd.DataFrame([survived,dead])\n",
    "    df.index = ['Survived', 'Dead']\n",
    "    df = df.T\n",
    "    df.plot(kind='bar', stacked=True, figsize=(10,5))"
   ]
  },
  {
   "cell_type": "code",
   "execution_count": 8,
   "metadata": {},
   "outputs": [
    {
     "data": {
      "image/png": "[encoded data removed]",
      "text/plain": [
       "<Figure size 720x360 with 1 Axes>"
      ]
     },
     "metadata": {
      "needs_background": "light"
     },
     "output_type": "display_data"
    }
   ],
   "source": [
    "bar_chart(\"Sex\")"
   ]
  },
  {
   "cell_type": "markdown",
   "metadata": {},
   "source": [
    "- 남성의 사망자 비율이 높게 보입니다."
   ]
  },
  {
   "cell_type": "code",
   "execution_count": 9,
   "metadata": {},
   "outputs": [
    {
     "data": {
      "image/png": "[encoded data removed]",
      "text/plain": [
       "<Figure size 720x360 with 1 Axes>"
      ]
     },
     "metadata": {
      "needs_background": "light"
     },
     "output_type": "display_data"
    }
   ],
   "source": [
    "bar_chart(\"Pclass\")"
   ]
  },
  {
   "cell_type": "markdown",
   "metadata": {},
   "source": [
    "- 3등급의 사망자 비율이 높게 보입니다."
   ]
  },
  {
   "cell_type": "code",
   "execution_count": 10,
   "metadata": {},
   "outputs": [
    {
     "data": {
      "image/png": "[encoded data removed]",
      "text/plain": [
       "<Figure size 720x360 with 1 Axes>"
      ]
     },
     "metadata": {
      "needs_background": "light"
     },
     "output_type": "display_data"
    }
   ],
   "source": [
    "bar_chart(\"Embarked\")"
   ]
  },
  {
   "cell_type": "markdown",
   "metadata": {},
   "source": [
    "- S(Southampton) 탑승자들의 사망 비율이 상대적으로 높습니다."
   ]
  },
  {
   "cell_type": "markdown",
   "metadata": {},
   "source": [
    "#### Feature engineering"
   ]
  },
  {
   "cell_type": "markdown",
   "metadata": {},
   "source": [
    "Age, Cabin, Embarked, Fare 특성의 누락된 데이터를 적당한 값으로 채우고, 더 가치가 있는 새로운 특성들을 만듭니다."
   ]
  },
  {
   "cell_type": "markdown",
   "metadata": {},
   "source": [
    "##### Name의 호칭 부분을 추출하여 Initial 특성을 추가합니다."
   ]
  },
  {
   "cell_type": "markdown",
   "metadata": {},
   "source": [
    "Age는 중간값(media) 값으로 채울 수도 있지만, <br>\n",
    "**`Name`** 컬럼의 Initial(호칭)을 분석해서 **`Age`** 컬럼의 누락된 데이트를 Initial의 평균값으로 대체해보겠습니다.\n",
    "\n",
    "Name의 Initial 추출은 Inintial이 알파벳 문자 뒤에 \".\"으로 끝나는 점을 이용해 정규표현식을 사용 합니다."
   ]
  },
  {
   "cell_type": "code",
   "execution_count": 11,
   "metadata": {},
   "outputs": [
    {
     "data": {
      "text/plain": [
       "0                              Braund, Mr. Owen Harris\n",
       "1    Cumings, Mrs. John Bradley (Florence Briggs Th...\n",
       "2                               Heikkinen, Miss. Laina\n",
       "3         Futrelle, Mrs. Jacques Heath (Lily May Peel)\n",
       "4                             Allen, Mr. William Henry\n",
       "Name: Name, dtype: object"
      ]
     },
     "execution_count": 11,
     "metadata": {},
     "output_type": "execute_result"
    }
   ],
   "source": [
    "titanic_data[\"Name\"].head()"
   ]
  },
  {
   "cell_type": "code",
   "execution_count": 12,
   "metadata": {},
   "outputs": [
    {
     "data": {
      "text/plain": [
       "Mr          757\n",
       "Miss        260\n",
       "Mrs         197\n",
       "Master       61\n",
       "Rev           8\n",
       "Dr            8\n",
       "Col           4\n",
       "Major         2\n",
       "Ms            2\n",
       "Mlle          2\n",
       "Don           1\n",
       "Jonkheer      1\n",
       "Lady          1\n",
       "Countess      1\n",
       "Mme           1\n",
       "Sir           1\n",
       "Capt          1\n",
       "Dona          1\n",
       "Name: Initial, dtype: int64"
      ]
     },
     "execution_count": 12,
     "metadata": {},
     "output_type": "execute_result"
    }
   ],
   "source": [
    "titanic_data[\"Initial\"] = titanic_data.Name.str.extract('([A-Za-z]+)\\.')\n",
    "titanic_data[\"Initial\"].value_counts()"
   ]
  },
  {
   "cell_type": "markdown",
   "metadata": {},
   "source": [
    "Inintial의 대부분은 Mr, Miss, Mrs, Master, Dr 입니다. <br>\n",
    "Mr, Miss, Mrs, Master, Dr로 구분 가능한 것들은 replace 하고, 나머지는 Others로 통합합니다."
   ]
  },
  {
   "cell_type": "code",
   "execution_count": 13,
   "metadata": {
    "scrolled": true
   },
   "outputs": [
    {
     "data": {
      "text/plain": [
       "Mr        762\n",
       "Miss      264\n",
       "Mrs       201\n",
       "Master     61\n",
       "Others     13\n",
       "Dr          8\n",
       "Name: Initial, dtype: int64"
      ]
     },
     "execution_count": 13,
     "metadata": {},
     "output_type": "execute_result"
    }
   ],
   "source": [
    "titanic_data['Initial'].replace(['Mlle','Mme','Ms','Dr','Major','Lady','Countess','Jonkheer','Col','Rev','Capt','Sir','Don', 'Dona'],\n",
    "                        ['Miss','Mrs','Miss','Dr','Mr','Mrs','Mrs','Others','Others','Others','Mr','Mr','Mr', 'Mrs'], inplace=True)\n",
    "\n",
    "# \"Mr\", \"Miss\", \"Mrs\", \"Master\", \"Dr\"를 제외한 모두를 \"Others\"로 간단하게 변환도 가능\n",
    "# titanic_data[\"Initial\"] = titanic_data[\"Initial\"].apply(lambda x: x if x in [\"Mr\", \"Miss\", \"Mrs\", \"Master\", \"Dr\"] else \"Others\")\n",
    "\n",
    "titanic_data[\"Initial\"].value_counts()"
   ]
  },
  {
   "cell_type": "markdown",
   "metadata": {},
   "source": [
    "##### 누락된 Age 값을 Initial(호칭)별 중간값으로 채웁니다."
   ]
  },
  {
   "cell_type": "code",
   "execution_count": 14,
   "metadata": {},
   "outputs": [
    {
     "data": {
      "text/html": [
       "<div>\n",
       "<style scoped>\n",
       "    .dataframe tbody tr th:only-of-type {\n",
       "        vertical-align: middle;\n",
       "    }\n",
       "\n",
       "    .dataframe tbody tr th {\n",
       "        vertical-align: top;\n",
       "    }\n",
       "\n",
       "    .dataframe thead th {\n",
       "        text-align: right;\n",
       "    }\n",
       "</style>\n",
       "<table border=\"1\" class=\"dataframe\">\n",
       "  <thead>\n",
       "    <tr style=\"text-align: right;\">\n",
       "      <th></th>\n",
       "      <th>Age</th>\n",
       "    </tr>\n",
       "    <tr>\n",
       "      <th>Initial</th>\n",
       "      <th></th>\n",
       "    </tr>\n",
       "  </thead>\n",
       "  <tbody>\n",
       "    <tr>\n",
       "      <th>Dr</th>\n",
       "      <td>49.0</td>\n",
       "    </tr>\n",
       "    <tr>\n",
       "      <th>Master</th>\n",
       "      <td>4.0</td>\n",
       "    </tr>\n",
       "    <tr>\n",
       "      <th>Miss</th>\n",
       "      <td>22.0</td>\n",
       "    </tr>\n",
       "    <tr>\n",
       "      <th>Mr</th>\n",
       "      <td>29.0</td>\n",
       "    </tr>\n",
       "    <tr>\n",
       "      <th>Mrs</th>\n",
       "      <td>35.5</td>\n",
       "    </tr>\n",
       "    <tr>\n",
       "      <th>Others</th>\n",
       "      <td>47.0</td>\n",
       "    </tr>\n",
       "  </tbody>\n",
       "</table>\n",
       "</div>"
      ],
      "text/plain": [
       "          Age\n",
       "Initial      \n",
       "Dr       49.0\n",
       "Master    4.0\n",
       "Miss     22.0\n",
       "Mr       29.0\n",
       "Mrs      35.5\n",
       "Others   47.0"
      ]
     },
     "execution_count": 14,
     "metadata": {},
     "output_type": "execute_result"
    }
   ],
   "source": [
    "titanic_data[[\"Initial\", \"Age\"]].groupby([\"Initial\"]).median()"
   ]
  },
  {
   "cell_type": "code",
   "execution_count": 15,
   "metadata": {},
   "outputs": [],
   "source": [
    "titanic_data[\"Age\"] = titanic_data.groupby(\"Initial\").transform(lambda x: x.fillna(x.median()))[\"Age\"]"
   ]
  },
  {
   "cell_type": "markdown",
   "metadata": {},
   "source": [
    "##### 누락된 Fare값을 Pclass의 평균값(mean)으로으로 채웁니다."
   ]
  },
  {
   "cell_type": "code",
   "execution_count": 16,
   "metadata": {},
   "outputs": [
    {
     "data": {
      "text/html": [
       "<div>\n",
       "<style scoped>\n",
       "    .dataframe tbody tr th:only-of-type {\n",
       "        vertical-align: middle;\n",
       "    }\n",
       "\n",
       "    .dataframe tbody tr th {\n",
       "        vertical-align: top;\n",
       "    }\n",
       "\n",
       "    .dataframe thead th {\n",
       "        text-align: right;\n",
       "    }\n",
       "</style>\n",
       "<table border=\"1\" class=\"dataframe\">\n",
       "  <thead>\n",
       "    <tr style=\"text-align: right;\">\n",
       "      <th></th>\n",
       "      <th>Fare</th>\n",
       "    </tr>\n",
       "    <tr>\n",
       "      <th>Pclass</th>\n",
       "      <th></th>\n",
       "    </tr>\n",
       "  </thead>\n",
       "  <tbody>\n",
       "    <tr>\n",
       "      <th>1</th>\n",
       "      <td>87.508992</td>\n",
       "    </tr>\n",
       "    <tr>\n",
       "      <th>2</th>\n",
       "      <td>21.179196</td>\n",
       "    </tr>\n",
       "    <tr>\n",
       "      <th>3</th>\n",
       "      <td>13.302889</td>\n",
       "    </tr>\n",
       "  </tbody>\n",
       "</table>\n",
       "</div>"
      ],
      "text/plain": [
       "             Fare\n",
       "Pclass           \n",
       "1       87.508992\n",
       "2       21.179196\n",
       "3       13.302889"
      ]
     },
     "execution_count": 16,
     "metadata": {},
     "output_type": "execute_result"
    }
   ],
   "source": [
    "titanic_data[[\"Pclass\", \"Fare\"]].groupby([\"Pclass\"]).mean()"
   ]
  },
  {
   "cell_type": "code",
   "execution_count": 17,
   "metadata": {},
   "outputs": [],
   "source": [
    "titanic_data[\"Fare\"] = titanic_data.groupby(\"Pclass\").transform(lambda x: x.fillna(x.mean()))[\"Fare\"]"
   ]
  },
  {
   "cell_type": "markdown",
   "metadata": {},
   "source": [
    "##### 누락된 Embarked 값은 가장 많은 범주 값(most_frequent)으로 채웁니다."
   ]
  },
  {
   "cell_type": "code",
   "execution_count": 18,
   "metadata": {},
   "outputs": [
    {
     "data": {
      "text/plain": [
       "S    914\n",
       "C    270\n",
       "Q    123\n",
       "Name: Embarked, dtype: int64"
      ]
     },
     "execution_count": 18,
     "metadata": {},
     "output_type": "execute_result"
    }
   ],
   "source": [
    "titanic_data[\"Embarked\"].value_counts()"
   ]
  },
  {
   "cell_type": "code",
   "execution_count": 19,
   "metadata": {},
   "outputs": [],
   "source": [
    "from sklearn.impute import SimpleImputer\n",
    "\n",
    "imputer = SimpleImputer(strategy=\"most_frequent\")\n",
    "titanic_data[\"Embarked\"] = imputer.fit_transform(titanic_data[\"Embarked\"].reshape(-1,1))"
   ]
  },
  {
   "cell_type": "code",
   "execution_count": 20,
   "metadata": {},
   "outputs": [
    {
     "data": {
      "text/plain": [
       "S    916\n",
       "C    270\n",
       "Q    123\n",
       "Name: Embarked, dtype: int64"
      ]
     },
     "execution_count": 20,
     "metadata": {},
     "output_type": "execute_result"
    }
   ],
   "source": [
    "titanic_data[\"Embarked\"].value_counts()"
   ]
  },
  {
   "cell_type": "markdown",
   "metadata": {},
   "source": [
    "##### Cabin 특성의 누락된 데이터를 채우는 방법을 찾아봅니다."
   ]
  },
  {
   "cell_type": "code",
   "execution_count": 21,
   "metadata": {},
   "outputs": [
    {
     "data": {
      "text/plain": [
       "C23 C25 C27        6\n",
       "G6                 5\n",
       "B57 B59 B63 B66    5\n",
       "F4                 4\n",
       "C22 C26            4\n",
       "F33                4\n",
       "B96 B98            4\n",
       "F2                 4\n",
       "C78                4\n",
       "D                  4\n",
       "E34                3\n",
       "C101               3\n",
       "A34                3\n",
       "B58 B60            3\n",
       "E101               3\n",
       "B51 B53 B55        3\n",
       "E24                2\n",
       "D28                2\n",
       "E44                2\n",
       "F G73              2\n",
       "Name: Cabin, dtype: int64"
      ]
     },
     "execution_count": 21,
     "metadata": {},
     "output_type": "execute_result"
    }
   ],
   "source": [
    "titanic_data[\"Cabin\"].value_counts()[:20]"
   ]
  },
  {
   "cell_type": "markdown",
   "metadata": {},
   "source": [
    "`Cabin에는 객실의 갑판(Deck) 정보가 맨 앞 영문자에 포함되어 있습니다.`\n",
    "\n",
    "타이타닉의 각 층(갑판)은 아래와 같이 이루어져 있었다. (https://ko.wikipedia.org/wiki/RMS_타이타닉)\n",
    "\n",
    "- **보트 갑판** - 최상층으로, 구명보트들은 모두 여기에 나열되어 있었다. <br>\n",
    "   맨 앞쪽에는 선교와 조타실이 있었으며 선장 & 간부(항해사) 숙소와 바로 연결되어 있었다. <br>\n",
    "   그리고 그 뒤에는 중앙계단의 최상층과 체육관이 연결되어 있었다. <br>\n",
    "   넓은 산책로가 있었으며, 1등실, 2등실, 항해사, 기관사마다 산책로의 영역이 정해져 있었다. <br>\n",
    "   1등실 산책로의 경우 외관을 잘 볼 수 있게 하기 위해 구명보트가 설치되어 있지 않았는데, 이것이 참사의 원인 중 하나가 되었다.\n",
    "- **A 갑판** - `산책 갑판`이라고도 불렸다. 거의 모든 영역이 1등실 전용이었고 1등실 객실과 라운지, 흡연실, 독서실, 야자수 코트가 있었다. <br>\n",
    "   산책 갑판이라는 이름답게 기나긴 산책로가 있었다.\n",
    "- **B 갑판** - 선교루 갑판이라고도 불렸다. 객실은 `1등실이 상당수를 차지`하고 있었으며, 어떤 객실에는 개인 산책로가 있었다. <br>\n",
    "   레스토랑과 카페도 있었다. 이 갑판에는 선두와 선미 윗쪽도 포함하고 있는데, 선미는 3등실 산책로로 쓰였다\n",
    "- **C 갑판** - 배에서 선수, 선미와 분리되는 지점이자 하얗게 칠한 곳이 시작하는 지점으로, <br>\n",
    "   3등실의 산책로로 쓰이고 선수와 선미로 각각 이어지는 요갑판과 이어져 있었다. <br>\n",
    "   `선수는 주로 선원들의 숙소`로 쓰였고, 선미는 3등실 전용 휴게실과 흡연실이 있었다. 그 사이에는 `1등실 객실과 2등실 도서관`이 있었다.\n",
    "- **D 갑판** - 3개의 넓은 공공시설이 상당부분을 차지하고 있었는데, 1등실 대합실, 1등실 식당과 2등실 식당이 있었다. <br>\n",
    "   3등실을 위한 열린 공간도 있어서 밤만 되면 신나는 연회가 열렸다. `1등실, 2등실, 3등실 객실`과 화부 숙소가 있던 곳이기도 했다. <br>\n",
    "   `방수격벽이 위치해 있던 가장 높은 갑판` 이기도 했다.\n",
    "- **E 갑판** - 주로 `1등실, 2등실, 3등실 모두의 객실과 선원 숙소`가 있었다. <br>\n",
    "   \"스코틀랜드 로드\"라고 불리던 아주 긴 복도가 있어 선원과 승객이 오고갈수 있었다.<br>\n",
    "   (스코틀랜드 로드는 후에 타이타닉 선체 내부에 물이 들어차기 시작했을때 E갑판의 선수쪽 전체를 침수시키고 방수격실을 무력화시키는 원인 중 하나였다.)\n",
    "- **F 갑판** - 객실은 `3등실이 대부분`을 차지했지만 `2등실 객실과 선원 숙소`도 있었다. <br>\n",
    "   3등실 식당은 여기에 위치했다. 또 1등실 승객을 위한 수영장과 터키탕도 있었다.\n",
    "- **G 갑판** - 수면 위에서 가장 낮은 층으로, `선원과 승객 객실이 있는 가장 낮은 갑판`이었다. <br>\n",
    "   스쿼시 코트도 있었으며 우편 저장소도 여기에 있었다. 대다수의 영역이 보일러실이 있는 최하 갑판과 겹쳐 있어 선미와 후미가 각각 따로 떨어져 막혀 있었다.\n",
    "- **최하 갑판** : 주로 창고가 대부분이었다.\n",
    "- **탱크 톱** : 보일러실과 기관실이 있었다."
   ]
  },
  {
   "cell_type": "markdown",
   "metadata": {},
   "source": [
    "##### Pclass와 Cabin을 이용해 갑판(Deck) 특성을 만듭니다."
   ]
  },
  {
   "cell_type": "markdown",
   "metadata": {},
   "source": [
    "Cabin으로 부터 Deck 특성을 추출하고,<br>\n",
    "Pclass를 숫자형 범주 값으로 변경한 후 Deck의 누락된 데이터를 Pclass 중간값으로 채웁니다."
   ]
  },
  {
   "cell_type": "code",
   "execution_count": 22,
   "metadata": {},
   "outputs": [
    {
     "data": {
      "text/plain": [
       "C    94\n",
       "B    65\n",
       "D    46\n",
       "E    41\n",
       "A    22\n",
       "F    21\n",
       "G     5\n",
       "T     1\n",
       "Name: Deck, dtype: int64"
      ]
     },
     "execution_count": 22,
     "metadata": {},
     "output_type": "execute_result"
    }
   ],
   "source": [
    "titanic_data[\"Deck\"] = titanic_data.Cabin.str[0]\n",
    "titanic_data[\"Deck\"].value_counts()"
   ]
  },
  {
   "cell_type": "code",
   "execution_count": 23,
   "metadata": {},
   "outputs": [],
   "source": [
    "titanic_data[\"Deck\"].replace(['A', 'B', 'C', 'D', 'E', 'F', 'G', 'T'], [1, 2, 3, 4, 5, 6, 7, 8], inplace=True)"
   ]
  },
  {
   "cell_type": "code",
   "execution_count": 24,
   "metadata": {},
   "outputs": [
    {
     "data": {
      "text/plain": [
       "6.0    968\n",
       "3.0    161\n",
       "2.0     65\n",
       "4.0     46\n",
       "5.0     41\n",
       "1.0     22\n",
       "7.0      5\n",
       "8.0      1\n",
       "Name: Deck, dtype: int64"
      ]
     },
     "execution_count": 24,
     "metadata": {},
     "output_type": "execute_result"
    }
   ],
   "source": [
    "titanic_data[\"Deck\"].fillna(titanic_data.groupby(\"Pclass\")[\"Deck\"].transform(\"median\"), inplace=True)\n",
    "titanic_data[\"Deck\"].value_counts()"
   ]
  },
  {
   "cell_type": "markdown",
   "metadata": {},
   "source": [
    "##### 숫자형 Age 특성으로 부터 범주형 AgeBucket을 만듭니다."
   ]
  },
  {
   "cell_type": "code",
   "execution_count": 25,
   "metadata": {},
   "outputs": [
    {
     "data": {
      "text/html": [
       "<div>\n",
       "<style scoped>\n",
       "    .dataframe tbody tr th:only-of-type {\n",
       "        vertical-align: middle;\n",
       "    }\n",
       "\n",
       "    .dataframe tbody tr th {\n",
       "        vertical-align: top;\n",
       "    }\n",
       "\n",
       "    .dataframe thead th {\n",
       "        text-align: right;\n",
       "    }\n",
       "</style>\n",
       "<table border=\"1\" class=\"dataframe\">\n",
       "  <thead>\n",
       "    <tr style=\"text-align: right;\">\n",
       "      <th></th>\n",
       "      <th>Survived</th>\n",
       "    </tr>\n",
       "    <tr>\n",
       "      <th>AgeBucket</th>\n",
       "      <th></th>\n",
       "    </tr>\n",
       "  </thead>\n",
       "  <tbody>\n",
       "    <tr>\n",
       "      <th>0.0</th>\n",
       "      <td>0.573171</td>\n",
       "    </tr>\n",
       "    <tr>\n",
       "      <th>15.0</th>\n",
       "      <td>0.318872</td>\n",
       "    </tr>\n",
       "    <tr>\n",
       "      <th>30.0</th>\n",
       "      <td>0.452586</td>\n",
       "    </tr>\n",
       "    <tr>\n",
       "      <th>45.0</th>\n",
       "      <td>0.400000</td>\n",
       "    </tr>\n",
       "    <tr>\n",
       "      <th>60.0</th>\n",
       "      <td>0.240000</td>\n",
       "    </tr>\n",
       "    <tr>\n",
       "      <th>75.0</th>\n",
       "      <td>1.000000</td>\n",
       "    </tr>\n",
       "  </tbody>\n",
       "</table>\n",
       "</div>"
      ],
      "text/plain": [
       "           Survived\n",
       "AgeBucket          \n",
       "0.0        0.573171\n",
       "15.0       0.318872\n",
       "30.0       0.452586\n",
       "45.0       0.400000\n",
       "60.0       0.240000\n",
       "75.0       1.000000"
      ]
     },
     "execution_count": 25,
     "metadata": {},
     "output_type": "execute_result"
    }
   ],
   "source": [
    "# 간단하게 일정 구간을 나눠서 범주형으로 변환할 수도 있습니다.\n",
    "titanic_data[\"AgeBucket\"] = titanic_data[\"Age\"] // 15 * 15\n",
    "titanic_data[[\"AgeBucket\", \"Survived\"]].groupby(['AgeBucket']).mean()"
   ]
  },
  {
   "cell_type": "markdown",
   "metadata": {},
   "source": [
    "AgeBucket을 좀더 정확한 범주형 특성으로 만들기 위해 Age의 구간별 특성을 분석해봅니다."
   ]
  },
  {
   "cell_type": "code",
   "execution_count": 26,
   "metadata": {},
   "outputs": [
    {
     "data": {
      "text/plain": [
       "<seaborn.axisgrid.FacetGrid at 0x12121ee48>"
      ]
     },
     "execution_count": 26,
     "metadata": {},
     "output_type": "execute_result"
    },
    {
     "data": {
      "image/png": "[encoded data removed]",
      "text/plain": [
       "<Figure size 918.975x216 with 1 Axes>"
      ]
     },
     "metadata": {
      "needs_background": "light"
     },
     "output_type": "display_data"
    }
   ],
   "source": [
    "facet = sns.FacetGrid(titanic_data, hue=\"Survived\", aspect=4)\n",
    "facet.map(sns.kdeplot, 'Age', shade= True)\n",
    "facet.set(xlim=(0, train_data['Age'].max()))\n",
    "facet.add_legend()"
   ]
  },
  {
   "cell_type": "code",
   "execution_count": 27,
   "metadata": {},
   "outputs": [
    {
     "data": {
      "text/plain": [
       "(0, 20)"
      ]
     },
     "execution_count": 27,
     "metadata": {},
     "output_type": "execute_result"
    },
    {
     "data": {
      "image/png": "[encoded data removed]",
      "text/plain": [
       "<Figure size 918.975x216 with 1 Axes>"
      ]
     },
     "metadata": {
      "needs_background": "light"
     },
     "output_type": "display_data"
    }
   ],
   "source": [
    "facet = sns.FacetGrid(titanic_data, hue=\"Survived\", aspect=4)\n",
    "facet.map(sns.kdeplot, 'Age', shade= True)\n",
    "facet.set(xlim=(0, train_data['Age'].max()))\n",
    "facet.add_legend()\n",
    "plt.xlim(0, 20)"
   ]
  },
  {
   "cell_type": "code",
   "execution_count": 28,
   "metadata": {},
   "outputs": [
    {
     "data": {
      "text/plain": [
       "(20, 40)"
      ]
     },
     "execution_count": 28,
     "metadata": {},
     "output_type": "execute_result"
    },
    {
     "data": {
      "image/png": "[encoded data removed]",
      "text/plain": [
       "<Figure size 918.975x216 with 1 Axes>"
      ]
     },
     "metadata": {
      "needs_background": "light"
     },
     "output_type": "display_data"
    }
   ],
   "source": [
    "facet = sns.FacetGrid(titanic_data, hue=\"Survived\", aspect=4)\n",
    "facet.map(sns.kdeplot, 'Age', shade= True)\n",
    "facet.set(xlim=(0, train_data['Age'].max()))\n",
    "facet.add_legend()\n",
    "plt.xlim(20, 40)"
   ]
  },
  {
   "cell_type": "code",
   "execution_count": 29,
   "metadata": {},
   "outputs": [
    {
     "data": {
      "text/plain": [
       "(40, 60)"
      ]
     },
     "execution_count": 29,
     "metadata": {},
     "output_type": "execute_result"
    },
    {
     "data": {
      "image/png": "[encoded data removed]",
      "text/plain": [
       "<Figure size 918.975x216 with 1 Axes>"
      ]
     },
     "metadata": {
      "needs_background": "light"
     },
     "output_type": "display_data"
    }
   ],
   "source": [
    "facet = sns.FacetGrid(titanic_data, hue=\"Survived\", aspect=4)\n",
    "facet.map(sns.kdeplot, 'Age', shade= True)\n",
    "facet.set(xlim=(0, train_data['Age'].max()))\n",
    "facet.add_legend()\n",
    "plt.xlim(40, 60)"
   ]
  },
  {
   "cell_type": "code",
   "execution_count": 30,
   "metadata": {
    "scrolled": true
   },
   "outputs": [
    {
     "data": {
      "text/plain": [
       "(60, 80)"
      ]
     },
     "execution_count": 30,
     "metadata": {},
     "output_type": "execute_result"
    },
    {
     "data": {
      "image/png": "[encoded data removed]",
      "text/plain": [
       "<Figure size 918.975x216 with 1 Axes>"
      ]
     },
     "metadata": {
      "needs_background": "light"
     },
     "output_type": "display_data"
    }
   ],
   "source": [
    "facet = sns.FacetGrid(titanic_data, hue=\"Survived\", aspect=4)\n",
    "facet.map(sns.kdeplot, 'Age', shade= True)\n",
    "facet.set(xlim=(0, train_data['Age'].max()))\n",
    "facet.add_legend()\n",
    "plt.xlim(60, 80)"
   ]
  },
  {
   "cell_type": "markdown",
   "metadata": {},
   "source": [
    "생존자와 사망자의 비율이 변동되는 나이를 기준으로 Age의 그룹을 나누어 AgeBucket을 만듭니다."
   ]
  },
  {
   "cell_type": "code",
   "execution_count": 31,
   "metadata": {},
   "outputs": [
    {
     "data": {
      "text/plain": [
       "1.0     772\n",
       "30.0    198\n",
       "0.0     162\n",
       "3.0     115\n",
       "4.0      33\n",
       "45.0     29\n",
       "Name: AgeBucket, dtype: int64"
      ]
     },
     "execution_count": 31,
     "metadata": {},
     "output_type": "execute_result"
    }
   ],
   "source": [
    "titanic_data.loc[titanic_data['Age'] <= 17, 'AgeBucket'] = 0\n",
    "titanic_data.loc[(titanic_data['Age'] > 17) & (titanic_data['Age'] <= 34), 'AgeBucket'] = 1\n",
    "titanic_data.loc[(titanic_data['Age'] > 34) & (titanic_data['Age'] <= 26), 'AgeBucket'] = 2\n",
    "titanic_data.loc[(titanic_data['Age'] > 46) & (titanic_data['Age'] <= 60), 'AgeBucket'] = 3\n",
    "titanic_data.loc[titanic_data['Age'] > 60, 'AgeBucket'] = 4\n",
    "\n",
    "titanic_data[\"AgeBucket\"].value_counts()"
   ]
  },
  {
   "cell_type": "markdown",
   "metadata": {},
   "source": [
    "##### 형제배우자와 부모자녀 특성을 더해서 FamilySize 특성을 만듭니다."
   ]
  },
  {
   "cell_type": "code",
   "execution_count": 32,
   "metadata": {},
   "outputs": [
    {
     "data": {
      "text/html": [
       "<div>\n",
       "<style scoped>\n",
       "    .dataframe tbody tr th:only-of-type {\n",
       "        vertical-align: middle;\n",
       "    }\n",
       "\n",
       "    .dataframe tbody tr th {\n",
       "        vertical-align: top;\n",
       "    }\n",
       "\n",
       "    .dataframe thead th {\n",
       "        text-align: right;\n",
       "    }\n",
       "</style>\n",
       "<table border=\"1\" class=\"dataframe\">\n",
       "  <thead>\n",
       "    <tr style=\"text-align: right;\">\n",
       "      <th></th>\n",
       "      <th>Survived</th>\n",
       "    </tr>\n",
       "    <tr>\n",
       "      <th>FamilySize</th>\n",
       "      <th></th>\n",
       "    </tr>\n",
       "  </thead>\n",
       "  <tbody>\n",
       "    <tr>\n",
       "      <th>0</th>\n",
       "      <td>0.303538</td>\n",
       "    </tr>\n",
       "    <tr>\n",
       "      <th>1</th>\n",
       "      <td>0.552795</td>\n",
       "    </tr>\n",
       "    <tr>\n",
       "      <th>2</th>\n",
       "      <td>0.578431</td>\n",
       "    </tr>\n",
       "    <tr>\n",
       "      <th>3</th>\n",
       "      <td>0.724138</td>\n",
       "    </tr>\n",
       "    <tr>\n",
       "      <th>4</th>\n",
       "      <td>0.200000</td>\n",
       "    </tr>\n",
       "    <tr>\n",
       "      <th>5</th>\n",
       "      <td>0.136364</td>\n",
       "    </tr>\n",
       "    <tr>\n",
       "      <th>6</th>\n",
       "      <td>0.333333</td>\n",
       "    </tr>\n",
       "    <tr>\n",
       "      <th>7</th>\n",
       "      <td>0.000000</td>\n",
       "    </tr>\n",
       "    <tr>\n",
       "      <th>10</th>\n",
       "      <td>0.000000</td>\n",
       "    </tr>\n",
       "  </tbody>\n",
       "</table>\n",
       "</div>"
      ],
      "text/plain": [
       "            Survived\n",
       "FamilySize          \n",
       "0           0.303538\n",
       "1           0.552795\n",
       "2           0.578431\n",
       "3           0.724138\n",
       "4           0.200000\n",
       "5           0.136364\n",
       "6           0.333333\n",
       "7           0.000000\n",
       "10          0.000000"
      ]
     },
     "execution_count": 32,
     "metadata": {},
     "output_type": "execute_result"
    }
   ],
   "source": [
    "titanic_data[\"FamilySize\"] = titanic_data[\"SibSp\"] + titanic_data[\"Parch\"]\n",
    "titanic_data[[\"FamilySize\", \"Survived\"]].groupby(['FamilySize']).mean()"
   ]
  },
  {
   "cell_type": "markdown",
   "metadata": {},
   "source": [
    "##### Ticket을 분석해서 TicketNumber와 TicketCode를 만듭니다."
   ]
  },
  {
   "cell_type": "code",
   "execution_count": 33,
   "metadata": {},
   "outputs": [
    {
     "data": {
      "text/plain": [
       "CA. 2343         11\n",
       "CA 2144           8\n",
       "1601              8\n",
       "3101295           7\n",
       "347077            7\n",
       "347082            7\n",
       "PC 17608          7\n",
       "S.O.C. 14879      7\n",
       "113781            6\n",
       "382652            6\n",
       "347088            6\n",
       "19950             6\n",
       "349909            5\n",
       "PC 17757          5\n",
       "16966             5\n",
       "4133              5\n",
       "113503            5\n",
       "220845            5\n",
       "W./C. 6608        5\n",
       "W./C. 6607        4\n",
       "SC/Paris 2123     4\n",
       "LINE              4\n",
       "113760            4\n",
       "12749             4\n",
       "PC 17760          4\n",
       "24160             4\n",
       "36928             4\n",
       "PC 17483          4\n",
       "2666              4\n",
       "PC 17755          4\n",
       "Name: Ticket, dtype: int64"
      ]
     },
     "execution_count": 33,
     "metadata": {},
     "output_type": "execute_result"
    }
   ],
   "source": [
    "titanic_data[\"Ticket\"].value_counts()[:30]"
   ]
  },
  {
   "cell_type": "markdown",
   "metadata": {},
   "source": [
    "Ticket 컬럼을 보면 알파벳 코드가 있는 티켓과 없는 티켓이 있고, 일정한 범위의 숫자로 구성된 것으로 보입니다.<br>\n",
    "\"LINE\" 처럼 숫자가 없는 문자로 만 구성된 Ticket도 보입니다.\n",
    "\n",
    "알파벳 코드와 티켓 일련번호를 공백을 기준으로 구분해봅니다. 코드가 없는 데이터는 \"NoCode\"로 대체 합니다."
   ]
  },
  {
   "cell_type": "code",
   "execution_count": 34,
   "metadata": {
    "scrolled": true
   },
   "outputs": [],
   "source": [
    "titanic_data[\"TicketNumber\"] = titanic_data[\"Ticket\"].apply(lambda x: x.split()[-1])\n",
    "titanic_data[\"TicketNumber\"] = titanic_data[\"TicketNumber\"].replace(\"LINE\", \"0\")\n",
    "\n",
    "titanic_data[\"TicketCode\"] = titanic_data[\"Ticket\"].apply(lambda x: x.split()[0] if len(x.split())!= 1 else \"NoCode\")"
   ]
  },
  {
   "cell_type": "code",
   "execution_count": 35,
   "metadata": {},
   "outputs": [
    {
     "data": {
      "text/plain": [
       "NoCode        961\n",
       "PC             92\n",
       "C.A.           46\n",
       "SOTON/O.Q.     16\n",
       "STON/O         14\n",
       "W./C.          14\n",
       "A/5            12\n",
       "CA.            12\n",
       "SC/PARIS       11\n",
       "A/5.           10\n",
       "CA             10\n",
       "F.C.C.          9\n",
       "C               8\n",
       "SOTON/OQ        8\n",
       "S.O./P.P.       7\n",
       "STON/O2.        7\n",
       "S.O.C.          7\n",
       "A/4             6\n",
       "SC/AH           5\n",
       "SC/Paris        5\n",
       "Name: TicketCode, dtype: int64"
      ]
     },
     "execution_count": 35,
     "metadata": {},
     "output_type": "execute_result"
    }
   ],
   "source": [
    "titanic_data[\"TicketCode\"].value_counts()[:20]"
   ]
  },
  {
   "cell_type": "markdown",
   "metadata": {},
   "source": [
    "TicketCode는 의미를 해석할 수 없어서 일단 보류합니다."
   ]
  },
  {
   "cell_type": "markdown",
   "metadata": {},
   "source": [
    "##### TicketNumber를 티켓번호 구간을 기준으로 범주형으로 변환 합니다."
   ]
  },
  {
   "cell_type": "markdown",
   "metadata": {},
   "source": [
    "TicketNumber 데이터를 히스토그램으로 확인해봅니다."
   ]
  },
  {
   "cell_type": "code",
   "execution_count": 36,
   "metadata": {
    "scrolled": true
   },
   "outputs": [
    {
     "data": {
      "image/png": "[encoded data removed]",
      "text/plain": [
       "<Figure size 432x288 with 1 Axes>"
      ]
     },
     "metadata": {
      "needs_background": "light"
     },
     "output_type": "display_data"
    }
   ],
   "source": [
    "titanic_data[\"TicketNumber\"].astype('int64').hist(bins=100)\n",
    "plt.show()"
   ]
  },
  {
   "cell_type": "markdown",
   "metadata": {},
   "source": [
    "0부터 500,000 이하에 값이 집중되어 있고, 3,000,000 이상의 값도 일부 있습니다.<br>\n",
    "십만단위의 범위로 범주형 데이터를 만들어 봅니다."
   ]
  },
  {
   "cell_type": "code",
   "execution_count": 37,
   "metadata": {
    "scrolled": true
   },
   "outputs": [
    {
     "data": {
      "text/plain": [
       "0          643\n",
       "300000     380\n",
       "200000     125\n",
       "100000     101\n",
       "3100000     60\n",
       "Name: TicketNumber, dtype: int64"
      ]
     },
     "execution_count": 37,
     "metadata": {},
     "output_type": "execute_result"
    }
   ],
   "source": [
    "titanic_data[\"TicketNumber\"] = pd.to_numeric(titanic_data[\"TicketNumber\"]) // 100000 * 100000\n",
    "\n",
    "titanic_data[\"TicketNumber\"].value_counts()"
   ]
  },
  {
   "cell_type": "markdown",
   "metadata": {},
   "source": [
    "##### 숫자형 특성 Standardization(표준화)와 범주형 특성 OneHotEncoding을 수행 합니다."
   ]
  },
  {
   "cell_type": "code",
   "execution_count": 38,
   "metadata": {},
   "outputs": [],
   "source": [
    "# 이제 불필요한 특성을 지웁니다. (Age 특성을 AgeBucket과 함께 유지합니다.)\n",
    "titanic_data_imputed = titanic_data.drop([\"Cabin\", \"Name\", \"Parch\", \"SibSp\", \"PassengerId\", \"Survived\", \"Ticket\", \"TicketCode\"], axis=1)"
   ]
  },
  {
   "cell_type": "code",
   "execution_count": 39,
   "metadata": {
    "scrolled": false
   },
   "outputs": [
    {
     "name": "stdout",
     "output_type": "stream",
     "text": [
      "<class 'pandas.core.frame.DataFrame'>\n",
      "Int64Index: 1309 entries, 0 to 417\n",
      "Data columns (total 10 columns):\n",
      "Age             1309 non-null float64\n",
      "Embarked        1309 non-null object\n",
      "Fare            1309 non-null float64\n",
      "Pclass          1309 non-null int64\n",
      "Sex             1309 non-null object\n",
      "Initial         1309 non-null object\n",
      "Deck            1309 non-null float64\n",
      "AgeBucket       1309 non-null float64\n",
      "FamilySize      1309 non-null int64\n",
      "TicketNumber    1309 non-null int64\n",
      "dtypes: float64(4), int64(3), object(3)\n",
      "memory usage: 152.5+ KB\n"
     ]
    }
   ],
   "source": [
    "titanic_data_imputed.info()"
   ]
  },
  {
   "cell_type": "code",
   "execution_count": 40,
   "metadata": {},
   "outputs": [
    {
     "data": {
      "text/plain": [
       "Index(['Age', 'Embarked', 'Fare', 'Pclass', 'Sex', 'Initial', 'Deck',\n",
       "       'AgeBucket', 'FamilySize', 'TicketNumber'],\n",
       "      dtype='object')"
      ]
     },
     "execution_count": 40,
     "metadata": {},
     "output_type": "execute_result"
    }
   ],
   "source": [
    "titanic_data_imputed.columns"
   ]
  },
  {
   "cell_type": "markdown",
   "metadata": {},
   "source": [
    "숫자 특성을 표준화 하는 파이프라인과 범주형 특성을 OneHotEncoding 하는 파이프라인 각각 만들고,<br>\n",
    "사이킷런의 **`ColumnTransformer`** 클래스를 사용하여 두 개의 파이프라인을 연결합니다.\n",
    "\n",
    "`StandardScaler`는 숫자형 데이터를 표준편차가 1이 되도록 조정 합니다.<br>\n",
    "`OneHotEncoder`는 정수형 또는 문자열 범주에 대해 각 범주형 값을 원-핫 벡터로 변경합니다."
   ]
  },
  {
   "cell_type": "code",
   "execution_count": 41,
   "metadata": {},
   "outputs": [],
   "source": [
    "from sklearn.pipeline import Pipeline\n",
    "from sklearn.compose import ColumnTransformer\n",
    "from sklearn.preprocessing import StandardScaler\n",
    "from sklearn.preprocessing import OneHotEncoder\n",
    "\n",
    "num_pipeline = Pipeline([\n",
    "        (\"std_scaler\", StandardScaler()),\n",
    "    ])\n",
    "\n",
    "cat_pipeline = Pipeline([\n",
    "        (\"cat_encoder\", OneHotEncoder(sparse=False)),\n",
    "    ])\n",
    "\n",
    "preprocess_pipeline = ColumnTransformer([\n",
    "        (\"num_pipeline\", num_pipeline, [\"Age\", \"Fare\"]),\n",
    "        (\"cat_pipeline\", cat_pipeline, ['Embarked', 'Pclass', 'Sex', 'Initial', 'Deck', 'AgeBucket', 'FamilySize', 'TicketNumber']),\n",
    "    ])"
   ]
  },
  {
   "cell_type": "code",
   "execution_count": 42,
   "metadata": {},
   "outputs": [
    {
     "data": {
      "text/plain": [
       "(1309, 44)"
      ]
     },
     "execution_count": 42,
     "metadata": {},
     "output_type": "execute_result"
    }
   ],
   "source": [
    "titanic_data_preprocessed = preprocess_pipeline.fit_transform(titanic_data_imputed)\n",
    "titanic_data_preprocessed.shape"
   ]
  },
  {
   "cell_type": "markdown",
   "metadata": {},
   "source": [
    "##### 전처리가 끝난 titanic_data에서 훈련 데이터와 테스트 데이터를 분리 합니다."
   ]
  },
  {
   "cell_type": "code",
   "execution_count": 43,
   "metadata": {},
   "outputs": [],
   "source": [
    "# 훈련 데이터와 테스트 데이터로 구분합니다.\n",
    "X_train = titanic_data_preprocessed[:891]\n",
    "X_test = titanic_data_preprocessed[891:]\n",
    "\n",
    "# 훈련 데이터에 대한 레이블을 추출합니다.\n",
    "y_train = train_data[\"Survived\"]"
   ]
  },
  {
   "cell_type": "markdown",
   "metadata": {},
   "source": [
    "이제 원본 데이터를 받아 머신러닝 모델에 주입할 숫자 입력 특성으로 구성된 훈련 세트와 테스트 세트가 만들어졌습니다."
   ]
  },
  {
   "cell_type": "markdown",
   "metadata": {},
   "source": [
    "#### 모델을 훈련 합니다."
   ]
  },
  {
   "cell_type": "markdown",
   "metadata": {},
   "source": [
    "이제 분류기를 훈련시킬 차례입니다."
   ]
  },
  {
   "cell_type": "code",
   "execution_count": 44,
   "metadata": {},
   "outputs": [],
   "source": [
    "from sklearn.svm import SVC\n",
    "from sklearn.neighbors import KNeighborsClassifier\n",
    "from sklearn.ensemble import RandomForestClassifier\n",
    "from sklearn.tree import DecisionTreeClassifier\n",
    "from sklearn.model_selection import KFold\n",
    "from sklearn.model_selection import cross_val_score\n",
    "\n",
    "k_fold = KFold(n_splits=10, shuffle=True, random_state=42)"
   ]
  },
  {
   "cell_type": "markdown",
   "metadata": {},
   "source": [
    "##### SVM"
   ]
  },
  {
   "cell_type": "markdown",
   "metadata": {},
   "source": [
    "먼저 `SVC`를 사용해 보겠습니다."
   ]
  },
  {
   "cell_type": "code",
   "execution_count": 45,
   "metadata": {},
   "outputs": [
    {
     "data": {
      "text/plain": [
       "SVC(C=1.0, cache_size=200, class_weight=None, coef0=0.0,\n",
       "  decision_function_shape='ovr', degree=3, gamma='auto', kernel='rbf',\n",
       "  max_iter=-1, probability=False, random_state=None, shrinking=True,\n",
       "  tol=0.001, verbose=False)"
      ]
     },
     "execution_count": 45,
     "metadata": {},
     "output_type": "execute_result"
    }
   ],
   "source": [
    "svm_clf = SVC(gamma='auto')\n",
    "svm_clf.fit(X_train, y_train)"
   ]
  },
  {
   "cell_type": "markdown",
   "metadata": {},
   "source": [
    "훈련된 모델을 사용해서 테스트 세트에 대한 예측을 만들어 Kaggle에 바로 업로드 할 수 있지만, <br>\n",
    "교차 검증으로 모델이 얼마나 좋은지 평가해봅니다.<br>\n",
    "정밀도, 재현율, F1 점수도 확인해봅니다."
   ]
  },
  {
   "cell_type": "code",
   "execution_count": 46,
   "metadata": {},
   "outputs": [
    {
     "data": {
      "text/plain": [
       "0.8024469413233458"
      ]
     },
     "execution_count": 46,
     "metadata": {},
     "output_type": "execute_result"
    }
   ],
   "source": [
    "svm_scores = cross_val_score(svm_clf, X_train, y_train, cv=k_fold, n_jobs=1, scoring='accuracy')\n",
    "svm_scores.mean()"
   ]
  },
  {
   "cell_type": "code",
   "execution_count": 47,
   "metadata": {},
   "outputs": [],
   "source": [
    "from sklearn.model_selection import cross_val_predict\n",
    "\n",
    "y_train_svc = cross_val_predict(svm_clf, X_train, y_train, cv=10)"
   ]
  },
  {
   "cell_type": "code",
   "execution_count": 48,
   "metadata": {},
   "outputs": [
    {
     "data": {
      "text/plain": [
       "array([[468,  81],\n",
       "       [ 95, 247]])"
      ]
     },
     "execution_count": 48,
     "metadata": {},
     "output_type": "execute_result"
    }
   ],
   "source": [
    "from sklearn.metrics import confusion_matrix\n",
    "\n",
    "confusion_matrix(y_train, y_train_svc)"
   ]
  },
  {
   "cell_type": "code",
   "execution_count": 49,
   "metadata": {},
   "outputs": [
    {
     "data": {
      "text/plain": [
       "0.7530487804878049"
      ]
     },
     "execution_count": 49,
     "metadata": {},
     "output_type": "execute_result"
    }
   ],
   "source": [
    "from sklearn.metrics import precision_score, recall_score\n",
    "\n",
    "precision_score(y_train, y_train_svc)"
   ]
  },
  {
   "cell_type": "code",
   "execution_count": 50,
   "metadata": {},
   "outputs": [
    {
     "data": {
      "text/plain": [
       "0.7222222222222222"
      ]
     },
     "execution_count": 50,
     "metadata": {},
     "output_type": "execute_result"
    }
   ],
   "source": [
    "recall_score(y_train, y_train_svc)"
   ]
  },
  {
   "cell_type": "code",
   "execution_count": 51,
   "metadata": {},
   "outputs": [
    {
     "data": {
      "text/plain": [
       "0.7373134328358208"
      ]
     },
     "execution_count": 51,
     "metadata": {},
     "output_type": "execute_result"
    }
   ],
   "source": [
    "from sklearn.metrics import f1_score\n",
    "\n",
    "f1_score(y_train, y_train_svc)"
   ]
  },
  {
   "cell_type": "markdown",
   "metadata": {},
   "source": [
    "정확도 79%, 정밀도 75% 수준 입니다. 무작위로 선택한 것보다는 좋지만 아주 높은 점수는 아닙니다.<br>\n",
    "캐글에서 타이타닉 경연 대회의 [리더보드](https://www.kaggle.com/c/titanic/leaderboard)를 보면 상위 10%내에 들려면 80% 이상의 정확도를 내야합니다.\n",
    "\n",
    "다른 알고리즘들을 적용해 좀 더 정확도를 개선한 모델을 만들어 보겠습니다."
   ]
  },
  {
   "cell_type": "markdown",
   "metadata": {},
   "source": [
    "##### kNN"
   ]
  },
  {
   "cell_type": "code",
   "execution_count": 52,
   "metadata": {},
   "outputs": [
    {
     "data": {
      "text/plain": [
       "0.8058676654182273"
      ]
     },
     "execution_count": 52,
     "metadata": {},
     "output_type": "execute_result"
    }
   ],
   "source": [
    "knn_clf = KNeighborsClassifier(n_neighbors = 10)\n",
    "knn_scores = cross_val_score(knn_clf, X_train, y_train, cv=k_fold, n_jobs=1, scoring='accuracy')\n",
    "knn_scores.mean()"
   ]
  },
  {
   "cell_type": "code",
   "execution_count": 53,
   "metadata": {},
   "outputs": [
    {
     "data": {
      "text/plain": [
       "0.832089552238806"
      ]
     },
     "execution_count": 53,
     "metadata": {},
     "output_type": "execute_result"
    }
   ],
   "source": [
    "y_train_knn = cross_val_predict(knn_clf, X_train, y_train, cv=10)\n",
    "precision_score(y_train, y_train_knn)"
   ]
  },
  {
   "cell_type": "code",
   "execution_count": 54,
   "metadata": {},
   "outputs": [
    {
     "data": {
      "text/plain": [
       "0.7311475409836066"
      ]
     },
     "execution_count": 54,
     "metadata": {},
     "output_type": "execute_result"
    }
   ],
   "source": [
    "f1_score(y_train, y_train_knn)"
   ]
  },
  {
   "cell_type": "markdown",
   "metadata": {},
   "source": [
    "##### Decision Tree"
   ]
  },
  {
   "cell_type": "code",
   "execution_count": 55,
   "metadata": {},
   "outputs": [
    {
     "data": {
      "text/plain": [
       "0.7810861423220973"
      ]
     },
     "execution_count": 55,
     "metadata": {},
     "output_type": "execute_result"
    }
   ],
   "source": [
    "decision_clf = DecisionTreeClassifier()\n",
    "decision_scores = cross_val_score(decision_clf, X_train, y_train, cv=k_fold, n_jobs=1, scoring='accuracy')\n",
    "decision_scores.mean()"
   ]
  },
  {
   "cell_type": "code",
   "execution_count": 56,
   "metadata": {},
   "outputs": [
    {
     "data": {
      "text/plain": [
       "0.7201166180758017"
      ]
     },
     "execution_count": 56,
     "metadata": {},
     "output_type": "execute_result"
    }
   ],
   "source": [
    "y_train_decision = cross_val_predict(decision_clf, X_train, y_train, cv=10)\n",
    "precision_score(y_train, y_train_decision)"
   ]
  },
  {
   "cell_type": "code",
   "execution_count": 57,
   "metadata": {},
   "outputs": [
    {
     "data": {
      "text/plain": [
       "0.7211678832116788"
      ]
     },
     "execution_count": 57,
     "metadata": {},
     "output_type": "execute_result"
    }
   ],
   "source": [
    "f1_score(y_train, y_train_decision)"
   ]
  },
  {
   "cell_type": "markdown",
   "metadata": {},
   "source": [
    "##### Ramdom Forest"
   ]
  },
  {
   "cell_type": "code",
   "execution_count": 58,
   "metadata": {},
   "outputs": [
    {
     "data": {
      "text/plain": [
       "0.7990761548064919"
      ]
     },
     "execution_count": 58,
     "metadata": {},
     "output_type": "execute_result"
    }
   ],
   "source": [
    "forest_clf = RandomForestClassifier(n_estimators=10, random_state=42)\n",
    "forest_scores = cross_val_score(forest_clf, X_train, y_train, cv=k_fold, n_jobs=1, scoring='accuracy')\n",
    "forest_scores.mean()"
   ]
  },
  {
   "cell_type": "code",
   "execution_count": 59,
   "metadata": {},
   "outputs": [
    {
     "data": {
      "text/plain": [
       "0.7580645161290323"
      ]
     },
     "execution_count": 59,
     "metadata": {},
     "output_type": "execute_result"
    }
   ],
   "source": [
    "y_train_forest = cross_val_predict(forest_clf, X_train, y_train, cv=10)\n",
    "precision_score(y_train, y_train_forest)"
   ]
  },
  {
   "cell_type": "code",
   "execution_count": 60,
   "metadata": {},
   "outputs": [
    {
     "data": {
      "text/plain": [
       "0.7208588957055215"
      ]
     },
     "execution_count": 60,
     "metadata": {},
     "output_type": "execute_result"
    }
   ],
   "source": [
    "f1_score(y_train, y_train_forest)"
   ]
  },
  {
   "cell_type": "markdown",
   "metadata": {},
   "source": [
    "##### 그리드 탐색으로 최적의 하이퍼파라미터를 튜닝 해봅니다."
   ]
  },
  {
   "cell_type": "code",
   "execution_count": 61,
   "metadata": {},
   "outputs": [],
   "source": [
    "from sklearn.model_selection import GridSearchCV"
   ]
  },
  {
   "cell_type": "markdown",
   "metadata": {},
   "source": [
    "**그리드 탐색으로 `RandomForestClassifier` 하이퍼파라미터를 튜닝 해봅니다.**"
   ]
  },
  {
   "cell_type": "code",
   "execution_count": 62,
   "metadata": {},
   "outputs": [
    {
     "data": {
      "text/plain": [
       "GridSearchCV(cv=10, error_score='raise-deprecating',\n",
       "       estimator=RandomForestClassifier(bootstrap=True, class_weight=None, criterion='gini',\n",
       "            max_depth=None, max_features='auto', max_leaf_nodes=None,\n",
       "            min_impurity_decrease=0.0, min_impurity_split=None,\n",
       "            min_samples_leaf=1, min_samples_split=2,\n",
       "            min_weight_fraction_leaf=0.0, n_estimators='warn', n_jobs=None,\n",
       "            oob_score=False, random_state=42, verbose=0, warm_start=False),\n",
       "       fit_params=None, iid=False, n_jobs=None,\n",
       "       param_grid=[{'n_estimators': [3, 10, 20, 30, 40, 50], 'max_features': [10, 15, 20, 25, 30, 40], 'max_leaf_nodes': [5, 10, 20, 30, 40]}, {'n_estimators': [3, 10, 20, 30, 40], 'max_features': [10, 20, 25, 30, 35, 40, 42], 'min_samples_leaf': [1, 5, 10, 15]}],\n",
       "       pre_dispatch='2*n_jobs', refit=True, return_train_score=True,\n",
       "       scoring='neg_mean_squared_error', verbose=0)"
      ]
     },
     "execution_count": 62,
     "metadata": {},
     "output_type": "execute_result"
    }
   ],
   "source": [
    "param_grid = [\n",
    "    {'n_estimators': [3, 10, 20, 30, 40, 50], 'max_features': [10, 15, 20, 25, 30, 40], 'max_leaf_nodes': [5, 10, 20, 30, 40]},\n",
    "    {'n_estimators': [3, 10, 20, 30, 40], 'max_features': [10, 20, 25, 30, 35, 40, 42], 'min_samples_leaf': [1, 5, 10, 15]},\n",
    "]\n",
    "\n",
    "forest_clf = RandomForestClassifier(random_state=42)\n",
    "\n",
    "grid_search_forest = GridSearchCV(forest_clf, param_grid, cv=10, iid=False,\n",
    "                          scoring='neg_mean_squared_error',\n",
    "                          return_train_score=True)\n",
    "\n",
    "grid_search_forest.fit(X_train, y_train)"
   ]
  },
  {
   "cell_type": "code",
   "execution_count": 63,
   "metadata": {},
   "outputs": [
    {
     "data": {
      "text/plain": [
       "{'max_features': 20, 'max_leaf_nodes': 40, 'n_estimators': 50}"
      ]
     },
     "execution_count": 63,
     "metadata": {},
     "output_type": "execute_result"
    }
   ],
   "source": [
    "grid_search_forest.best_params_"
   ]
  },
  {
   "cell_type": "code",
   "execution_count": 64,
   "metadata": {
    "scrolled": true
   },
   "outputs": [
    {
     "data": {
      "text/plain": [
       "RandomForestClassifier(bootstrap=True, class_weight=None, criterion='gini',\n",
       "            max_depth=None, max_features=20, max_leaf_nodes=40,\n",
       "            min_impurity_decrease=0.0, min_impurity_split=None,\n",
       "            min_samples_leaf=1, min_samples_split=2,\n",
       "            min_weight_fraction_leaf=0.0, n_estimators=50, n_jobs=None,\n",
       "            oob_score=False, random_state=42, verbose=0, warm_start=False)"
      ]
     },
     "execution_count": 64,
     "metadata": {},
     "output_type": "execute_result"
    }
   ],
   "source": [
    "best_estimator_forest = grid_search_forest.best_estimator_\n",
    "best_estimator_forest"
   ]
  },
  {
   "cell_type": "code",
   "execution_count": 65,
   "metadata": {},
   "outputs": [
    {
     "data": {
      "text/plain": [
       "0.8282521847690386"
      ]
     },
     "execution_count": 65,
     "metadata": {},
     "output_type": "execute_result"
    }
   ],
   "source": [
    "best_scores_forest = cross_val_score(best_estimator_forest, X_train, y_train, cv=k_fold, n_jobs=1, scoring='accuracy')\n",
    "best_scores_forest.mean()"
   ]
  },
  {
   "cell_type": "markdown",
   "metadata": {},
   "source": [
    "**그리드 탐색으로 `KNeighborsClassifier` 하이퍼파라미터를 튜닝 해봅니다.**"
   ]
  },
  {
   "cell_type": "code",
   "execution_count": 66,
   "metadata": {},
   "outputs": [
    {
     "data": {
      "text/plain": [
       "GridSearchCV(cv=10, error_score='raise-deprecating',\n",
       "       estimator=KNeighborsClassifier(algorithm='auto', leaf_size=30, metric='minkowski',\n",
       "           metric_params=None, n_jobs=None, n_neighbors=5, p=2,\n",
       "           weights='uniform'),\n",
       "       fit_params=None, iid=False, n_jobs=None,\n",
       "       param_grid=[{'n_neighbors': [3, 4, 5, 6, 7, 8, 9, 10, 15, 20]}],\n",
       "       pre_dispatch='2*n_jobs', refit=True, return_train_score=True,\n",
       "       scoring='neg_mean_squared_error', verbose=0)"
      ]
     },
     "execution_count": 66,
     "metadata": {},
     "output_type": "execute_result"
    }
   ],
   "source": [
    "param_grid = [\n",
    "    {'n_neighbors': [3, 4, 5, 6, 7, 8, 9, 10, 15, 20]},\n",
    "]\n",
    "\n",
    "knn_clf = KNeighborsClassifier()\n",
    "\n",
    "grid_search_knn = GridSearchCV(knn_clf, param_grid, cv=10, iid=False,\n",
    "                          scoring='neg_mean_squared_error',\n",
    "                          return_train_score=True)\n",
    "\n",
    "grid_search_knn.fit(X_train, y_train)"
   ]
  },
  {
   "cell_type": "code",
   "execution_count": 67,
   "metadata": {},
   "outputs": [
    {
     "data": {
      "text/plain": [
       "{'n_neighbors': 6}"
      ]
     },
     "execution_count": 67,
     "metadata": {},
     "output_type": "execute_result"
    }
   ],
   "source": [
    "grid_search_knn.best_params_"
   ]
  },
  {
   "cell_type": "code",
   "execution_count": 68,
   "metadata": {},
   "outputs": [
    {
     "data": {
      "text/plain": [
       "0.8069662921348316"
      ]
     },
     "execution_count": 68,
     "metadata": {},
     "output_type": "execute_result"
    }
   ],
   "source": [
    "best_estimator_knn = grid_search_knn.best_estimator_\n",
    "best_scores_knn = cross_val_score(best_estimator_knn, X_train, y_train, cv=k_fold, n_jobs=1, scoring='accuracy')\n",
    "best_scores_knn.mean()"
   ]
  },
  {
   "cell_type": "markdown",
   "metadata": {},
   "source": [
    "**그리드 탐색으로 `SVC` 하이퍼파라미터를 튜닝 해봅니다.**"
   ]
  },
  {
   "cell_type": "code",
   "execution_count": 69,
   "metadata": {},
   "outputs": [
    {
     "data": {
      "text/plain": [
       "GridSearchCV(cv=10, error_score='raise-deprecating',\n",
       "       estimator=SVC(C=1.0, cache_size=200, class_weight=None, coef0=0.0,\n",
       "  decision_function_shape='ovr', degree=3, gamma='auto_deprecated',\n",
       "  kernel='rbf', max_iter=-1, probability=False, random_state=42,\n",
       "  shrinking=True, tol=0.001, verbose=False),\n",
       "       fit_params=None, iid=False, n_jobs=None,\n",
       "       param_grid=[{'gamma': [0.001, 0.01, 0.1, 1, 10, 100], 'kernel': ['linear', 'poly', 'rbf', 'sigmoid']}],\n",
       "       pre_dispatch='2*n_jobs', refit=True, return_train_score=True,\n",
       "       scoring='neg_mean_squared_error', verbose=0)"
      ]
     },
     "execution_count": 69,
     "metadata": {},
     "output_type": "execute_result"
    }
   ],
   "source": [
    "param_grid = [\n",
    "    {'gamma': [0.001, 0.01, 0.1, 1, 10, 100], 'kernel': ['linear', 'poly', 'rbf', 'sigmoid']},\n",
    "]\n",
    "\n",
    "svm_clf = SVC(random_state=42)\n",
    "\n",
    "grid_search_svm = GridSearchCV(svm_clf, param_grid, cv=10, iid=False,\n",
    "                          scoring='neg_mean_squared_error',\n",
    "                          return_train_score=True)\n",
    "\n",
    "grid_search_svm.fit(X_train, y_train)"
   ]
  },
  {
   "cell_type": "code",
   "execution_count": 70,
   "metadata": {},
   "outputs": [
    {
     "data": {
      "text/plain": [
       "{'gamma': 0.1, 'kernel': 'rbf'}"
      ]
     },
     "execution_count": 70,
     "metadata": {},
     "output_type": "execute_result"
    }
   ],
   "source": [
    "grid_search_svm.best_params_"
   ]
  },
  {
   "cell_type": "code",
   "execution_count": 71,
   "metadata": {},
   "outputs": [
    {
     "data": {
      "text/plain": [
       "0.8282771535580524"
      ]
     },
     "execution_count": 71,
     "metadata": {},
     "output_type": "execute_result"
    }
   ],
   "source": [
    "best_estimator_svm = grid_search_svm.best_estimator_\n",
    "best_scores_svm = cross_val_score(best_estimator_svm, X_train, y_train, cv=k_fold, n_jobs=1, scoring='accuracy')\n",
    "best_scores_svm.mean()"
   ]
  },
  {
   "cell_type": "markdown",
   "metadata": {},
   "source": [
    "**그리드 탐색으로 `DecisionTreeClassifier` 하이퍼파라미터를 튜닝 해봅니다.**"
   ]
  },
  {
   "cell_type": "code",
   "execution_count": 72,
   "metadata": {},
   "outputs": [
    {
     "data": {
      "text/plain": [
       "GridSearchCV(cv=10, error_score='raise-deprecating',\n",
       "       estimator=DecisionTreeClassifier(class_weight=None, criterion='gini', max_depth=None,\n",
       "            max_features=None, max_leaf_nodes=None,\n",
       "            min_impurity_decrease=0.0, min_impurity_split=None,\n",
       "            min_samples_leaf=1, min_samples_split=2,\n",
       "            min_weight_fraction_leaf=0.0, presort=False, random_state=42,\n",
       "            splitter='best'),\n",
       "       fit_params=None, iid=False, n_jobs=None,\n",
       "       param_grid=[{'criterion': ['gini', 'entropy'], 'max_features': [10, 15, 20, 25, 30, 40], 'max_leaf_nodes': [5, 10, 20, 30, 40, 50]}],\n",
       "       pre_dispatch='2*n_jobs', refit=True, return_train_score=True,\n",
       "       scoring='neg_mean_squared_error', verbose=0)"
      ]
     },
     "execution_count": 72,
     "metadata": {},
     "output_type": "execute_result"
    }
   ],
   "source": [
    "param_grid = [\n",
    "    {'criterion': ['gini', 'entropy'], 'max_features': [10, 15, 20, 25, 30, 40], 'max_leaf_nodes': [5, 10, 20, 30, 40, 50]},\n",
    "]\n",
    "\n",
    "decision_clf = DecisionTreeClassifier(random_state=42)\n",
    "\n",
    "grid_search_decision = GridSearchCV(decision_clf, param_grid, cv=10, iid=False,\n",
    "                          scoring='neg_mean_squared_error',\n",
    "                          return_train_score=True)\n",
    "\n",
    "grid_search_decision.fit(X_train, y_train)"
   ]
  },
  {
   "cell_type": "code",
   "execution_count": 73,
   "metadata": {},
   "outputs": [
    {
     "data": {
      "text/plain": [
       "{'criterion': 'entropy', 'max_features': 30, 'max_leaf_nodes': 50}"
      ]
     },
     "execution_count": 73,
     "metadata": {},
     "output_type": "execute_result"
    }
   ],
   "source": [
    "grid_search_decision.best_params_"
   ]
  },
  {
   "cell_type": "code",
   "execution_count": 74,
   "metadata": {},
   "outputs": [
    {
     "data": {
      "text/plain": [
       "0.826067415730337"
      ]
     },
     "execution_count": 74,
     "metadata": {},
     "output_type": "execute_result"
    }
   ],
   "source": [
    "grid_search_decision = grid_search_decision.best_estimator_\n",
    "best_scores_decision = cross_val_score(grid_search_decision, X_train, y_train, cv=k_fold, n_jobs=1, scoring='accuracy')\n",
    "best_scores_decision.mean()"
   ]
  },
  {
   "cell_type": "markdown",
   "metadata": {},
   "source": [
    "#### 테스트 데이터에 대한 예측을 만들어 Kaggle에 업로드 합니다."
   ]
  },
  {
   "cell_type": "markdown",
   "metadata": {},
   "source": [
    "훈련 결과가 가장 좋은 best_estimator_svm 모델로 테스트 데이터에 대한 예측을 만듭니다."
   ]
  },
  {
   "cell_type": "code",
   "execution_count": 75,
   "metadata": {},
   "outputs": [],
   "source": [
    "best_estimator_svm.fit(X_train, y_train)\n",
    "y_test_pred = best_estimator_svm.predict(X_test)"
   ]
  },
  {
   "cell_type": "markdown",
   "metadata": {},
   "source": [
    "예측 값에 PassengerId를 추가하고, Kaggle Competition에서 지정한 제목(컬럼 이름)을 추가한 후, <br>\n",
    "csv 파일로 저정하여 Kaggle에 업로드 합니다."
   ]
  },
  {
   "cell_type": "code",
   "execution_count": 77,
   "metadata": {},
   "outputs": [],
   "source": [
    "submission = np.r_[np.array([[\"PassengerId\", \"Survived\"]]), np.c_[test_data[\"PassengerId\"], y_test_pred]]\n",
    "np.savetxt(\"titanic_survive_submission.csv\", submission, fmt=\"%s\", delimiter=\",\")"
   ]
  },
  {
   "cell_type": "markdown",
   "metadata": {},
   "source": [
    "best_estimator_forest 모델로도 테스트에 대한 예측을 만들어 봅니다."
   ]
  },
  {
   "cell_type": "code",
   "execution_count": 78,
   "metadata": {},
   "outputs": [],
   "source": [
    "best_estimator_forest.fit(X_train, y_train)\n",
    "y_test_pred = best_estimator_forest.predict(X_test)"
   ]
  },
  {
   "cell_type": "code",
   "execution_count": 79,
   "metadata": {},
   "outputs": [],
   "source": [
    "submission = np.r_[np.array([[\"PassengerId\", \"Survived\"]]), np.c_[test_data[\"PassengerId\"], y_test_pred]]\n",
    "np.savetxt(\"titanic_survive_submission.csv\", submission, fmt=\"%s\", delimiter=\",\")"
   ]
  },
  {
   "cell_type": "code",
   "execution_count": null,
   "metadata": {},
   "outputs": [],
   "source": []
  }
 ],
 "metadata": {
  "kernelspec": {
   "display_name": "Python 3",
   "language": "python",
   "name": "python3"
  },
  "language_info": {
   "codemirror_mode": {
    "name": "ipython",
    "version": 3
   },
   "file_extension": ".py",
   "mimetype": "text/x-python",
   "name": "python",
   "nbconvert_exporter": "python",
   "pygments_lexer": "ipython3",
   "version": "3.6.8"
  },
  "toc": {
   "base_numbering": 1,
   "nav_menu": {},
   "number_sections": false,
   "sideBar": true,
   "skip_h1_title": false,
   "title_cell": "Table of Contents",
   "title_sidebar": "Contents",
   "toc_cell": true,
   "toc_position": {},
   "toc_section_display": true,
   "toc_window_display": false
  }
 },
 "nbformat": 4,
 "nbformat_minor": 2
}
