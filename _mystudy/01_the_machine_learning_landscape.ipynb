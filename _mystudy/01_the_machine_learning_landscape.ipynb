{
 "cells": [
  {
   "cell_type": "markdown",
   "metadata": {
    "toc": true
   },
   "source": [
    "<h1>Table of Contents<span class=\"tocSkip\"></span></h1>\n",
    "<div class=\"toc\"><ul class=\"toc-item\"><li><span><a href=\"#1.-한눈에-보는-머신러닝\" data-toc-modified-id=\"1.-한눈에-보는-머신러닝-1\">1. 한눈에 보는 머신러닝</a></span><ul class=\"toc-item\"><li><span><a href=\"#머신러닝(Machine-Learning)-이란?\" data-toc-modified-id=\"머신러닝(Machine-Learning)-이란?-1.1\">머신러닝(Machine Learning) 이란?</a></span><ul class=\"toc-item\"><li><span><a href=\"#머신러닝은-데이터로-부터-학습하도록-컴퓨터를-프로그래밍-하는-과학(또는-예술)-입니다.\" data-toc-modified-id=\"머신러닝은-데이터로-부터-학습하도록-컴퓨터를-프로그래밍-하는-과학(또는-예술)-입니다.-1.1.1\"><strong>머신러닝은 데이터로 부터 학습하도록 컴퓨터를 프로그래밍 하는 과학(또는 예술) 입니다.</strong></a></span></li></ul></li><li><span><a href=\"#왜-머신러닝을-사용하는가?\" data-toc-modified-id=\"왜-머신러닝을-사용하는가?-1.2\">왜 머신러닝을 사용하는가?</a></span></li><li><span><a href=\"#머신러닝-시스템의-종류\" data-toc-modified-id=\"머신러닝-시스템의-종류-1.3\">머신러닝 시스템의 종류</a></span><ul class=\"toc-item\"><li><span><a href=\"#지도-학습(Supervised-Learning)\" data-toc-modified-id=\"지도-학습(Supervised-Learning)-1.3.1\">지도 학습(Supervised Learning)</a></span></li><li><span><a href=\"#특성과-속성\" data-toc-modified-id=\"특성과-속성-1.3.2\">특성과 속성</a></span></li><li><span><a href=\"#비지도-학습\" data-toc-modified-id=\"비지도-학습-1.3.3\">비지도 학습</a></span></li><li><span><a href=\"#준지도-학습(Semisupervised-Learning)\" data-toc-modified-id=\"준지도-학습(Semisupervised-Learning)-1.3.4\">준지도 학습(Semisupervised Learning)</a></span></li><li><span><a href=\"#강화-학습(Reinforcement-Learning)\" data-toc-modified-id=\"강화-학습(Reinforcement-Learning)-1.3.5\">강화 학습(Reinforcement Learning)</a></span></li><li><span><a href=\"#배치-학습과-온라인-학습\" data-toc-modified-id=\"배치-학습과-온라인-학습-1.3.6\">배치 학습과 온라인 학습</a></span></li><li><span><a href=\"#사례-기반-학습과-모델-기반-학습\" data-toc-modified-id=\"사례-기반-학습과-모델-기반-학습-1.3.7\">사례 기반 학습과 모델 기반 학습</a></span></li><li><span><a href=\"#전향적인-머신러닝-프로젝트의-형태\" data-toc-modified-id=\"전향적인-머신러닝-프로젝트의-형태-1.3.8\">전향적인 머신러닝 프로젝트의 형태</a></span></li></ul></li><li><span><a href=\"#머신러닝의-주요-도전-과제\" data-toc-modified-id=\"머신러닝의-주요-도전-과제-1.4\">머신러닝의 주요 도전 과제</a></span><ul class=\"toc-item\"><li><span><a href=\"#충분하지-않은-양의-데이터\" data-toc-modified-id=\"충분하지-않은-양의-데이터-1.4.1\">충분하지 않은 양의 데이터</a></span></li><li><span><a href=\"#대표성-없는-훈련-데이터\" data-toc-modified-id=\"대표성-없는-훈련-데이터-1.4.2\">대표성 없는 훈련 데이터</a></span></li><li><span><a href=\"#낮은-품질의-데이터\" data-toc-modified-id=\"낮은-품질의-데이터-1.4.3\">낮은 품질의 데이터</a></span></li><li><span><a href=\"#관련-없는-특성\" data-toc-modified-id=\"관련-없는-특성-1.4.4\">관련 없는 특성</a></span></li><li><span><a href=\"#훈련-데이터-과대적합\" data-toc-modified-id=\"훈련-데이터-과대적합-1.4.5\">훈련 데이터 과대적합</a></span></li><li><span><a href=\"#훈련-데이터-과소적합\" data-toc-modified-id=\"훈련-데이터-과소적합-1.4.6\">훈련 데이터 과소적합</a></span></li></ul></li><li><span><a href=\"#테스트와-검증\" data-toc-modified-id=\"테스트와-검증-1.5\">테스트와 검증</a></span><ul class=\"toc-item\"><li><span><a href=\"#공짜-점심-없음-이론\" data-toc-modified-id=\"공짜-점심-없음-이론-1.5.1\">공짜 점심 없음 이론</a></span></li></ul></li></ul></li></ul></div>"
   ]
  },
  {
   "cell_type": "markdown",
   "metadata": {},
   "source": [
    "# 1. 한눈에 보는 머신러닝"
   ]
  },
  {
   "cell_type": "code",
   "execution_count": 1,
   "metadata": {
    "scrolled": true
   },
   "outputs": [
    {
     "name": "stdout",
     "output_type": "stream",
     "text": [
      "Python Version: 3.6.8 (v3.6.8:3c6b436a57, Dec 24 2018, 02:04:31) \n",
      "[GCC 4.2.1 Compatible Apple LLVM 6.0 (clang-600.0.57)]\n",
      "Python Executable: /Users/alex/Documents/ai/handson-ml/_venv/bin/python3\n"
     ]
    }
   ],
   "source": [
    "import sys\n",
    "print(\"Python Version: \" + sys.version)\n",
    "print(\"Python Executable: \" + sys.executable)"
   ]
  },
  {
   "cell_type": "code",
   "execution_count": 2,
   "metadata": {},
   "outputs": [
    {
     "name": "stdout",
     "output_type": "stream",
     "text": [
      "CPython 3.6.8\n",
      "IPython 7.2.0\n",
      "\n",
      "numpy 1.16.0\n",
      "scipy 1.2.0\n",
      "sklearn 0.20.2\n",
      "pandas 0.22.0\n",
      "matplotlib 2.2.2\n"
     ]
    }
   ],
   "source": [
    "%load_ext watermark\n",
    "%watermark -v -p numpy,scipy,sklearn,pandas,matplotlib"
   ]
  },
  {
   "cell_type": "markdown",
   "metadata": {},
   "source": [
    "## 머신러닝(Machine Learning) 이란?\n",
    "\n",
    "### **머신러닝은 데이터로 부터 학습하도록 컴퓨터를 프로그래밍 하는 과학(또는 예술) 입니다.**\n",
    "\n",
    "**머신러닝은 명시적인 프로그래밍 없이 컴퓨터가 학습하는 능력을 갖추게 하는 연구 분야다.**   _-아서 사무엘(Atrhur Samuel), 1959_\n",
    "\n",
    "**어떤 작업 T에 대한 컴퓨터 프로그램의 성능을 P로 측정했을 때 경험 B로 인해 성능이 향상됐다면, <br>\n",
    "이 컴퓨터 프로그램은 작업 T와 성능측적 P에 대해 경험 B로 학습한 것이다.** _-톰 미첼(Tom Michell), 1997_"
   ]
  },
  {
   "cell_type": "markdown",
   "metadata": {},
   "source": [
    "## 왜 머신러닝을 사용하는가?\n",
    "\n",
    "머신러닝은 다음 분야에서 뛰어납니다.\n",
    "\n",
    "- **기존 솔루션으로는 많은 수동 조정과 규칙이 필요한 문제** : 하나의 머신러닝 모델이 코드를 간단하게 더 잘 수행하도록 할 수 있습니다.\n",
    "- **전통적인 방식으로는 전혀 해결방법이 없는 복잡한 문제** : 가장 뛰어난 머신러닝 기법으로 해결 방법을 찾을 수 있습니다.\n",
    "- **유동적인 환경** : 머신러닝 시스템은 새로운 데이터에 적용할 수 있습니다.\n",
    "- **복잡한 문제와 대량의 데이터에서 통찰 얻기**"
   ]
  },
  {
   "cell_type": "markdown",
   "metadata": {},
   "source": [
    "## 머신러닝 시스템의 종류\n",
    "\n",
    "다음 기준으로 넓은 범주에서 분류하면 도움이 됩니다.\n",
    "\n",
    "- 사람의 감독 하에 훈련하는 것인지 그렇지 않은 것인지 : **지도 학습, 준지도 학습, 비지도 학습, 강화 학습**\n",
    "- 실시간으로 점진적으로 학습을 하는지 아닌지 : **온라인 학습과 배치 학습**\n",
    "- 단순하게 알고 있는 데이터 포인트와 새 데이터 포인트를 비교하는 것인지 <br>\n",
    "   아니면 훈련 데이터셋에서 과학자들처럼 패턴을 발견하는 예측 모델을 만드는지 : **사례 기반 학습과 모델 기반 학습**\n",
    "\n",
    "이 범주들은 서로 배타적이지 않으며 원하는 대로 연결할 수 있습니다."
   ]
  },
  {
   "cell_type": "markdown",
   "metadata": {},
   "source": [
    "### 지도 학습(Supervised Learning)\n",
    "\n",
    "알고리즘에 주입하는 훈련 데이터에 **레이블(label)** 이라는 원하는 답이 포함 됩니다.\n",
    "\n",
    "**분류(Classification)과 회귀(Regression)** 이 전형적인 지도 학습 작업 입니다.\n",
    "\n",
    "다음은 중요한 지도학습 알고리즘들 입니다.\n",
    "\n",
    "- k-최근접 이웃(k-Nearest Neighbors)\n",
    "- 선형 회귀(Linear Regression)\n",
    "- 로지스틱 회귀(Logistic Regression)\n",
    "- 서퍼트 벡터 머신(Support Vector Machines, SVM)\n",
    "- 결정 트리(Decision Tree)와 랜덤 포레스트(Random Forests)\n",
    "- 신경망(Neural Networks) : 알고리즘에 따라 신경망은 지도학습, 준지도학습, 지도학습일 수 있음"
   ]
  },
  {
   "cell_type": "markdown",
   "metadata": {},
   "source": [
    "### 특성과 속성\n",
    "\n",
    "머신러닝에서 **속성(Attribute)은 데이터 타입** 을 말합니다.\n",
    "\n",
    "<U>**특성(Feature)** 은 문맥에 따라 여러 의미를 갖지만 일반적으로 **속성과 값이 합쳐진 것** 을 의미 합니다.</U> 예측 변수(Predict Variable)들이 특성 입니다.\n",
    "\n",
    "머신러닝에서 **레이블의 범주를 클래스(class)** 라고 부릅니다."
   ]
  },
  {
   "cell_type": "markdown",
   "metadata": {},
   "source": [
    "### 비지도 학습\n",
    "\n",
    "비지도 학습에는 말 그대로 훈련 데이터에 레이블이 없습니다.\n",
    "\n",
    "다음은 중요한 비지도 학습 알고리즘들 입니다.\n",
    "\n",
    "- **군집(Clustering)**\n",
    "    - k-평균(k-Means)\n",
    "    - 계층 군집 분석(Heirachical Cluster Analysis, HCA)\n",
    "    - 기대값 최대화(Expectation Maximization)\n",
    "- **시각화(Visualization)와 차원 축소(Dimensionality Reduction)**\n",
    "    - 주성분 분석(Principal Component Analysis, PCA)\n",
    "    - 커널(Kenel) PCA\n",
    "    - 지역적 선형 임베딩(Locally-Linear Embedding, LLE)\n",
    "    - t-SNE(t-Distributed Stochastic Neighbor Embedding)\n",
    "- **연관 규칙 학습(Assocation Rule Learning)**\n",
    "    - 어프라이어리(Apriori)\n",
    "    - 이클렛(Eclat)"
   ]
  },
  {
   "cell_type": "markdown",
   "metadata": {},
   "source": [
    "### 준지도 학습(Semisupervised Learning)\n",
    "\n",
    "레이블이 일부만 있는(보통은 레이블이 없는 데이터가 많고, 있는 데이터는 아주 조금인) 데이터를 다룰 때, 이를 준지도 학습 이라고 합니다.\n",
    "\n",
    "대부분의 준지독 학습은 지도 학습과 비지도 학습의 조합으로 이루어져 있습니다. 예를 들어, 심층 신뢰 신경망(Deep Belief Network, BDN)은 여러 겹으로 쌓은 제한된 볼츠만 머신(Restricted Boltzmann Machine, RBM) 이라는 비지도 학습에 기초 합니다."
   ]
  },
  {
   "cell_type": "markdown",
   "metadata": {},
   "source": [
    "### 강화 학습(Reinforcement Learning)\n",
    "\n",
    "학습하는 시스템을 **에이전트**라고 부르며, **환경(Environment)** 을 관찰해서 **행동(Action)** 을 실행하고, <br>\n",
    "그 결과로 **보상(Reward)** 또는 **벌점(Penalty)** 을 받습니다. <br>\n",
    "시간이 지나면서 가장 큰 보상을 얻기 위해 **정책(Policy)** 이라고 부르는 최상의 전략을 스스로 학습 합니다. <br>\n",
    "정책은 주어진 상황에서 에이전트가 어떤 행동을 선택해야 할지 정의 합니다. "
   ]
  },
  {
   "cell_type": "markdown",
   "metadata": {},
   "source": [
    "### 배치 학습과 온라인 학습\n",
    "\n",
    "**배치 학습(Batch Learning)** 에서는 시스템이 점진적으로 학습할 수 없습니다.<br>\n",
    "배치 학습 시스템이 새로운 데이터에 대해 학습하려면, <br>\n",
    "이전 데이터를 포함한 전체 데이터를 사용하여 시스템의 새로운 버전을 처음부터 다시 훈련해야 합니다.<br>\n",
    "이런 방식이 간단하고 잘 작동하지만, 전체 데이터셋을 사용해 훈련하는 데 많은 시간이 소요될 수 있습니다. <br>\n",
    "보통 24시간 마다 또는 매주 시스템을 훈련 시킵니다.\n",
    "\n",
    "**온라인 학습(Online Learning)** 에서는 데이터를 순차적으로 한 개씩 또는 <br>\n",
    "**미니배치(Mini Batch)** 라 부르는 작은 묶음 단위로 주입하여 시스템을 훈련 시킵니다. <br>\n",
    "온라인 학습은 연속적으로 데이터를 받고 빠른 변화에 스스로 적응해야 하는 시스템에 적합합니다.<br>\n",
    "컴퓨팅 자원이 제한된 경우에도 좋은 선택입니다.\n",
    "\n",
    "컴퓨터 한 대의 메인 메모리에 들어갈 수 없는 아주 큰 데이터셋을 학습하는 시스템에도 온라인 학습 알고리즘을 사용할 수 있습니다.<br>\n",
    "이를 **외부 메모리(Out-of-Core) 학습** 이라고 합니다.\n",
    "\n",
    "온라인 학습 시스템에서 중요한 파라미터 하나는 변화하는 데이터에 얼마나 빠르게 적응할 것인지 입니다. 이를 **학습률(Learning Rate)** 이라고 합니다.\n",
    "\n",
    "온라인 학습에서 가장 큰 문제는 시스템에 나쁜 데이터가 주입되었을 때 시스템 성능이 점진적으로 감소 한다는 점입니다."
   ]
  },
  {
   "cell_type": "markdown",
   "metadata": {},
   "source": [
    "### 사례 기반 학습과 모델 기반 학습\n",
    "\n",
    "머신러닝 시스템은 어떻게 일반화 되는가에 따라 분류할 수도 있습니다.\n",
    "\n",
    "**사례 기반 학습(Instance-based Learning)** 은 시스템이 사례를 기억함으로써 학습하고, <br>\n",
    "**유사도(Similarity)** 측정을 사용해 새로운 데이터에 일반화 합니다. <br>\n",
    "스팸 메일을 필터링 하기 위한 간단한 유사도 측정 방법은 공통으로 포함된 단어의 수를 세는 것 입니다.\n",
    "\n",
    "**모델 기반 학습(Model-based Learning)** 은 샘플들의 모델을 만들어 예측에 사용하는 것 입니다.<br>\n",
    "모델 기반 학습은 문제에 적합한 모델을 선택하고, **학습을 통해 모델 파라미터를 조정** 하여 최적의 모델을 얻습니다. <br>\n",
    "모델 파라미터 조정을 위해, 모델이 얼마나 좋은지 측정하는 **효용 함수(Utility Function)** 또는 **적합도 함수(Fitness Function)** 을 정의하거나,<br>\n",
    "얼마나 나쁜지 측정하는 **비용 함수(Cost Function)** 를 정의할 수 있습니다."
   ]
  },
  {
   "cell_type": "code",
   "execution_count": 3,
   "metadata": {},
   "outputs": [],
   "source": [
    "from functions import *      # 공통 함수들\n",
    "default_config()      # matplotlib 폰트 & 한글 설정, 일관된 출력을 위해 유사난수 초기화(np.random.seed(42))"
   ]
  },
  {
   "cell_type": "code",
   "execution_count": 4,
   "metadata": {},
   "outputs": [
    {
     "data": {
      "image/png": "[encoded data removed]",
      "text/plain": [
       "<Figure size 432x288 with 1 Axes>"
      ]
     },
     "metadata": {
      "needs_background": "light"
     },
     "output_type": "display_data"
    },
    {
     "name": "stdout",
     "output_type": "stream",
     "text": [
      "키프로스의 삶의 만족도: [[5.96242338]]\n"
     ]
    }
   ],
   "source": [
    "# 사이킷 런을 이용한 선형 모델의 훈련과 실행\n",
    "import os, sys\n",
    "import matplotlib\n",
    "import matplotlib.pyplot as plt\n",
    "import numpy as np\n",
    "import pandas as pd\n",
    "import sklearn.linear_model\n",
    "\n",
    "# 데이터 적재\n",
    "datapath = os.path.join(\"../datasets\", \"lifesat\", \"\")       # '../datasets/lifesat/'\n",
    "oecd_bli = pd.read_csv(datapath + \"oecd_bli_2015.csv\", thousands=',')\n",
    "gdp_per_capita = pd.read_csv(datapath + \"gdp_per_capita.csv\",thousands=',',delimiter='\\t',\n",
    "                             encoding='latin1', na_values=\"n/a\")\n",
    "\n",
    "# 데이터 준비\n",
    "country_stats = prepare_country_stats(oecd_bli, gdp_per_capita)      # functions.py에 정의된 함수\n",
    "X = np.c_[country_stats[\"GDP per capita\"]]\n",
    "y = np.c_[country_stats[\"Life satisfaction\"]]\n",
    "\n",
    "# 데이터 시각화\n",
    "ax = country_stats.plot(kind='scatter', x=\"GDP per capita\", y='Life satisfaction')\n",
    "ax.set(xlabel=\"1인당 GDP\", ylabel=\"삶의 만족도\")\n",
    "plt.show()\n",
    "\n",
    "# 선형 모델 선택\n",
    "model = sklearn.linear_model.LinearRegression()\n",
    "\n",
    "# 모델 훈련\n",
    "model.fit(X, y)\n",
    "\n",
    "# 키프로스에 대한 예측\n",
    "X_new = [[22587]]  # 키프로스 1인당 GDP\n",
    "print(\"키프로스의 삶의 만족도: \" + str(model.predict(X_new))) # 결과 [[ 5.96242338]]"
   ]
  },
  {
   "cell_type": "code",
   "execution_count": 5,
   "metadata": {},
   "outputs": [
    {
     "name": "stdout",
     "output_type": "stream",
     "text": [
      "키프로스의 삶의 만족도: [[5.76666667]]\n"
     ]
    }
   ],
   "source": [
    "# 선형 회귀 모델을 k-최근접 이웃 회귀 모델로 교체할 경우\n",
    "knn = sklearn.neighbors.KNeighborsRegressor(n_neighbors=3)\n",
    "\n",
    "# 모델 훈련\n",
    "knn.fit(X, y)\n",
    "\n",
    "# 키프로스에 대한 예측\n",
    "print(\"키프로스의 삶의 만족도: \" + str(knn.predict(X_new))) # 결과 [[ 5.76666667]]"
   ]
  },
  {
   "cell_type": "markdown",
   "metadata": {},
   "source": [
    "### 전향적인 머신러닝 프로젝트의 형태\n",
    "\n",
    "- 데이터를 분석 합니다.\n",
    "- 모델을 선택 합니다.\n",
    "- 훈련 데이터로 모델을 훈련 시킵니다. (즉, 학습 알고리즘이 비용 함수를 최소화 하는 모델 파라미터를 찾습니다.)\n",
    "- 마지막으로, 새로운 데이터에 모델을 적용해 예측을 하고(이를 추론$^{Inference}$ 이라고 합니다.), 이 모델이 잘 일반화 되길 기다립니다."
   ]
  },
  {
   "cell_type": "markdown",
   "metadata": {},
   "source": [
    "## 머신러닝의 주요 도전 과제\n",
    "\n",
    "머신러닝의 주요 작업은 학습 알고리즘을 선택해서 어떤 데이터에 훈련 시키는 것이므로,<br>\n",
    "문제가 될 수 있는 두 가지는 **\"나쁜 알고리즘\"** 과 **\"나쁜 데이터\"** 입니다."
   ]
  },
  {
   "cell_type": "markdown",
   "metadata": {},
   "source": [
    "### 충분하지 않은 양의 데이터\n",
    "\n",
    "대부문의 머신러닝 알고리즘이 잘 작동하려면 데이터가 많아야 합니다."
   ]
  },
  {
   "cell_type": "markdown",
   "metadata": {},
   "source": [
    "### 대표성 없는 훈련 데이터\n",
    "\n",
    "일반화 하기 원하는 사례를 훈련 데이터가 잘 대표하는 것이 중요 합니다.<br>\n",
    "샘플이 작으면 **샘플링 잡음(sampling noise)** (즉, 우연에 의한 대표성 없는 데이터)이 생기고, <br>\n",
    "매우 큰 샘플도 표본 추출 방법이 잘못되면 대표성을 띠지 못할 수 있습니다. 이를 **샘플링 편향(Sampling Bias)** 이라고 합니다."
   ]
  },
  {
   "cell_type": "markdown",
   "metadata": {},
   "source": [
    "### 낮은 품질의 데이터\n",
    "\n",
    "훈련 데이터가 에러, 이상치(outlier), 잡음(예를 들면 성능이 낮은 측정 장치 때문에)으로 가득하다면 <br>\n",
    "머신러닝 시스템이 내재된 패턴을 찾기 어려워 잘 작동하지 않을 것입니다. <br>\n",
    "훈련 데이터 정제에 시간으 투자할 가치는 충분 합니다."
   ]
  },
  {
   "cell_type": "markdown",
   "metadata": {},
   "source": [
    "### 관련 없는 특성\n",
    "\n",
    "엉터리가 들어가면 엉터리가 나옵니다(Garbage in, Garbage out). <br>\n",
    "성공적인 머신러닝 프로젝트의 핵심 요소는 훈련에 사용할 좋은 특성들을 찾는 것입니다. <br>\n",
    "이 과정을 **특성 공학(Feature Engineering)** 이라고 합니다.<br>\n",
    "\n",
    "특성 공학은 다음 과정을 포함 합니다.\n",
    "\n",
    "- **특성 선택(Feature Selection)** : 가지고 있는 특성 중에서 훈련에 가장 유용한 특성을 선택 합니다.\n",
    "- **특성 추출(Feature Extraction)** : 특성을 결합하여 더 유용한 특성을 만듭니다. (차원 축소 알고리즘을 사용할 수 있습니다.)\n",
    "- 새로운 데이터를 수집해 새 특성을 만듭니다."
   ]
  },
  {
   "cell_type": "markdown",
   "metadata": {},
   "source": [
    "### 훈련 데이터 과대적합\n",
    "\n",
    "**과대 적합(Overfitting)** 이란 모델이 훈련 데이터에 너무 잘 맞지만 일반성이 떨어진다는 뜻 입니다.\n",
    "\n",
    "훈련 세트에 잡음이 많거나 데이터셋이 너무 작으면(샘플링 잡음이 발생하므로) 잡음이 섞인 패턴을 학습하게 됩니다. <br>\n",
    "이런 패턴은 새로운 샘플에 일반화되지 못합니다.\n",
    "\n",
    "과대 적합은 운련 데이터에 있는 잡음의 양에 비해 모델이 너무 복잡할 때 일어납니다. <br>\n",
    "**과대 적합의 해결 방법은 다음과 같습니다.**\n",
    "\n",
    "- 파라미터 수가 적은 모델을 선택하거나(예를 들면, 고차원 다항 모델 보다 선형 모델), <br>\n",
    "   훈련 데이터에 있는 특성 수를 줄이거나, <br>\n",
    "   모델에 제약을 가하여 단순화 시킵니다.\n",
    "- 훈련 데이터를 더 많이 모읍니다.\n",
    "- 훈련 데이터의 잡음을 줄입니다. (예를 들면, 오류 데이터 수정과 이상치 제거)\n",
    "\n",
    "모델을 단순하게 하고 과대적합의 위험을 감소시키기 위해 모델에 제약을 가하는 것을 **규제(Regularization)** 라고 합니다. <br>\n",
    "학습 하는 동안 적용할 규제의 양은 **하이퍼파라미터(Hyperparameter)** 가 결정 합니다. <br>\n",
    "하이퍼파라미터는 (모델이 아니라) 학습 알고리즘의 파라미터 입니다. <br>\n",
    "그래서 학습 알고리즘으로부터 영향을 받지 않으며, 훈련 전에 미리 지정하고, 훈련하는 동안에는 상수로 남아 있습니다. <br>\n",
    "머신러닝 시스템을 구축할 때 하이퍼파라미터 튜닝은 매우 중요한 과정 입니다."
   ]
  },
  {
   "cell_type": "markdown",
   "metadata": {},
   "source": [
    "### 훈련 데이터 과소적합\n",
    "\n",
    "**과소적합(Underfitting)** 은 과대적합의 반대 입니다. <br>\n",
    "이는 모델이 너무 단순해서 데이터의 내재된 구조를 학습하지 못할 때 일어납니다.\n",
    "\n",
    "**과소적합 문제를 해결하는 주요 기법은 다음과 같습니다.**\n",
    "\n",
    "- 모델 파라미터가 더 많은 강력한 모델을 선택합니다.\n",
    "- 학습 알고리즘에 더 좋은 특성을 제공합니다. (특성 공학)\n",
    "- 모델의 제약을 줄입니다. (예를 들면, 규제 하이퍼파라미터를 감소시킵니다.)"
   ]
  },
  {
   "cell_type": "markdown",
   "metadata": {},
   "source": [
    "## 테스트와 검증"
   ]
  },
  {
   "cell_type": "markdown",
   "metadata": {},
   "source": [
    "모델이 새로운 샘플에 얼마나 잘 일반화될지 아는 유일한 방법은 새로운 샘플에 실제로 적응해보는 것 입니다.\n",
    "\n",
    "훈련 데이터를 훈련 세트와 테스트 세트 두 개로 나누고, 훈련 세트를 사용해 모델을 훈련시키고 테스트 세트를 사용해 모델을 테스트 합니다. <br>\n",
    "새로운 샘플에 대한 오류 비율을 **일반화 오차(Generalization Error)** 또는 **외부 샘플 오차(out-of-sample error)** 라고 하며, <br>\n",
    "테스트 세트에서 모델을 평가함으로써 이 오차에 대한 추정값(estimation)을 얻습니다.\n",
    "\n",
    "훈련 오차가 낮지만(즉, 훈련 세트에서 모델의 오차가 적음) 일반화 오차가 높다면 이는 모델이 훈련 데이터에 과대적합 되었다는 뜻 입니다.\n",
    "\n",
    "과대적합을 피하기 위해 모델에 규제를 적용하려면, **검증 세트(Validation Set)** 라 부르는 두 번째 홀드아웃(holdout) 세트가 필요 합니다.<br>\n",
    "**훈련 세트를 사용해 다양한 하이퍼파라미터로 여러 모델을 훈련 시키고, <br>\n",
    "검증 세트에서 최상의 성능을 내는 모델과 하이퍼파라미터를 선택 합니다. <br>\n",
    "만족스러운 모델을 찾으면 일반화 오차의 추정값을 얻기 위해 테스트 세트로 단 한 번의 최종 테스트를 합니다.**\n",
    "\n",
    "훈련 데이터에서 검증 세트로 너무 많은 양의 데이터를 뺏기지 않기 위해 일반적으로 **교차 검증(Cross-Validation)** 기법을 사용합니다.\n",
    "훈련 세트를 여러 서브셋으로 나누고 각 모델을 이 서브셋의 조합으로 훈련시키고 나머지 부분으로 검증 합니다. <br>\n",
    "모델과 하이퍼파라미터가 선택되면 전체 훈련 데이터를 사용하여 선택한 하이퍼파라미터로 최종 모델을 훈련 시키고, <br>\n",
    "테스트 세트에서 일반화 오차를 측정합니다."
   ]
  },
  {
   "cell_type": "markdown",
   "metadata": {},
   "source": [
    "### 공짜 점심 없음 이론\n",
    "\n",
    "**모델은 관측한 것을 간소화 한 것 입니다.** <br>\n",
    "간소화의 의미는 새로운 샘플에 일반적이지 않을 것 같은 불필요한 세부사항을 제거하는 것 입니다. <br>\n",
    "그러나 어떤 데이터를 버리고 어떤 데이터를 남길지 정하기 위해 가정을 해야 합니다.\n",
    "\n",
    "경험하기 전에 더 잘 맞을 거라고 보장할 수 있는 모델은 없습니다. <br>\n",
    "어떤 모델이 최선인지 확실히 아는 유일한 방법은 모든 모델을 평가해보는 것뿐입니다.<br>\n",
    "이것이 불가능하기 때문에 **실전에서는 데이터에 관해 타당한 가정을 하고 적절한 모델 몇 가지만 평가 합니다.**"
   ]
  },
  {
   "cell_type": "code",
   "execution_count": null,
   "metadata": {},
   "outputs": [],
   "source": []
  }
 ],
 "metadata": {
  "kernelspec": {
   "display_name": "Python 3",
   "language": "python",
   "name": "python3"
  },
  "language_info": {
   "codemirror_mode": {
    "name": "ipython",
    "version": 3
   },
   "file_extension": ".py",
   "mimetype": "text/x-python",
   "name": "python",
   "nbconvert_exporter": "python",
   "pygments_lexer": "ipython3",
   "version": "3.6.8"
  },
  "toc": {
   "base_numbering": 1,
   "nav_menu": {},
   "number_sections": false,
   "sideBar": true,
   "skip_h1_title": false,
   "title_cell": "Table of Contents",
   "title_sidebar": "Contents",
   "toc_cell": true,
   "toc_position": {},
   "toc_section_display": true,
   "toc_window_display": false
  }
 },
 "nbformat": 4,
 "nbformat_minor": 2
}
