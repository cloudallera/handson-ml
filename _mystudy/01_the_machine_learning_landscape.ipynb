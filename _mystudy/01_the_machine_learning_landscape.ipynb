{
 "cells": [
  {
   "cell_type": "markdown",
   "metadata": {
    "toc": true
   },
   "source": [
    "<h1>Table of Contents<span class=\"tocSkip\"></span></h1>\n",
    "<div class=\"toc\"><ul class=\"toc-item\"></ul></div>"
   ]
  },
  {
   "cell_type": "code",
   "execution_count": 1,
   "metadata": {
    "scrolled": true
   },
   "outputs": [
    {
     "name": "stdout",
     "output_type": "stream",
     "text": [
      "Python Version: 3.6.8 (v3.6.8:3c6b436a57, Dec 24 2018, 02:04:31) \n",
      "[GCC 4.2.1 Compatible Apple LLVM 6.0 (clang-600.0.57)]\n",
      "Python Executable: /Users/alex/Documents/ai/handson-ml/_venv/bin/python3\n"
     ]
    }
   ],
   "source": [
    "import sys\n",
    "print(\"Python Version: \" + sys.version)\n",
    "print(\"Python Executable: \" + sys.executable)"
   ]
  },
  {
   "cell_type": "code",
   "execution_count": 2,
   "metadata": {},
   "outputs": [
    {
     "name": "stdout",
     "output_type": "stream",
     "text": [
      "CPython 3.6.8\n",
      "IPython 7.2.0\n",
      "\n",
      "numpy 1.16.0\n",
      "scipy 1.2.0\n",
      "sklearn 0.20.2\n",
      "pandas 0.22.0\n",
      "matplotlib 2.2.2\n"
     ]
    }
   ],
   "source": [
    "%load_ext watermark\n",
    "%watermark -v -p numpy,scipy,sklearn,pandas,matplotlib"
   ]
  },
  {
   "cell_type": "code",
   "execution_count": 3,
   "metadata": {},
   "outputs": [],
   "source": [
    "from functions import *      # 공통 함수들\n",
    "default_config()      # matplotlib 폰트 & 한글 설정, 일관된 출력을 위해 유사난수 초기화(np.random.seed(42))"
   ]
  },
  {
   "cell_type": "code",
   "execution_count": 4,
   "metadata": {},
   "outputs": [
    {
     "data": {
      "image/png": "[encoded data removed]",
      "text/plain": [
       "<Figure size 432x288 with 1 Axes>"
      ]
     },
     "metadata": {
      "needs_background": "light"
     },
     "output_type": "display_data"
    },
    {
     "name": "stdout",
     "output_type": "stream",
     "text": [
      "키프로스의 삶의 만족도: [[5.96242338]]\n"
     ]
    }
   ],
   "source": [
    "# 샘플 코드\n",
    "import os, sys\n",
    "import matplotlib\n",
    "import matplotlib.pyplot as plt\n",
    "import numpy as np\n",
    "import pandas as pd\n",
    "import sklearn.linear_model\n",
    "\n",
    "# 데이터 적재\n",
    "datapath = os.path.join(\"../datasets\", \"lifesat\", \"\")       # '../datasets/lifesat/'\n",
    "oecd_bli = pd.read_csv(datapath + \"oecd_bli_2015.csv\", thousands=',')\n",
    "gdp_per_capita = pd.read_csv(datapath + \"gdp_per_capita.csv\",thousands=',',delimiter='\\t',\n",
    "                             encoding='latin1', na_values=\"n/a\")\n",
    "\n",
    "# 데이터 준비\n",
    "country_stats = prepare_country_stats(oecd_bli, gdp_per_capita)      # functions.py에 정의된 함수\n",
    "X = np.c_[country_stats[\"GDP per capita\"]]\n",
    "y = np.c_[country_stats[\"Life satisfaction\"]]\n",
    "\n",
    "# 데이터 시각화\n",
    "ax = country_stats.plot(kind='scatter', x=\"GDP per capita\", y='Life satisfaction')\n",
    "ax.set(xlabel=\"1인당 GDP\", ylabel=\"삶의 만족도\")\n",
    "plt.show()\n",
    "\n",
    "# 선형 모델 선택\n",
    "model = sklearn.linear_model.LinearRegression()\n",
    "\n",
    "# 모델 훈련\n",
    "model.fit(X, y)\n",
    "\n",
    "# 키프로스에 대한 예측\n",
    "X_new = [[22587]]  # 키프로스 1인당 GDP\n",
    "print(\"키프로스의 삶의 만족도: \" + str(model.predict(X_new))) # 결과 [[ 5.96242338]]"
   ]
  },
  {
   "cell_type": "code",
   "execution_count": 5,
   "metadata": {},
   "outputs": [
    {
     "name": "stdout",
     "output_type": "stream",
     "text": [
      "키프로스의 삶의 만족도: [[5.76666667]]\n"
     ]
    }
   ],
   "source": [
    "# 선형 회귀 모델을 k-최근접 이웃 회귀 모델로 교체할 경우\n",
    "knn = sklearn.neighbors.KNeighborsRegressor(n_neighbors=3)\n",
    "\n",
    "# 모델 훈련\n",
    "knn.fit(X, y)\n",
    "\n",
    "# 키프로스에 대한 예측\n",
    "print(\"키프로스의 삶의 만족도: \" + str(knn.predict(X_new))) # 결과 [[ 5.76666667]]"
   ]
  },
  {
   "cell_type": "code",
   "execution_count": null,
   "metadata": {},
   "outputs": [],
   "source": []
  }
 ],
 "metadata": {
  "kernelspec": {
   "display_name": "Python 3",
   "language": "python",
   "name": "python3"
  },
  "language_info": {
   "codemirror_mode": {
    "name": "ipython",
    "version": 3
   },
   "file_extension": ".py",
   "mimetype": "text/x-python",
   "name": "python",
   "nbconvert_exporter": "python",
   "pygments_lexer": "ipython3",
   "version": "3.6.8"
  },
  "toc": {
   "base_numbering": 1,
   "nav_menu": {},
   "number_sections": false,
   "sideBar": true,
   "skip_h1_title": false,
   "title_cell": "Table of Contents",
   "title_sidebar": "Contents",
   "toc_cell": true,
   "toc_position": {},
   "toc_section_display": true,
   "toc_window_display": false
  }
 },
 "nbformat": 4,
 "nbformat_minor": 2
}
