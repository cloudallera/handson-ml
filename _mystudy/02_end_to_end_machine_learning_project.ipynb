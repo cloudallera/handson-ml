{
 "cells": [
  {
   "cell_type": "markdown",
   "metadata": {
    "toc": true
   },
   "source": [
    "<h1>Table of Contents<span class=\"tocSkip\"></span></h1>\n",
    "<div class=\"toc\"><ul class=\"toc-item\"><li><span><a href=\"#2.-머신러닝-프로젝트-처음부터-끝까지\" data-toc-modified-id=\"2.-머신러닝-프로젝트-처음부터-끝까지-1\">2. 머신러닝 프로젝트 처음부터 끝까지</a></span><ul class=\"toc-item\"><li><span><a href=\"#2.1-실제-데이터로-작업하기\" data-toc-modified-id=\"2.1-실제-데이터로-작업하기-1.1\">2.1 실제 데이터로 작업하기</a></span></li><li><span><a href=\"#2.2-큰-그림-보기\" data-toc-modified-id=\"2.2-큰-그림-보기-1.2\">2.2 큰 그림 보기</a></span><ul class=\"toc-item\"><li><span><a href=\"#문제-정의\" data-toc-modified-id=\"문제-정의-1.2.1\">문제 정의</a></span></li><li><span><a href=\"#성능-측정-지표-선택\" data-toc-modified-id=\"성능-측정-지표-선택-1.2.2\">성능 측정 지표 선택</a></span></li><li><span><a href=\"#가정-검사\" data-toc-modified-id=\"가정-검사-1.2.3\">가정 검사</a></span></li></ul></li><li><span><a href=\"#2.3-데이터-가져오기\" data-toc-modified-id=\"2.3-데이터-가져오기-1.3\">2.3 데이터 가져오기</a></span><ul class=\"toc-item\"><li><span><a href=\"#작업환경-만들기\" data-toc-modified-id=\"작업환경-만들기-1.3.1\">작업환경 만들기</a></span></li><li><span><a href=\"#데이터-다운로드\" data-toc-modified-id=\"데이터-다운로드-1.3.2\">데이터 다운로드</a></span></li><li><span><a href=\"#데이터-구조-훑어-보기\" data-toc-modified-id=\"데이터-구조-훑어-보기-1.3.3\">데이터 구조 훑어 보기</a></span></li><li><span><a href=\"#테스트-세트-만들기\" data-toc-modified-id=\"테스트-세트-만들기-1.3.4\">테스트 세트 만들기</a></span><ul class=\"toc-item\"><li><span><a href=\"#무작위로-샘플을-선택해서-테스트-세트-생성하기\" data-toc-modified-id=\"무작위로-샘플을-선택해서-테스트-세트-생성하기-1.3.4.1\">무작위로 샘플을 선택해서 테스트 세트 생성하기</a></span></li><li><span><a href=\"#식별자의-해시값을-기준으로-테스트-세트-생성하기\" data-toc-modified-id=\"식별자의-해시값을-기준으로-테스트-세트-생성하기-1.3.4.2\">식별자의 해시값을 기준으로 테스트 세트 생성하기</a></span></li><li><span><a href=\"#사이킷런을-사용하여-테스트-세트-생성하기\" data-toc-modified-id=\"사이킷런을-사용하여-테스트-세트-생성하기-1.3.4.3\">사이킷런을 사용하여 테스트 세트 생성하기</a></span></li><li><span><a href=\"#계층적-샘플링(Stratified-Sampling)-하기\" data-toc-modified-id=\"계층적-샘플링(Stratified-Sampling)-하기-1.3.4.4\">계층적 샘플링(Stratified Sampling) 하기</a></span></li></ul></li></ul></li><li><span><a href=\"#2.4-데이터-이해를-위한-탐색과-시각화\" data-toc-modified-id=\"2.4-데이터-이해를-위한-탐색과-시각화-1.4\">2.4 데이터 이해를 위한 탐색과 시각화</a></span><ul class=\"toc-item\"><li><span><a href=\"#지리적-데이터-시각화\" data-toc-modified-id=\"지리적-데이터-시각화-1.4.1\">지리적 데이터 시각화</a></span></li><li><span><a href=\"#상관관계-조사\" data-toc-modified-id=\"상관관계-조사-1.4.2\">상관관계 조사</a></span></li><li><span><a href=\"#특성-조합으로-실험\" data-toc-modified-id=\"특성-조합으로-실험-1.4.3\">특성 조합으로 실험</a></span></li></ul></li><li><span><a href=\"#2.5-머신러닝-알고리즘을-위한-데이터-준비\" data-toc-modified-id=\"2.5-머신러닝-알고리즘을-위한-데이터-준비-1.5\">2.5 머신러닝 알고리즘을 위한 데이터 준비</a></span><ul class=\"toc-item\"><li><span><a href=\"#데이터-정제\" data-toc-modified-id=\"데이터-정제-1.5.1\">데이터 정제</a></span></li><li><span><a href=\"#텍스트와-범주형-특성-다루기\" data-toc-modified-id=\"텍스트와-범주형-특성-다루기-1.5.2\">텍스트와 범주형 특성 다루기</a></span></li><li><span><a href=\"#나만의-변환기\" data-toc-modified-id=\"나만의-변환기-1.5.3\">나만의 변환기</a></span></li><li><span><a href=\"#특성-스케일링\" data-toc-modified-id=\"특성-스케일링-1.5.4\">특성 스케일링</a></span></li><li><span><a href=\"#변환-파이프라인\" data-toc-modified-id=\"변환-파이프라인-1.5.5\">변환 파이프라인</a></span></li></ul></li><li><span><a href=\"#2.6-모델-선택과-훈련\" data-toc-modified-id=\"2.6-모델-선택과-훈련-1.6\">2.6 모델 선택과 훈련</a></span><ul class=\"toc-item\"><li><span><a href=\"#훈련-세트에서-훈련하고-평가하기\" data-toc-modified-id=\"훈련-세트에서-훈련하고-평가하기-1.6.1\">훈련 세트에서 훈련하고 평가하기</a></span></li><li><span><a href=\"#교차-검증을-사용한-평가\" data-toc-modified-id=\"교차-검증을-사용한-평가-1.6.2\">교차 검증을 사용한 평가</a></span></li></ul></li><li><span><a href=\"#2.7-모델-세부-튜닝\" data-toc-modified-id=\"2.7-모델-세부-튜닝-1.7\">2.7 모델 세부 튜닝</a></span><ul class=\"toc-item\"><li><span><a href=\"#그리드-탐색\" data-toc-modified-id=\"그리드-탐색-1.7.1\">그리드 탐색</a></span></li><li><span><a href=\"#랜덤-탐색\" data-toc-modified-id=\"랜덤-탐색-1.7.2\">랜덤 탐색</a></span></li><li><span><a href=\"#상상블-방법\" data-toc-modified-id=\"상상블-방법-1.7.3\">상상블 방법</a></span></li><li><span><a href=\"#최상의-모델과-오차-분석\" data-toc-modified-id=\"최상의-모델과-오차-분석-1.7.4\">최상의 모델과 오차 분석</a></span></li><li><span><a href=\"#테스트-세트로-시스템-평가하기\" data-toc-modified-id=\"테스트-세트로-시스템-평가하기-1.7.5\">테스트 세트로 시스템 평가하기</a></span></li></ul></li><li><span><a href=\"#2.8-론칭,-모니터링,-그리고-시스템-유지-보수\" data-toc-modified-id=\"2.8-론칭,-모니터링,-그리고-시스템-유지-보수-1.8\">2.8 론칭, 모니터링, 그리고 시스템 유지 보수</a></span></li><li><span><a href=\"#2.9-직접-해보세요!\" data-toc-modified-id=\"2.9-직접-해보세요!-1.9\">2.9 직접 해보세요!</a></span></li><li><span><a href=\"#2.10-연습문제\" data-toc-modified-id=\"2.10-연습문제-1.10\">2.10 연습문제</a></span></li></ul></li></ul></div>"
   ]
  },
  {
   "cell_type": "markdown",
   "metadata": {},
   "source": [
    "# 2. 머신러닝 프로젝트 처음부터 끝까지"
   ]
  },
  {
   "cell_type": "markdown",
   "metadata": {},
   "source": [
    "예제 프로젝트의 처음부터 끝까지 진행해보겠습니다.\n",
    "\n",
    "- **큰 그림을 봅니다.**\n",
    "- **데이터를 구합니다.**\n",
    "- **데이터로부터 통찰을 얻기 위해 탐색하고 시각화 합니다.**\n",
    "- **머신러닝 알고리즘을 위해 데이터를 준비합니다.**\n",
    "- **모델을 선택하고 훈련시킵니다.**\n",
    "- **모델을 상세하게 조정합니다.**\n",
    "- **솔루션을 제시합니다.**\n",
    "- **시스템을 론칭하고 모니터링하고 유지보수 합니다.**"
   ]
  },
  {
   "cell_type": "markdown",
   "metadata": {},
   "source": [
    "## 2.1 실제 데이터로 작업하기"
   ]
  },
  {
   "cell_type": "markdown",
   "metadata": {},
   "source": [
    "머신러닝을 배울 때는 인공적으로 만들어진 데이터셋이 아닌 실제 데이터로 실험해보는 것이 가장 좋습니다.\n",
    "\n",
    "- **유명한 공개 데이터 저장소**\n",
    "    - UC 얼바인(Irvine) 머신러닝 저장소 : http://archive.ics.uci.edu/ml/\n",
    "    - 캐글(Kaggle) 데이터셋 : http://www.kaggle.com/datasets/\n",
    "    - 아마존 AWS 데이터셋 : http://aws.amazon.com/ko/datasets/\n",
    "- **메타 포털** (공개 데이터 저장소가 나열되어 있습니다.)\n",
    "    - http://dataportals.org/\n",
    "    - http://opendatamonitor.eu/\n",
    "    - http://quandl.com/\n",
    "- **인기 있는 공개 데이터 저장소가 나열되어 있는 다른 페이지**\n",
    "    - 위키백과 머신러닝 데이터셋 목록 : https://goo.gl/SJHN2k\n",
    "    - Quora.com 질문 : http://goo.gl/zDR78y\n",
    "    - 데이터셋 서브레딧(subreddit) : http://www.reddit.com/r/datasets/"
   ]
  },
  {
   "cell_type": "markdown",
   "metadata": {},
   "source": [
    "## 2.2 큰 그림 보기"
   ]
  },
  {
   "cell_type": "markdown",
   "metadata": {},
   "source": [
    "해야 할 일은 **`캘리포니아 인구조사 데이터를 사용해 캘리포니아의 주택 가격 모델을 만드는 것`** 입니다. <br>\n",
    "이 데이터는 캘리포니아의 블록 그룹(block group) 마다 인구(population), 중간 소득(median income), <br>\n",
    "중간 주택 가격(median housing price) 등을 담고 있습니다.<br>\n",
    "**이 데이터로 모델을 학습시켜서 다른 측정 데이터가 주어졌을 때 구역의 중간 주택 가격을 예측해야 합니다.**\n",
    "\n",
    "**`첫 번째로 할 일은 머신러닝 프로젝트 체크리스트를 준비하는 것입니다.`**"
   ]
  },
  {
   "cell_type": "markdown",
   "metadata": {},
   "source": [
    "### 문제 정의\n",
    "\n",
    "**첫 번째로 할 질문은 `\"비즈니스의 목적이 정확히 무엇인가요?\"` 입니다.** <br>\n",
    "이 모델의 출력(구역의 중간 주택 가격에 대한 예측)이 여러 가지 다른 신호(Signal)와 함께 다른 머신러닝 시스템에 입력으로 사용되고, <br>\n",
    "뒤 따르는 시스템이 해당 지역에 추자할 가치가 있는지 결정합니다.\n",
    "\n",
    "**다음으로 던질 질문은 `\"현재 솔루션은 어떻게 구성되어 있나요?\"` 입니다.**<br>\n",
    "이는 문제 해결 방법에 대한 정보는 물론이고 참고 성능으로도 사용할 수 있습니다.<br>\n",
    "현재는 구역 주택가격 전문가가 수동으로 추정하고, 이 추정 가격은 실제 중간 주택 가격과 10% 이상 벗어날 때가 많습니다.\n",
    "\n",
    "이제 이런 정보들을 가지고 시스템을 설계할 준비가 되었습니다.<br>\n",
    "**`먼저 문제를 정의해야 합니다.`** 즉, 어떤 유형의 머신러닝 시스템을 만들어야 하는지 정의해야 합니다.<br>\n",
    "이는 레이블된 훈련 샘플이 있으니 전형적인 **지도학습** 작업 입니다.<br>\n",
    "또한 값을 예측해야 하므로 전형적인 **회귀** 문제 입니다. <br>\n",
    "좀 더 구체적으로는 예측에 사용할 특성이 여러 개 이므로 **다변량 회귀(multivariate regression)** 문제 입니다.<br>\n",
    "이 시스템에 들어오는 데이터에 연속적인 흐름이 없으므로 빠르게 변화하는 데이터에 적응하지 않아도 되고,<br>\n",
    "데이터가 메모리에 들어갈 만큼 충분히 작으므로 일반적인 **배치 학습**이 적절 합니다."
   ]
  },
  {
   "cell_type": "markdown",
   "metadata": {},
   "source": [
    ">데이터 처리 컴포넌트들이 연속되어 있는 것을 데이터 **파이프라인(pipeline)** 이라고 합니다.<br>\n",
    "보통 검포넌트들은 비동기적으로 동작합니다. 각 컴포넌트는 완전히 독립적입니다.<br>\n",
    "즉, 컴포넌트 사이의 인터페이스는 데이터 저장소 뿐입니다. <br>\n",
    "이는 시스템을 이해하기 쉽게 만들고, 각 팀은 각자의 컴포넌트에 집중할 수 있으며, 시스템이 매우 견고해집니다."
   ]
  },
  {
   "cell_type": "markdown",
   "metadata": {},
   "source": [
    "### 성능 측정 지표 선택\n",
    "\n",
    "**`다음 단계는 성능 측정 지표를 선택하는 것입니다.`** <br>\n",
    "회귀 문제의 전형적인 성능 지표는 **`평균 제곱근 오차(Root Mean Square Error, RMSE)`** 입니다. <br>\n",
    "아래는 RMSE를 계산하는 공식 입니다.\n",
    "\n",
    "$\\normalsize \\text{RMSE}(\\mathbf{X}, h) = \\sqrt {\\frac{1}{m} \\sum\\limits_{i=1}^{m} \\left(h (\\mathbf{x}^{(i)}) - y^{(i)} \\right)^{2}}$\n",
    "\n",
    "- $m$은 RMSE를 측정할 데이터셋에 있는 샘플 수 입니다.\n",
    "- $\\mathbf{x}^{(i)}$는 데이터셋에 있는 $i$번째 샘플의 전체 특성값(레이블은 제외한 특성값)의 벡터이고, <br>\n",
    "   $y^{(i)}$는 해당 레이블(해당 샘플의 기대 출력값) 입니다.<br>\n",
    "   예를 들어, 데이터셋의 첫 번째 구역이 경도 -118.29, 위도 33.91, 중간 소득 1,416, 주민수 38,372명, <br>\n",
    "   중간 주택가격 156,400 이라면(다른 특성들은 고려하지 않을 때), $\\mathbf{x}^{(i)}$과 $y^{(i)}$는 다음과 같습니다.\n",
    "\n",
    "    $\\mathbf{x}^{(1)} = \\begin{pmatrix}\n",
    "      -118.29 \\\\\n",
    "      33.91 \\\\\n",
    "      1,416 \\\\\n",
    "      38,372\n",
    "      \\end{pmatrix}$\n",
    "\n",
    "    $y^{(1)}=156,400$\n",
    "\n",
    "\n",
    "- $\\mathbf{X}$는 데이터셋에 있는 모든 샘플의 모든 특성값(레이블은 제외)을 포함하는 행렬입니다.<br>\n",
    "     샘플 하나가 하나의 행이어서 $i$번째 행은 $\\mathbf{x}^{(i)}$의 전치와 같고, $(x^{(i)})^{T}$ 으로 표기합니다.\n",
    "\n",
    "    $\\mathbf{X} = \\begin{pmatrix}\n",
    "      (\\mathbf{x}^{(1)})^T \\\\\n",
    "      (\\mathbf{x}^{(2)})^T\\\\\n",
    "      \\vdots \\\\\n",
    "      (\\mathbf{x}^{(m)})^T\n",
    "      \\end{pmatrix} = \\begin{pmatrix}\n",
    "      -118.29 & 33.91 & 1,416 & 38,372 \\\\\n",
    "      \\vdots & \\vdots & \\vdots & \\vdots \\\\\n",
    "      \\end{pmatrix}$\n",
    "\n",
    "    $\\mathbf{y} = \\begin{pmatrix}\n",
    "      (y^{(1)}) \\\\\n",
    "      (y^{(2)}) \\\\\n",
    "      \\vdots \\\\\n",
    "      (y^{(m)})\n",
    "      \\end{pmatrix} = \\begin{pmatrix}\n",
    "      156,400 \\\\\n",
    "      \\vdots \\\\\n",
    "      \\end{pmatrix}$\n",
    "\n",
    "    \n",
    "- $h$는 시스템의 예측 함수이며 가설(Hypothesis) 이라고 합니다. $\\hat{y}^{(i)} = h(\\mathbf{x}^{(i)})$ 처럼, $\\mathbf{x}^{(i)}$에 대한 예측값을 출력 합니다.\n",
    "- $\\text{RMSE}(\\mathbf{X}, h)$는 가설 $h$를 사용하여 일련의 샘플을 평가하는 비용 함수 입니다."
   ]
  },
  {
   "cell_type": "markdown",
   "metadata": {},
   "source": [
    "---\n",
    "경우에 따라 다른 성능 측정 함수를 사용할 수도 있습니다.<br>\n",
    "예를 들어, 이상치로 보이는 구역이 많은 경우 **`평균 절대 오차(Mean Absolute Error)`** 를 사용할 수 있습니다. <br>\n",
    "평균 절대 편차$^{Mean \\ Absolute \\ Deviation}$ 라고도 합니다.\n",
    "\n",
    "$\\normalsize \\text{MAE}(\\mathbf{X}, h) = {\\frac{1}{m} \\sum\\limits_{i=1}^{m} \\: \\left| \\: h (\\mathbf{x}^{(i)}) - y^{(i)} \\: \\right|}$\n",
    "\n",
    "RMSE와 MAE는 모두 예측값의 벡터와 타깃값의 벡터 사이의 거리를 재는 방법 입니다."
   ]
  },
  {
   "cell_type": "markdown",
   "metadata": {},
   "source": [
    "---\n",
    "**`거리 측정`** 에는 여러 가지 방법 (또는 **`노름`**$^{norm}$)이 가능합니다.\n",
    "\n",
    "- 제곱항을 합한 것의 제곱근(RMSE) 계산은 **유클리디안 노름**$^{Euclidean \\ norm}$에 해당 합니다.<br>\n",
    "   $l_{2}$ 노름 이라고도 부르며, $\\Vert \\cdot \\Vert_{2}$ 또는 그냥 $\\Vert \\cdot \\Vert$로 표기 합니다.\n",
    "- 절대값의 합을 계산하는 것은 $l_{1}$ 노름에 해당하며, $\\Vert \\cdot \\Vert_{1}$ 로 표기 합니다. <br>\n",
    "   이는 도시의 구획이 직각으로 나뉘어 있을 때 이 도시의 두 지점 사이의 거리를 측정하는 것과 같아, <br>\n",
    "   **맨하튼 노름**$^{Manhattan \\ norm}$ 이라고도 합니다.\n",
    "- 일반적으로 원소가 $n$개인 벡터 $\\mathbf{v}$의 $l_{k}$ 노름은 아래와 같이 정의 합니다. <br>\n",
    "    $\\normalsize \\Vert\\mathbf{v}\\Vert_{k} = \\left( \\vert v_{0}\\vert^{k} + \\vert v_{1}\\vert^{k} + \\cdots + \\vert v_{n}\\vert^{k} \\right)^{\\frac{1}{k}}$\n",
    "- 노름의 지수가 클수록 큰 값의 원소에 치우치며, 작은 값은 무시됩니다."
   ]
  },
  {
   "cell_type": "markdown",
   "metadata": {},
   "source": [
    "### 가정 검사\n",
    "\n",
    "`마지막으로 지금까지 만든 가정을 나열하고 검사해보는 것이 좋습니다.`<br>\n",
    "이 과정에서 심각한 문제를 미리 발견할 수도 있습니다. 예를 들어, 회귀 시스템이 아닌 분류 시스템을 만들어야 한다면 전혀 다른 문제가 됩니다."
   ]
  },
  {
   "cell_type": "markdown",
   "metadata": {},
   "source": [
    "## 2.3 데이터 가져오기"
   ]
  },
  {
   "cell_type": "markdown",
   "metadata": {},
   "source": [
    "### 작업환경 만들기"
   ]
  },
  {
   "cell_type": "markdown",
   "metadata": {},
   "source": [
    "작업 홈 디렉토리(handson-ml)를 만들고, `virtualenv`를 설치해서 독립적인 사상 작업환경을 만듭니다.\n",
    "```\n",
    "    $ export ML_PATH=\"$HOME/handson-ml\"\n",
    "    $ mkdir -p $ML_PATH\n",
    "    $ pip3 install --upgrade pip\n",
    "    $ pip3 install --user --upgrade virtualenv     # virtualenv 패키지 설치\n",
    "    $ cd $ML_PATH\n",
    "    $ virtualenv _venv --python=python3      # 이름이 \"_venv\" 인 가상환경 만들기(기본 python interpreter로 python3 사용)\n",
    "```\n",
    "\n",
    "가상환경을 활성화 하고, 필요한 파이썬 패키지들을 설치 합니다.\n",
    "```\n",
    "    $ source _venv/bin/activate      # 가상환경 활성화(_venv/bin 폴더가 PATH 변수의 가장 앞에 추가됨) : (_venv)$ 처럼 프롬프트에 가상환경 이름이 추가됨\n",
    "    (_venv)$ pip install --upgrade jupyter matplotlib numpy pandas scipy sklearn\n",
    "```\n",
    "\n",
    "주피터 노트북을 실행 합니다.\n",
    "```\n",
    "    (_venv)$ jupyter notebook       # 주피터 노트북 사용법은 Help 메뉴의 \"User Interface Tour\" 참고. 종료는 명령창에서 <ctrl> + c\n",
    "```\n",
    "\n",
    "가상환경을 종료(비활성화) 하려면 아래 명령을 실행합니다.\n",
    "```\n",
    "    (_venv)$ deactivate\n",
    "    $\n",
    "```"
   ]
  },
  {
   "cell_type": "markdown",
   "metadata": {},
   "source": [
    "### 데이터 다운로드"
   ]
  },
  {
   "cell_type": "markdown",
   "metadata": {},
   "source": [
    "일반적으로 데이터는 관계형 데이터베이스(또는 다른 데이터 저장소)에 들어 있고,<br>\n",
    "여러 테이블, 문서, 파일로 나뉘어 있을 것 입니다.<br>\n",
    "이런 **`데이터에 접근하려면 먼저 보안 자격과 접근 권한이 있어야 하고, 그 데이터의 구조를 잘 알고 있어야 합니다.`**\n",
    "\n",
    "파일을 내려 받고 압축을 풀어서 원하는 데이터를 얻는 과정을 매번 수작업으로 실행할 수도 있지만,<br>\n",
    "`데이터를 가져오는 간단한 함수를 만들어 사용하면 더 편합니다.`<br>\n",
    "(특히, 데이터가 정기적으로 변경되면 최근 데이터가 필요할 때마다 스크립트를 실행하면 되니 유용합니다.<br>\n",
    "스케줄링 하여 주기적으로 자동 실행할 수도 있습니다. <br>\n",
    "데이터를 내려 받는 일을 자동화 하면 여러 기기에 데이터셋을 설치해야 할 때도 편리합니다.)"
   ]
  },
  {
   "cell_type": "code",
   "execution_count": 1,
   "metadata": {},
   "outputs": [],
   "source": [
    "# 다운로드 함수 정의\n",
    "import os\n",
    "import tarfile\n",
    "import pandas as pd\n",
    "from six.moves import urllib\n",
    "\n",
    "## 하우스 데이터 다운로드 & 읽기 함수용 variables\n",
    "DOWNLOAD_ROOT = \"https://raw.githubusercontent.com/ageron/handson-ml/master/\"\n",
    "HOUSING_PATH = os.path.join(\"datasets\", \"housing\")\n",
    "HOUSING_URL = DOWNLOAD_ROOT + \"datasets/housing/housing.tgz\"\n",
    "\n",
    "# 하우스 데이터 추출(다운로드 & 압축 해제) 함수\n",
    "def fetch_housing_data(housing_url=HOUSING_URL, housing_path=HOUSING_PATH):\n",
    "    if not os.path.isdir(housing_path):\n",
    "        os.makedirs(housing_path)\n",
    "    tgz_file = os.path.join(housing_path, \"housing.tgz\")\n",
    "    urllib.request.urlretrieve(housing_url, tgz_file)\n",
    "    housing_tgz = tarfile.open(tgz_file)\n",
    "    housing_tgz.extractall(path=housing_path)\n",
    "    housing_tgz.close()\n",
    "    # print(\"housing data fetching complete!!!\")\n",
    "\n",
    "# 하우스 데이터 읽어 들이는 함수\n",
    "def load_housing_data(housing_path=HOUSING_PATH):\n",
    "    csv_file = os.path.join(housing_path, \"housing.csv\")\n",
    "    return pd.read_csv(csv_file)"
   ]
  },
  {
   "cell_type": "code",
   "execution_count": 2,
   "metadata": {},
   "outputs": [],
   "source": [
    "# 기본 환경설정 및 함수들을 functions.py에 별도로 작성 후 import 하여 사용\n",
    "from functions import *    # 공통 함수들\n",
    "default_config()       # matplotlib 폰트 & 한글 설정, 일관된 출력을 위해 유사난수 초기화(np.random.seed(42))"
   ]
  },
  {
   "cell_type": "code",
   "execution_count": 3,
   "metadata": {},
   "outputs": [],
   "source": [
    "# 데이터 추출(다운로드 & 압축 해제) \n",
    "fetch_housing_data()"
   ]
  },
  {
   "cell_type": "code",
   "execution_count": 4,
   "metadata": {},
   "outputs": [],
   "source": [
    "# 데이터 읽어 들이기\n",
    "housing = load_housing_data()"
   ]
  },
  {
   "cell_type": "markdown",
   "metadata": {},
   "source": [
    "### 데이터 구조 훑어 보기"
   ]
  },
  {
   "cell_type": "markdown",
   "metadata": {},
   "source": [
    "- **`head()`** 메서드를 사용해 처음 다섯 행을 확인해보겠습니다."
   ]
  },
  {
   "cell_type": "code",
   "execution_count": 6,
   "metadata": {
    "scrolled": true
   },
   "outputs": [
    {
     "data": {
      "text/html": [
       "<div>\n",
       "<style scoped>\n",
       "    .dataframe tbody tr th:only-of-type {\n",
       "        vertical-align: middle;\n",
       "    }\n",
       "\n",
       "    .dataframe tbody tr th {\n",
       "        vertical-align: top;\n",
       "    }\n",
       "\n",
       "    .dataframe thead th {\n",
       "        text-align: right;\n",
       "    }\n",
       "</style>\n",
       "<table border=\"1\" class=\"dataframe\">\n",
       "  <thead>\n",
       "    <tr style=\"text-align: right;\">\n",
       "      <th></th>\n",
       "      <th>longitude</th>\n",
       "      <th>latitude</th>\n",
       "      <th>housing_median_age</th>\n",
       "      <th>total_rooms</th>\n",
       "      <th>total_bedrooms</th>\n",
       "      <th>population</th>\n",
       "      <th>households</th>\n",
       "      <th>median_income</th>\n",
       "      <th>median_house_value</th>\n",
       "      <th>ocean_proximity</th>\n",
       "    </tr>\n",
       "  </thead>\n",
       "  <tbody>\n",
       "    <tr>\n",
       "      <th>0</th>\n",
       "      <td>-122.23</td>\n",
       "      <td>37.88</td>\n",
       "      <td>41.0</td>\n",
       "      <td>880.0</td>\n",
       "      <td>129.0</td>\n",
       "      <td>322.0</td>\n",
       "      <td>126.0</td>\n",
       "      <td>8.3252</td>\n",
       "      <td>452600.0</td>\n",
       "      <td>NEAR BAY</td>\n",
       "    </tr>\n",
       "    <tr>\n",
       "      <th>1</th>\n",
       "      <td>-122.22</td>\n",
       "      <td>37.86</td>\n",
       "      <td>21.0</td>\n",
       "      <td>7099.0</td>\n",
       "      <td>1106.0</td>\n",
       "      <td>2401.0</td>\n",
       "      <td>1138.0</td>\n",
       "      <td>8.3014</td>\n",
       "      <td>358500.0</td>\n",
       "      <td>NEAR BAY</td>\n",
       "    </tr>\n",
       "    <tr>\n",
       "      <th>2</th>\n",
       "      <td>-122.24</td>\n",
       "      <td>37.85</td>\n",
       "      <td>52.0</td>\n",
       "      <td>1467.0</td>\n",
       "      <td>190.0</td>\n",
       "      <td>496.0</td>\n",
       "      <td>177.0</td>\n",
       "      <td>7.2574</td>\n",
       "      <td>352100.0</td>\n",
       "      <td>NEAR BAY</td>\n",
       "    </tr>\n",
       "    <tr>\n",
       "      <th>3</th>\n",
       "      <td>-122.25</td>\n",
       "      <td>37.85</td>\n",
       "      <td>52.0</td>\n",
       "      <td>1274.0</td>\n",
       "      <td>235.0</td>\n",
       "      <td>558.0</td>\n",
       "      <td>219.0</td>\n",
       "      <td>5.6431</td>\n",
       "      <td>341300.0</td>\n",
       "      <td>NEAR BAY</td>\n",
       "    </tr>\n",
       "    <tr>\n",
       "      <th>4</th>\n",
       "      <td>-122.25</td>\n",
       "      <td>37.85</td>\n",
       "      <td>52.0</td>\n",
       "      <td>1627.0</td>\n",
       "      <td>280.0</td>\n",
       "      <td>565.0</td>\n",
       "      <td>259.0</td>\n",
       "      <td>3.8462</td>\n",
       "      <td>342200.0</td>\n",
       "      <td>NEAR BAY</td>\n",
       "    </tr>\n",
       "  </tbody>\n",
       "</table>\n",
       "</div>"
      ],
      "text/plain": [
       "   longitude  latitude  housing_median_age  total_rooms  total_bedrooms  \\\n",
       "0    -122.23     37.88                41.0        880.0           129.0   \n",
       "1    -122.22     37.86                21.0       7099.0          1106.0   \n",
       "2    -122.24     37.85                52.0       1467.0           190.0   \n",
       "3    -122.25     37.85                52.0       1274.0           235.0   \n",
       "4    -122.25     37.85                52.0       1627.0           280.0   \n",
       "\n",
       "   population  households  median_income  median_house_value ocean_proximity  \n",
       "0       322.0       126.0         8.3252            452600.0        NEAR BAY  \n",
       "1      2401.0      1138.0         8.3014            358500.0        NEAR BAY  \n",
       "2       496.0       177.0         7.2574            352100.0        NEAR BAY  \n",
       "3       558.0       219.0         5.6431            341300.0        NEAR BAY  \n",
       "4       565.0       259.0         3.8462            342200.0        NEAR BAY  "
      ]
     },
     "execution_count": 6,
     "metadata": {},
     "output_type": "execute_result"
    }
   ],
   "source": [
    "housing.head(5)"
   ]
  },
  {
   "cell_type": "markdown",
   "metadata": {},
   "source": [
    "- **`info()`** 메서드는 데이터에 대한 간략한 설명과 전체 행/컬럼 수, 특성별 데이터 타입, Null이 아닌 값의 개수를 확인하는 데 유용합니다."
   ]
  },
  {
   "cell_type": "code",
   "execution_count": 6,
   "metadata": {
    "scrolled": true
   },
   "outputs": [
    {
     "name": "stdout",
     "output_type": "stream",
     "text": [
      "<class 'pandas.core.frame.DataFrame'>\n",
      "RangeIndex: 20640 entries, 0 to 20639\n",
      "Data columns (total 10 columns):\n",
      "longitude             20640 non-null float64\n",
      "latitude              20640 non-null float64\n",
      "housing_median_age    20640 non-null float64\n",
      "total_rooms           20640 non-null float64\n",
      "total_bedrooms        20433 non-null float64\n",
      "population            20640 non-null float64\n",
      "households            20640 non-null float64\n",
      "median_income         20640 non-null float64\n",
      "median_house_value    20640 non-null float64\n",
      "ocean_proximity       20640 non-null object\n",
      "dtypes: float64(9), object(1)\n",
      "memory usage: 1.6+ MB\n"
     ]
    }
   ],
   "source": [
    "housing.info()"
   ]
  },
  {
   "cell_type": "markdown",
   "metadata": {},
   "source": [
    "- total_bedrooms 특성은 20,433개만 Null 값이 아닙니다. 207개의 구역은 특성값을 가지고 있지 않다는 것을 뜻합니다.\n",
    "---\n",
    "- ocean_proximity 필드의 데이터 타입이 object 이므로 어떤 파이썬 객체도 될 수 있지만,<br>\n",
    "   데이터를 CSV 파일에서 읽어 들였기 때문에 텍스트 특성일 것입니다.\n",
    "- 처음 다섯 행을 출력 했을 때 ocean_proximity 열의 값이 반복되는 것으로 보아서, <br>\n",
    "   이 특성은 아마도 범주형(Categorical) 일 것입니다.\n",
    "- 어떤 카테고리가 있고 각 카테고리 마다 얼마나 많은 구역이 있는지 **`value_counts()`** 메서드로 확인 합니다."
   ]
  },
  {
   "cell_type": "code",
   "execution_count": 7,
   "metadata": {
    "scrolled": true
   },
   "outputs": [
    {
     "data": {
      "text/plain": [
       "<1H OCEAN     9136\n",
       "INLAND        6551\n",
       "NEAR OCEAN    2658\n",
       "NEAR BAY      2290\n",
       "ISLAND           5\n",
       "Name: ocean_proximity, dtype: int64"
      ]
     },
     "execution_count": 7,
     "metadata": {},
     "output_type": "execute_result"
    }
   ],
   "source": [
    "# 범주형 특성의 카테고리 확인하기\n",
    "housing[\"ocean_proximity\"].value_counts()"
   ]
  },
  {
   "cell_type": "markdown",
   "metadata": {},
   "source": [
    "- **`describe()`** 메서드는 숫자형 특성의 요약 정보를 보여줍니다."
   ]
  },
  {
   "cell_type": "code",
   "execution_count": 8,
   "metadata": {
    "scrolled": true
   },
   "outputs": [
    {
     "data": {
      "text/html": [
       "<div>\n",
       "<style scoped>\n",
       "    .dataframe tbody tr th:only-of-type {\n",
       "        vertical-align: middle;\n",
       "    }\n",
       "\n",
       "    .dataframe tbody tr th {\n",
       "        vertical-align: top;\n",
       "    }\n",
       "\n",
       "    .dataframe thead th {\n",
       "        text-align: right;\n",
       "    }\n",
       "</style>\n",
       "<table border=\"1\" class=\"dataframe\">\n",
       "  <thead>\n",
       "    <tr style=\"text-align: right;\">\n",
       "      <th></th>\n",
       "      <th>longitude</th>\n",
       "      <th>latitude</th>\n",
       "      <th>housing_median_age</th>\n",
       "      <th>total_rooms</th>\n",
       "      <th>total_bedrooms</th>\n",
       "      <th>population</th>\n",
       "      <th>households</th>\n",
       "      <th>median_income</th>\n",
       "      <th>median_house_value</th>\n",
       "    </tr>\n",
       "  </thead>\n",
       "  <tbody>\n",
       "    <tr>\n",
       "      <th>count</th>\n",
       "      <td>20640.000000</td>\n",
       "      <td>20640.000000</td>\n",
       "      <td>20640.000000</td>\n",
       "      <td>20640.000000</td>\n",
       "      <td>20433.000000</td>\n",
       "      <td>20640.000000</td>\n",
       "      <td>20640.000000</td>\n",
       "      <td>20640.000000</td>\n",
       "      <td>20640.000000</td>\n",
       "    </tr>\n",
       "    <tr>\n",
       "      <th>mean</th>\n",
       "      <td>-119.569704</td>\n",
       "      <td>35.631861</td>\n",
       "      <td>28.639486</td>\n",
       "      <td>2635.763081</td>\n",
       "      <td>537.870553</td>\n",
       "      <td>1425.476744</td>\n",
       "      <td>499.539680</td>\n",
       "      <td>3.870671</td>\n",
       "      <td>206855.816909</td>\n",
       "    </tr>\n",
       "    <tr>\n",
       "      <th>std</th>\n",
       "      <td>2.003532</td>\n",
       "      <td>2.135952</td>\n",
       "      <td>12.585558</td>\n",
       "      <td>2181.615252</td>\n",
       "      <td>421.385070</td>\n",
       "      <td>1132.462122</td>\n",
       "      <td>382.329753</td>\n",
       "      <td>1.899822</td>\n",
       "      <td>115395.615874</td>\n",
       "    </tr>\n",
       "    <tr>\n",
       "      <th>min</th>\n",
       "      <td>-124.350000</td>\n",
       "      <td>32.540000</td>\n",
       "      <td>1.000000</td>\n",
       "      <td>2.000000</td>\n",
       "      <td>1.000000</td>\n",
       "      <td>3.000000</td>\n",
       "      <td>1.000000</td>\n",
       "      <td>0.499900</td>\n",
       "      <td>14999.000000</td>\n",
       "    </tr>\n",
       "    <tr>\n",
       "      <th>25%</th>\n",
       "      <td>-121.800000</td>\n",
       "      <td>33.930000</td>\n",
       "      <td>18.000000</td>\n",
       "      <td>1447.750000</td>\n",
       "      <td>296.000000</td>\n",
       "      <td>787.000000</td>\n",
       "      <td>280.000000</td>\n",
       "      <td>2.563400</td>\n",
       "      <td>119600.000000</td>\n",
       "    </tr>\n",
       "    <tr>\n",
       "      <th>50%</th>\n",
       "      <td>-118.490000</td>\n",
       "      <td>34.260000</td>\n",
       "      <td>29.000000</td>\n",
       "      <td>2127.000000</td>\n",
       "      <td>435.000000</td>\n",
       "      <td>1166.000000</td>\n",
       "      <td>409.000000</td>\n",
       "      <td>3.534800</td>\n",
       "      <td>179700.000000</td>\n",
       "    </tr>\n",
       "    <tr>\n",
       "      <th>75%</th>\n",
       "      <td>-118.010000</td>\n",
       "      <td>37.710000</td>\n",
       "      <td>37.000000</td>\n",
       "      <td>3148.000000</td>\n",
       "      <td>647.000000</td>\n",
       "      <td>1725.000000</td>\n",
       "      <td>605.000000</td>\n",
       "      <td>4.743250</td>\n",
       "      <td>264725.000000</td>\n",
       "    </tr>\n",
       "    <tr>\n",
       "      <th>max</th>\n",
       "      <td>-114.310000</td>\n",
       "      <td>41.950000</td>\n",
       "      <td>52.000000</td>\n",
       "      <td>39320.000000</td>\n",
       "      <td>6445.000000</td>\n",
       "      <td>35682.000000</td>\n",
       "      <td>6082.000000</td>\n",
       "      <td>15.000100</td>\n",
       "      <td>500001.000000</td>\n",
       "    </tr>\n",
       "  </tbody>\n",
       "</table>\n",
       "</div>"
      ],
      "text/plain": [
       "          longitude      latitude  housing_median_age   total_rooms  \\\n",
       "count  20640.000000  20640.000000        20640.000000  20640.000000   \n",
       "mean    -119.569704     35.631861           28.639486   2635.763081   \n",
       "std        2.003532      2.135952           12.585558   2181.615252   \n",
       "min     -124.350000     32.540000            1.000000      2.000000   \n",
       "25%     -121.800000     33.930000           18.000000   1447.750000   \n",
       "50%     -118.490000     34.260000           29.000000   2127.000000   \n",
       "75%     -118.010000     37.710000           37.000000   3148.000000   \n",
       "max     -114.310000     41.950000           52.000000  39320.000000   \n",
       "\n",
       "       total_bedrooms    population    households  median_income  \\\n",
       "count    20433.000000  20640.000000  20640.000000   20640.000000   \n",
       "mean       537.870553   1425.476744    499.539680       3.870671   \n",
       "std        421.385070   1132.462122    382.329753       1.899822   \n",
       "min          1.000000      3.000000      1.000000       0.499900   \n",
       "25%        296.000000    787.000000    280.000000       2.563400   \n",
       "50%        435.000000   1166.000000    409.000000       3.534800   \n",
       "75%        647.000000   1725.000000    605.000000       4.743250   \n",
       "max       6445.000000  35682.000000   6082.000000      15.000100   \n",
       "\n",
       "       median_house_value  \n",
       "count        20640.000000  \n",
       "mean        206855.816909  \n",
       "std         115395.615874  \n",
       "min          14999.000000  \n",
       "25%         119600.000000  \n",
       "50%         179700.000000  \n",
       "75%         264725.000000  \n",
       "max         500001.000000  "
      ]
     },
     "execution_count": 8,
     "metadata": {},
     "output_type": "execute_result"
    }
   ],
   "source": [
    "# 숫자형 특성의 요약 정보 보기\n",
    "housing.describe()"
   ]
  },
  {
   "cell_type": "markdown",
   "metadata": {},
   "source": [
    "- 데이터의 형태를 빠르게 검토하는 다른 방법은 각 숫자형 특성을 히스토그램으로 그려보는 것입니다.\n",
    "- 특성마다 따로 히스토그램을 그릴수도 있고, 전체 데이터셋에 대해 **`hist()`** 메서드를 호출하면 모든 숫자형 특성에 대한 히스토그램을 출력합니다."
   ]
  },
  {
   "cell_type": "code",
   "execution_count": 9,
   "metadata": {},
   "outputs": [
    {
     "data": {
      "image/png": "[encoded data removed]",
      "text/plain": [
       "<Figure size 1440x1080 with 9 Axes>"
      ]
     },
     "metadata": {
      "needs_background": "light"
     },
     "output_type": "display_data"
    }
   ],
   "source": [
    "# 숫자형 특성의 히스토그램 그려 보기\n",
    "%matplotlib inline\n",
    "import matplotlib.pyplot as plt\n",
    "housing.hist(bins=50, figsize=(20, 15))\n",
    "plt.rcParams['axes.labelsize'] = 14\n",
    "plt.show()       # 생략해도 셀이 실행될 때 주피터 노트북이 자동으로 그래프를 그려줌"
   ]
  },
  {
   "cell_type": "markdown",
   "metadata": {},
   "source": [
    "- 중간 소득(median_income) 특성이 US 달러로 표현되어 있지 않은 것 같습니다. <br>\n",
    "   (스케일을 조정하여 상한이 15, 하한이 0.5가 되도록 만들어져 있다고 합니다.) <br>\n",
    "   머신러닝에서는 전처리된 데이터를 다루는 경우가 흔하고 이것이 문제가 되지는 않지만 <br>\n",
    "   데이터가 어떻게 계산된 것인지는 반드시 이해하고 있어야 합니다.<br>\n",
    "<br>\n",
    "- 중간 주택 연도(housing_median_age)와 중간 주택 가격(median_house_value) 역시 최대값과 최소값을 한정했습니다.<br>\n",
    "   (그래프 맨 오른쪽에서 심하게 높아지면서 히스토그램이 끝나는 것으로 보아, 마지막 값으로 한정되었음을 알 수 있습니다.) <br>\n",
    "   중간 주택 가격의 경우는 타깃 속성(레이블)으로 사용되기 때문에 심각한 문제가 될 수 있습니다. <br>\n",
    "   가격이 한계값을 넘어가지 않도록 머신러닝 알고리즘이 학습될지도 모릅니다. <br>\n",
    "   이것이 문제가 될지 안될지는 이 시스템의 출력을 사용할 팀과 함께 검토하는 것이 좋습니다.<br>\n",
    "   한계값 이상의 정확한 예측값이 필요하다고 한다면 한계값 밖의 구역에 대한 정확한 레이블을 구하거나, <br>\n",
    "   훈련 세트에서 이런 구역을 제거합니다.(테스트 세트에서도 제거합니다.) <br>\n",
    "<br>\n",
    "- 특성들의 스케일이 서로 많이 다릅니다.<br>\n",
    "<br>\n",
    "- 많은 히스토그램의 꼬리가 두껍습니다. 가운데에서 왼쪽보다 오른쪽으로 더 멀리 뻗어 있습니다.<br>\n",
    "   이런 형태는 일부 머신러닝 알고리즘에서 패턴을 찾기 어렵게 만듭니다. <br>\n",
    "   이런 특성들을 좀 더 종 모양의 분포가 되도록 변경시켜야 합니다."
   ]
  },
  {
   "cell_type": "markdown",
   "metadata": {},
   "source": [
    "### 테스트 세트 만들기\n",
    "\n",
    "- `데이터를 더 깊게 들여다 보기 전에 데스트 세트를 따로 떼어놓아야 합니다.`\n",
    "- 우리 뇌는 매우 과대적합되기 쉬운 엄청난 패턴 감지 시스템 입니다.<br>\n",
    "   만약 테스트 세트를 들여다본다면 테스트 세트에서 겉으로 드러난 어떤 패턴에 속아 특정 머신러닝 모델을 선택하게 될지도 모릅니다.<br>\n",
    "   이를 **\"데이터 스누핑(data snooping) 편향\"\"** 이라고 합니다."
   ]
  },
  {
   "cell_type": "markdown",
   "metadata": {},
   "source": [
    "#### 무작위로 샘플을 선택해서 테스트 세트 생성하기"
   ]
  },
  {
   "cell_type": "code",
   "execution_count": 10,
   "metadata": {},
   "outputs": [],
   "source": [
    "def split_train_test(data, test_ratio):\n",
    "    np.random.seed(42)     # 프로그램을 다시 실행해도 같은 테스트 세트가 생성되도록 난수 발생기 초기값 설정\n",
    "    suffled_indices = np.random.permutation(len(data))       # 0 부터 len(data)-1 까지의 랜덤하게 섞인 인덱스 값을 만듦\n",
    "    test_set_size = int(len(data) * test_ratio)\n",
    "    test_indices = suffled_indices[:test_set_size]      # 랜덤하게 섞인 인덱스 값 중에서 test_set_size 만한 크기의 인덱스를 선택\n",
    "    train_indices = suffled_indices[test_set_size:]     # 테스트 셋 이외의 인덱스를 train set으로 선택\n",
    "    return data.iloc[train_indices], data.iloc[test_indices]"
   ]
  },
  {
   "cell_type": "code",
   "execution_count": 11,
   "metadata": {},
   "outputs": [
    {
     "name": "stdout",
     "output_type": "stream",
     "text": [
      "16512 train +  4128 test\n"
     ]
    },
    {
     "data": {
      "text/html": [
       "<div>\n",
       "<style scoped>\n",
       "    .dataframe tbody tr th:only-of-type {\n",
       "        vertical-align: middle;\n",
       "    }\n",
       "\n",
       "    .dataframe tbody tr th {\n",
       "        vertical-align: top;\n",
       "    }\n",
       "\n",
       "    .dataframe thead th {\n",
       "        text-align: right;\n",
       "    }\n",
       "</style>\n",
       "<table border=\"1\" class=\"dataframe\">\n",
       "  <thead>\n",
       "    <tr style=\"text-align: right;\">\n",
       "      <th></th>\n",
       "      <th>longitude</th>\n",
       "      <th>latitude</th>\n",
       "      <th>housing_median_age</th>\n",
       "      <th>total_rooms</th>\n",
       "      <th>total_bedrooms</th>\n",
       "      <th>population</th>\n",
       "      <th>households</th>\n",
       "      <th>median_income</th>\n",
       "      <th>median_house_value</th>\n",
       "      <th>ocean_proximity</th>\n",
       "    </tr>\n",
       "  </thead>\n",
       "  <tbody>\n",
       "    <tr>\n",
       "      <th>14196</th>\n",
       "      <td>-117.03</td>\n",
       "      <td>32.71</td>\n",
       "      <td>33.0</td>\n",
       "      <td>3126.0</td>\n",
       "      <td>627.0</td>\n",
       "      <td>2300.0</td>\n",
       "      <td>623.0</td>\n",
       "      <td>3.2596</td>\n",
       "      <td>103000.0</td>\n",
       "      <td>NEAR OCEAN</td>\n",
       "    </tr>\n",
       "    <tr>\n",
       "      <th>8267</th>\n",
       "      <td>-118.16</td>\n",
       "      <td>33.77</td>\n",
       "      <td>49.0</td>\n",
       "      <td>3382.0</td>\n",
       "      <td>787.0</td>\n",
       "      <td>1314.0</td>\n",
       "      <td>756.0</td>\n",
       "      <td>3.8125</td>\n",
       "      <td>382100.0</td>\n",
       "      <td>NEAR OCEAN</td>\n",
       "    </tr>\n",
       "    <tr>\n",
       "      <th>17445</th>\n",
       "      <td>-120.48</td>\n",
       "      <td>34.66</td>\n",
       "      <td>4.0</td>\n",
       "      <td>1897.0</td>\n",
       "      <td>331.0</td>\n",
       "      <td>915.0</td>\n",
       "      <td>336.0</td>\n",
       "      <td>4.1563</td>\n",
       "      <td>172600.0</td>\n",
       "      <td>NEAR OCEAN</td>\n",
       "    </tr>\n",
       "    <tr>\n",
       "      <th>14265</th>\n",
       "      <td>-117.11</td>\n",
       "      <td>32.69</td>\n",
       "      <td>36.0</td>\n",
       "      <td>1421.0</td>\n",
       "      <td>367.0</td>\n",
       "      <td>1418.0</td>\n",
       "      <td>355.0</td>\n",
       "      <td>1.9425</td>\n",
       "      <td>93400.0</td>\n",
       "      <td>NEAR OCEAN</td>\n",
       "    </tr>\n",
       "    <tr>\n",
       "      <th>2271</th>\n",
       "      <td>-119.80</td>\n",
       "      <td>36.78</td>\n",
       "      <td>43.0</td>\n",
       "      <td>2382.0</td>\n",
       "      <td>431.0</td>\n",
       "      <td>874.0</td>\n",
       "      <td>380.0</td>\n",
       "      <td>3.5542</td>\n",
       "      <td>96500.0</td>\n",
       "      <td>INLAND</td>\n",
       "    </tr>\n",
       "  </tbody>\n",
       "</table>\n",
       "</div>"
      ],
      "text/plain": [
       "       longitude  latitude  housing_median_age  total_rooms  total_bedrooms  \\\n",
       "14196    -117.03     32.71                33.0       3126.0           627.0   \n",
       "8267     -118.16     33.77                49.0       3382.0           787.0   \n",
       "17445    -120.48     34.66                 4.0       1897.0           331.0   \n",
       "14265    -117.11     32.69                36.0       1421.0           367.0   \n",
       "2271     -119.80     36.78                43.0       2382.0           431.0   \n",
       "\n",
       "       population  households  median_income  median_house_value  \\\n",
       "14196      2300.0       623.0         3.2596            103000.0   \n",
       "8267       1314.0       756.0         3.8125            382100.0   \n",
       "17445       915.0       336.0         4.1563            172600.0   \n",
       "14265      1418.0       355.0         1.9425             93400.0   \n",
       "2271        874.0       380.0         3.5542             96500.0   \n",
       "\n",
       "      ocean_proximity  \n",
       "14196      NEAR OCEAN  \n",
       "8267       NEAR OCEAN  \n",
       "17445      NEAR OCEAN  \n",
       "14265      NEAR OCEAN  \n",
       "2271           INLAND  "
      ]
     },
     "metadata": {},
     "output_type": "display_data"
    }
   ],
   "source": [
    "# 데이터를 훈련 세트와 테스트 세트로 나누고 결과 확인하기\n",
    "housing_train, housing_test = split_train_test(housing, 0.2)\n",
    "print(len(housing_train), \"train + \", len(housing_test), \"test\")\n",
    "display(housing_train.head())"
   ]
  },
  {
   "cell_type": "markdown",
   "metadata": {},
   "source": [
    "- 위의 방법은 업데이트 된 데이터 세트를 사용하면 문제가 됩니다. <br>\n",
    "   학습을 여러 번 반복 하면 알고리즘이 전체 데이터 셋을 보는 결과를 낳아서 데이터 스누핑 편향이 발생할 수 있습니다."
   ]
  },
  {
   "cell_type": "markdown",
   "metadata": {},
   "source": [
    "#### 식별자의 해시값을 기준으로 테스트 세트 생성하기\n",
    "\n",
    "- 일반적인 해결책은 샘플의 식별자를 사용하여 테스트 세트로 보낼지 말지 정하는 것입니다.<br>\n",
    "   (샘플이 고유하고 변경 불가능한 식별자를 가지고 있다고 가정합니다.)\n",
    "- 예를 들어, 각 샘플 마다 식별자의 해시값을 계산하여 해시 값이 하위 20%인 샘플만 테스트 세트로 보낼 수 있습니다.<br>\n",
    "   이렇게 하면 여러 번 반복 실행되면서 데이터셋이 갱신되더라도 테스트 세트가 동일하게 유지됩니다."
   ]
  },
  {
   "cell_type": "code",
   "execution_count": 12,
   "metadata": {},
   "outputs": [],
   "source": [
    "from zlib import crc32      # CRC32 해시값(32비트값) 구하는 함수(이 함수는 보안 목적의 해시값을 구하는데 사용하기에는 부적합함)\n",
    "\n",
    "def test_set_check(identifier, test_ratio):\n",
    "    return ( crc32(np.int64(identifier)) & 0xffffffff ) < test_ratio * 2**32    # test_ratio * 2**32 보다 작으면 True\n",
    "    # python2의 crc32는 signed int 값을 return 하기 때문에 unsigned int로 변환하기 위해 \"& 0xffffffff\" 비트 연산 수행\n",
    "\n",
    "def split_train_test_by_id(data, test_ratio, id_column):\n",
    "    ids = data[id_column]\n",
    "    in_test_set = ids.apply(lambda id_: test_set_check(id_, test_ratio))     # id_column 기준으로 test_set에 속한 data만 True이고 나머지는 False인 indices를 만듦\n",
    "    return data.loc[~in_test_set], data.loc[in_test_set]"
   ]
  },
  {
   "cell_type": "markdown",
   "metadata": {},
   "source": [
    "- 주택 데이터셋에는 식별자 컬럼이 없습니다. <br>\n",
    "   행의 인덱스를 식별자로 사용하여 테스트 세트를 생성하기 위해서는 인덱스 컬럼을 만들어야 합니다."
   ]
  },
  {
   "cell_type": "code",
   "execution_count": 13,
   "metadata": {},
   "outputs": [
    {
     "name": "stdout",
     "output_type": "stream",
     "text": [
      "16512 train +  4128 test\n"
     ]
    },
    {
     "data": {
      "text/html": [
       "<div>\n",
       "<style scoped>\n",
       "    .dataframe tbody tr th:only-of-type {\n",
       "        vertical-align: middle;\n",
       "    }\n",
       "\n",
       "    .dataframe tbody tr th {\n",
       "        vertical-align: top;\n",
       "    }\n",
       "\n",
       "    .dataframe thead th {\n",
       "        text-align: right;\n",
       "    }\n",
       "</style>\n",
       "<table border=\"1\" class=\"dataframe\">\n",
       "  <thead>\n",
       "    <tr style=\"text-align: right;\">\n",
       "      <th></th>\n",
       "      <th>longitude</th>\n",
       "      <th>latitude</th>\n",
       "      <th>housing_median_age</th>\n",
       "      <th>total_rooms</th>\n",
       "      <th>total_bedrooms</th>\n",
       "      <th>population</th>\n",
       "      <th>households</th>\n",
       "      <th>median_income</th>\n",
       "      <th>median_house_value</th>\n",
       "      <th>ocean_proximity</th>\n",
       "    </tr>\n",
       "  </thead>\n",
       "  <tbody>\n",
       "    <tr>\n",
       "      <th>14196</th>\n",
       "      <td>-117.03</td>\n",
       "      <td>32.71</td>\n",
       "      <td>33.0</td>\n",
       "      <td>3126.0</td>\n",
       "      <td>627.0</td>\n",
       "      <td>2300.0</td>\n",
       "      <td>623.0</td>\n",
       "      <td>3.2596</td>\n",
       "      <td>103000.0</td>\n",
       "      <td>NEAR OCEAN</td>\n",
       "    </tr>\n",
       "    <tr>\n",
       "      <th>8267</th>\n",
       "      <td>-118.16</td>\n",
       "      <td>33.77</td>\n",
       "      <td>49.0</td>\n",
       "      <td>3382.0</td>\n",
       "      <td>787.0</td>\n",
       "      <td>1314.0</td>\n",
       "      <td>756.0</td>\n",
       "      <td>3.8125</td>\n",
       "      <td>382100.0</td>\n",
       "      <td>NEAR OCEAN</td>\n",
       "    </tr>\n",
       "    <tr>\n",
       "      <th>17445</th>\n",
       "      <td>-120.48</td>\n",
       "      <td>34.66</td>\n",
       "      <td>4.0</td>\n",
       "      <td>1897.0</td>\n",
       "      <td>331.0</td>\n",
       "      <td>915.0</td>\n",
       "      <td>336.0</td>\n",
       "      <td>4.1563</td>\n",
       "      <td>172600.0</td>\n",
       "      <td>NEAR OCEAN</td>\n",
       "    </tr>\n",
       "    <tr>\n",
       "      <th>14265</th>\n",
       "      <td>-117.11</td>\n",
       "      <td>32.69</td>\n",
       "      <td>36.0</td>\n",
       "      <td>1421.0</td>\n",
       "      <td>367.0</td>\n",
       "      <td>1418.0</td>\n",
       "      <td>355.0</td>\n",
       "      <td>1.9425</td>\n",
       "      <td>93400.0</td>\n",
       "      <td>NEAR OCEAN</td>\n",
       "    </tr>\n",
       "    <tr>\n",
       "      <th>2271</th>\n",
       "      <td>-119.80</td>\n",
       "      <td>36.78</td>\n",
       "      <td>43.0</td>\n",
       "      <td>2382.0</td>\n",
       "      <td>431.0</td>\n",
       "      <td>874.0</td>\n",
       "      <td>380.0</td>\n",
       "      <td>3.5542</td>\n",
       "      <td>96500.0</td>\n",
       "      <td>INLAND</td>\n",
       "    </tr>\n",
       "  </tbody>\n",
       "</table>\n",
       "</div>"
      ],
      "text/plain": [
       "       longitude  latitude  housing_median_age  total_rooms  total_bedrooms  \\\n",
       "14196    -117.03     32.71                33.0       3126.0           627.0   \n",
       "8267     -118.16     33.77                49.0       3382.0           787.0   \n",
       "17445    -120.48     34.66                 4.0       1897.0           331.0   \n",
       "14265    -117.11     32.69                36.0       1421.0           367.0   \n",
       "2271     -119.80     36.78                43.0       2382.0           431.0   \n",
       "\n",
       "       population  households  median_income  median_house_value  \\\n",
       "14196      2300.0       623.0         3.2596            103000.0   \n",
       "8267       1314.0       756.0         3.8125            382100.0   \n",
       "17445       915.0       336.0         4.1563            172600.0   \n",
       "14265      1418.0       355.0         1.9425             93400.0   \n",
       "2271        874.0       380.0         3.5542             96500.0   \n",
       "\n",
       "      ocean_proximity  \n",
       "14196      NEAR OCEAN  \n",
       "8267       NEAR OCEAN  \n",
       "17445      NEAR OCEAN  \n",
       "14265      NEAR OCEAN  \n",
       "2271           INLAND  "
      ]
     },
     "metadata": {},
     "output_type": "display_data"
    }
   ],
   "source": [
    "# \"index\" 열이 추가된 데이터프레임 만들기\n",
    "housing_with_id = housing.reset_index()\n",
    "\n",
    "# 데이터를 훈련 세트와 테스트 세트로 나누고 결과 확인하기\n",
    "train_set, test_set = split_train_test_by_id(housing_with_id, 0.2, \"index\")\n",
    "print(len(housing_train), \"train + \", len(housing_test), \"test\")\n",
    "display(housing_train.head())"
   ]
  },
  {
   "cell_type": "markdown",
   "metadata": {},
   "source": [
    "- 행의 인덱스를 고유 식별자로 사용하기 위해서는 새 데이터는 데이터셋의 끝에 추가되어야 하고,<br>\n",
    "   어떤 행도 삭제되지 않아야 합니다.(기존의 식별자가 변경 되어서는 안됨)\n",
    "- 고유 식별자를 만드는 데 안전한 특성을 사용해야 합니다.\n",
    "- 예를 들어, 위도와 경도는 몇백 년 후까지 변하지 않고 안정적이라고 보장할 수 있으므로 두 값을 이용해서 다음과 같이 ID를 만들 수 있습니다.<br>\n",
    "   (사실, 위치 정보는 정밀도가 낮아서 여러 구역의 ID가 동일해질수 있으므로, 이는 원치 않는 샘플링 편향이 발생할 수 있음)"
   ]
  },
  {
   "cell_type": "code",
   "execution_count": 14,
   "metadata": {},
   "outputs": [
    {
     "name": "stdout",
     "output_type": "stream",
     "text": [
      "16512 train +  4128 test\n"
     ]
    },
    {
     "data": {
      "text/html": [
       "<div>\n",
       "<style scoped>\n",
       "    .dataframe tbody tr th:only-of-type {\n",
       "        vertical-align: middle;\n",
       "    }\n",
       "\n",
       "    .dataframe tbody tr th {\n",
       "        vertical-align: top;\n",
       "    }\n",
       "\n",
       "    .dataframe thead th {\n",
       "        text-align: right;\n",
       "    }\n",
       "</style>\n",
       "<table border=\"1\" class=\"dataframe\">\n",
       "  <thead>\n",
       "    <tr style=\"text-align: right;\">\n",
       "      <th></th>\n",
       "      <th>longitude</th>\n",
       "      <th>latitude</th>\n",
       "      <th>housing_median_age</th>\n",
       "      <th>total_rooms</th>\n",
       "      <th>total_bedrooms</th>\n",
       "      <th>population</th>\n",
       "      <th>households</th>\n",
       "      <th>median_income</th>\n",
       "      <th>median_house_value</th>\n",
       "      <th>ocean_proximity</th>\n",
       "    </tr>\n",
       "  </thead>\n",
       "  <tbody>\n",
       "    <tr>\n",
       "      <th>14196</th>\n",
       "      <td>-117.03</td>\n",
       "      <td>32.71</td>\n",
       "      <td>33.0</td>\n",
       "      <td>3126.0</td>\n",
       "      <td>627.0</td>\n",
       "      <td>2300.0</td>\n",
       "      <td>623.0</td>\n",
       "      <td>3.2596</td>\n",
       "      <td>103000.0</td>\n",
       "      <td>NEAR OCEAN</td>\n",
       "    </tr>\n",
       "    <tr>\n",
       "      <th>8267</th>\n",
       "      <td>-118.16</td>\n",
       "      <td>33.77</td>\n",
       "      <td>49.0</td>\n",
       "      <td>3382.0</td>\n",
       "      <td>787.0</td>\n",
       "      <td>1314.0</td>\n",
       "      <td>756.0</td>\n",
       "      <td>3.8125</td>\n",
       "      <td>382100.0</td>\n",
       "      <td>NEAR OCEAN</td>\n",
       "    </tr>\n",
       "    <tr>\n",
       "      <th>17445</th>\n",
       "      <td>-120.48</td>\n",
       "      <td>34.66</td>\n",
       "      <td>4.0</td>\n",
       "      <td>1897.0</td>\n",
       "      <td>331.0</td>\n",
       "      <td>915.0</td>\n",
       "      <td>336.0</td>\n",
       "      <td>4.1563</td>\n",
       "      <td>172600.0</td>\n",
       "      <td>NEAR OCEAN</td>\n",
       "    </tr>\n",
       "    <tr>\n",
       "      <th>14265</th>\n",
       "      <td>-117.11</td>\n",
       "      <td>32.69</td>\n",
       "      <td>36.0</td>\n",
       "      <td>1421.0</td>\n",
       "      <td>367.0</td>\n",
       "      <td>1418.0</td>\n",
       "      <td>355.0</td>\n",
       "      <td>1.9425</td>\n",
       "      <td>93400.0</td>\n",
       "      <td>NEAR OCEAN</td>\n",
       "    </tr>\n",
       "    <tr>\n",
       "      <th>2271</th>\n",
       "      <td>-119.80</td>\n",
       "      <td>36.78</td>\n",
       "      <td>43.0</td>\n",
       "      <td>2382.0</td>\n",
       "      <td>431.0</td>\n",
       "      <td>874.0</td>\n",
       "      <td>380.0</td>\n",
       "      <td>3.5542</td>\n",
       "      <td>96500.0</td>\n",
       "      <td>INLAND</td>\n",
       "    </tr>\n",
       "  </tbody>\n",
       "</table>\n",
       "</div>"
      ],
      "text/plain": [
       "       longitude  latitude  housing_median_age  total_rooms  total_bedrooms  \\\n",
       "14196    -117.03     32.71                33.0       3126.0           627.0   \n",
       "8267     -118.16     33.77                49.0       3382.0           787.0   \n",
       "17445    -120.48     34.66                 4.0       1897.0           331.0   \n",
       "14265    -117.11     32.69                36.0       1421.0           367.0   \n",
       "2271     -119.80     36.78                43.0       2382.0           431.0   \n",
       "\n",
       "       population  households  median_income  median_house_value  \\\n",
       "14196      2300.0       623.0         3.2596            103000.0   \n",
       "8267       1314.0       756.0         3.8125            382100.0   \n",
       "17445       915.0       336.0         4.1563            172600.0   \n",
       "14265      1418.0       355.0         1.9425             93400.0   \n",
       "2271        874.0       380.0         3.5542             96500.0   \n",
       "\n",
       "      ocean_proximity  \n",
       "14196      NEAR OCEAN  \n",
       "8267       NEAR OCEAN  \n",
       "17445      NEAR OCEAN  \n",
       "14265      NEAR OCEAN  \n",
       "2271           INLAND  "
      ]
     },
     "metadata": {},
     "output_type": "display_data"
    }
   ],
   "source": [
    "# 데이터셋에 포함된 위도와 경도를 이용한 식별자 만들기\n",
    "housing_with_id[\"id\"] = housing[\"longitude\"] * 1000 + housing[\"latitude\"]\n",
    "\n",
    "# 데이터를 훈련 세트와 테스트 세트로 나누고 결과 확인하기\n",
    "train_set, test_set = split_train_test_by_id(housing_with_id, 0.2, \"id\")\n",
    "print(len(housing_train), \"train + \", len(housing_test), \"test\")\n",
    "display(housing_train.head())"
   ]
  },
  {
   "cell_type": "markdown",
   "metadata": {},
   "source": [
    "#### 사이킷런을 사용하여 테스트 세트 생성하기"
   ]
  },
  {
   "cell_type": "markdown",
   "metadata": {},
   "source": [
    "- **`scikit-learn`** 은 데이터셋을 여러 서브셋으로 나누는 다양한 방법을 제공합니다.\n",
    "- **`train_test_split()`** 은 난수 초기값을 지정할 수 있는 **`random_state`** 매개변수가 있고,<br>\n",
    "   행의 개수가 같은 여러 개의 데이터셋을 넘겨서 같은 인덱스를 기반으로 나눌 수도 있습니다.<br>\n",
    "   (예를 들어, 데이터프레임이 레이블에 따라 여러 개로 나뉘어 있을 때 매우 유용합니다.)\n",
    "- **`train_test_split()`** 함수는 파이썬 리스트, 넘파이 배열, 판다스 데이터프레임과 시리즈 객체 등을 입력으로 받을 수 있습니다."
   ]
  },
  {
   "cell_type": "code",
   "execution_count": 15,
   "metadata": {},
   "outputs": [
    {
     "name": "stdout",
     "output_type": "stream",
     "text": [
      "16512 train +  4128 test\n"
     ]
    },
    {
     "data": {
      "text/html": [
       "<div>\n",
       "<style scoped>\n",
       "    .dataframe tbody tr th:only-of-type {\n",
       "        vertical-align: middle;\n",
       "    }\n",
       "\n",
       "    .dataframe tbody tr th {\n",
       "        vertical-align: top;\n",
       "    }\n",
       "\n",
       "    .dataframe thead th {\n",
       "        text-align: right;\n",
       "    }\n",
       "</style>\n",
       "<table border=\"1\" class=\"dataframe\">\n",
       "  <thead>\n",
       "    <tr style=\"text-align: right;\">\n",
       "      <th></th>\n",
       "      <th>longitude</th>\n",
       "      <th>latitude</th>\n",
       "      <th>housing_median_age</th>\n",
       "      <th>total_rooms</th>\n",
       "      <th>total_bedrooms</th>\n",
       "      <th>population</th>\n",
       "      <th>households</th>\n",
       "      <th>median_income</th>\n",
       "      <th>median_house_value</th>\n",
       "      <th>ocean_proximity</th>\n",
       "    </tr>\n",
       "  </thead>\n",
       "  <tbody>\n",
       "    <tr>\n",
       "      <th>14196</th>\n",
       "      <td>-117.03</td>\n",
       "      <td>32.71</td>\n",
       "      <td>33.0</td>\n",
       "      <td>3126.0</td>\n",
       "      <td>627.0</td>\n",
       "      <td>2300.0</td>\n",
       "      <td>623.0</td>\n",
       "      <td>3.2596</td>\n",
       "      <td>103000.0</td>\n",
       "      <td>NEAR OCEAN</td>\n",
       "    </tr>\n",
       "    <tr>\n",
       "      <th>8267</th>\n",
       "      <td>-118.16</td>\n",
       "      <td>33.77</td>\n",
       "      <td>49.0</td>\n",
       "      <td>3382.0</td>\n",
       "      <td>787.0</td>\n",
       "      <td>1314.0</td>\n",
       "      <td>756.0</td>\n",
       "      <td>3.8125</td>\n",
       "      <td>382100.0</td>\n",
       "      <td>NEAR OCEAN</td>\n",
       "    </tr>\n",
       "    <tr>\n",
       "      <th>17445</th>\n",
       "      <td>-120.48</td>\n",
       "      <td>34.66</td>\n",
       "      <td>4.0</td>\n",
       "      <td>1897.0</td>\n",
       "      <td>331.0</td>\n",
       "      <td>915.0</td>\n",
       "      <td>336.0</td>\n",
       "      <td>4.1563</td>\n",
       "      <td>172600.0</td>\n",
       "      <td>NEAR OCEAN</td>\n",
       "    </tr>\n",
       "    <tr>\n",
       "      <th>14265</th>\n",
       "      <td>-117.11</td>\n",
       "      <td>32.69</td>\n",
       "      <td>36.0</td>\n",
       "      <td>1421.0</td>\n",
       "      <td>367.0</td>\n",
       "      <td>1418.0</td>\n",
       "      <td>355.0</td>\n",
       "      <td>1.9425</td>\n",
       "      <td>93400.0</td>\n",
       "      <td>NEAR OCEAN</td>\n",
       "    </tr>\n",
       "    <tr>\n",
       "      <th>2271</th>\n",
       "      <td>-119.80</td>\n",
       "      <td>36.78</td>\n",
       "      <td>43.0</td>\n",
       "      <td>2382.0</td>\n",
       "      <td>431.0</td>\n",
       "      <td>874.0</td>\n",
       "      <td>380.0</td>\n",
       "      <td>3.5542</td>\n",
       "      <td>96500.0</td>\n",
       "      <td>INLAND</td>\n",
       "    </tr>\n",
       "  </tbody>\n",
       "</table>\n",
       "</div>"
      ],
      "text/plain": [
       "       longitude  latitude  housing_median_age  total_rooms  total_bedrooms  \\\n",
       "14196    -117.03     32.71                33.0       3126.0           627.0   \n",
       "8267     -118.16     33.77                49.0       3382.0           787.0   \n",
       "17445    -120.48     34.66                 4.0       1897.0           331.0   \n",
       "14265    -117.11     32.69                36.0       1421.0           367.0   \n",
       "2271     -119.80     36.78                43.0       2382.0           431.0   \n",
       "\n",
       "       population  households  median_income  median_house_value  \\\n",
       "14196      2300.0       623.0         3.2596            103000.0   \n",
       "8267       1314.0       756.0         3.8125            382100.0   \n",
       "17445       915.0       336.0         4.1563            172600.0   \n",
       "14265      1418.0       355.0         1.9425             93400.0   \n",
       "2271        874.0       380.0         3.5542             96500.0   \n",
       "\n",
       "      ocean_proximity  \n",
       "14196      NEAR OCEAN  \n",
       "8267       NEAR OCEAN  \n",
       "17445      NEAR OCEAN  \n",
       "14265      NEAR OCEAN  \n",
       "2271           INLAND  "
      ]
     },
     "metadata": {},
     "output_type": "display_data"
    }
   ],
   "source": [
    "from sklearn.model_selection import train_test_split\n",
    "\n",
    "train_set, test_set = train_test_split(housing, test_size=0.2, random_state=42)\n",
    "print(len(housing_train), \"train + \", len(housing_test), \"test\")\n",
    "display(housing_train.head())"
   ]
  },
  {
   "cell_type": "markdown",
   "metadata": {},
   "source": [
    "#### 계층적 샘플링(Stratified Sampling) 하기"
   ]
  },
  {
   "cell_type": "markdown",
   "metadata": {},
   "source": [
    "- 무작위 샘플링 방식은 데이터 셋이 충분히 크지 않다면(특히, 특성에 비해) 샘플링 편향이 생길 가능성이 큽니다.\n",
    "- 전체 모수를 계층(Strata)이라는 동질의 그룹으로 나누고, <br>\n",
    "   테스트 세트가 전체 모수를 대표하도록 각 계층에서 올바른 수의 샘플을 추출 합니다.\n",
    "- 예를 들어, 중간 소득이 중간 주택 가격을 예측하는 데 중요하다고 가정하면, <br>\n",
    "   테스트 세트가 전체 데이터셋에 있는 여러 중간 소득 카테고리를 잘 대표해야 합니다."
   ]
  },
  {
   "cell_type": "markdown",
   "metadata": {},
   "source": [
    "-  중간 소득이 연속적인 숫자형 특성이므로, 계층적 샘플링을 위해서는 소득에 대한 카테고리 특성을 만들어야 합니다.<br>\n",
    "   계층 별로 데이터셋에 충분한 샘플 수가 있어야 합니다. 그렇지 않으면 계층의 중요도를 추정하는 데 편향이 발생할 것입니다.<br>\n",
    "   너무 많은 특성으로 나누면 안된다는 뜻이며, 각 계층이 충분이 커야 합니다."
   ]
  },
  {
   "cell_type": "code",
   "execution_count": 16,
   "metadata": {},
   "outputs": [],
   "source": [
    "# 중간 소득에 대한 카테고리 특성 만들기\n",
    "\n",
    "# 중간 소득을 ceil 함수로 올림처리해서 이산적인 카테고리(income_cat)를 만듦 (수입을 1.5로 나눠서 범위를 축소함. 즉, 카테고리 수를 제한함)\n",
    "housing[\"income_cat\"] = np.ceil(housing[\"median_income\"] / 1.5)\n",
    "\n",
    "# 5보다 큰 카테고리는 5로 합하기\n",
    "# where 함수는 조건이 True인 경우 그대로 반환하고, False인 경우 지정한 값(5.0)으로 대체함\n",
    "# inplace=True이면 기존 객체를 변경하고 반환값은 없음, False이면 새로운 객체를 복사해서 반환함\n",
    "housing[\"income_cat\"].where(housing[\"income_cat\"] < 5, 5.0, inplace=True)"
   ]
  },
  {
   "cell_type": "code",
   "execution_count": 17,
   "metadata": {},
   "outputs": [
    {
     "data": {
      "text/html": [
       "<div>\n",
       "<style scoped>\n",
       "    .dataframe tbody tr th:only-of-type {\n",
       "        vertical-align: middle;\n",
       "    }\n",
       "\n",
       "    .dataframe tbody tr th {\n",
       "        vertical-align: top;\n",
       "    }\n",
       "\n",
       "    .dataframe thead th {\n",
       "        text-align: right;\n",
       "    }\n",
       "</style>\n",
       "<table border=\"1\" class=\"dataframe\">\n",
       "  <thead>\n",
       "    <tr style=\"text-align: right;\">\n",
       "      <th></th>\n",
       "      <th>longitude</th>\n",
       "      <th>latitude</th>\n",
       "      <th>housing_median_age</th>\n",
       "      <th>total_rooms</th>\n",
       "      <th>total_bedrooms</th>\n",
       "      <th>population</th>\n",
       "      <th>households</th>\n",
       "      <th>median_income</th>\n",
       "      <th>median_house_value</th>\n",
       "      <th>ocean_proximity</th>\n",
       "      <th>income_cat</th>\n",
       "    </tr>\n",
       "  </thead>\n",
       "  <tbody>\n",
       "    <tr>\n",
       "      <th>17606</th>\n",
       "      <td>-121.89</td>\n",
       "      <td>37.29</td>\n",
       "      <td>38.0</td>\n",
       "      <td>1568.0</td>\n",
       "      <td>351.0</td>\n",
       "      <td>710.0</td>\n",
       "      <td>339.0</td>\n",
       "      <td>2.7042</td>\n",
       "      <td>286600.0</td>\n",
       "      <td>&lt;1H OCEAN</td>\n",
       "      <td>2.0</td>\n",
       "    </tr>\n",
       "    <tr>\n",
       "      <th>18632</th>\n",
       "      <td>-121.93</td>\n",
       "      <td>37.05</td>\n",
       "      <td>14.0</td>\n",
       "      <td>679.0</td>\n",
       "      <td>108.0</td>\n",
       "      <td>306.0</td>\n",
       "      <td>113.0</td>\n",
       "      <td>6.4214</td>\n",
       "      <td>340600.0</td>\n",
       "      <td>&lt;1H OCEAN</td>\n",
       "      <td>5.0</td>\n",
       "    </tr>\n",
       "    <tr>\n",
       "      <th>14650</th>\n",
       "      <td>-117.20</td>\n",
       "      <td>32.77</td>\n",
       "      <td>31.0</td>\n",
       "      <td>1952.0</td>\n",
       "      <td>471.0</td>\n",
       "      <td>936.0</td>\n",
       "      <td>462.0</td>\n",
       "      <td>2.8621</td>\n",
       "      <td>196900.0</td>\n",
       "      <td>NEAR OCEAN</td>\n",
       "      <td>2.0</td>\n",
       "    </tr>\n",
       "    <tr>\n",
       "      <th>3230</th>\n",
       "      <td>-119.61</td>\n",
       "      <td>36.31</td>\n",
       "      <td>25.0</td>\n",
       "      <td>1847.0</td>\n",
       "      <td>371.0</td>\n",
       "      <td>1460.0</td>\n",
       "      <td>353.0</td>\n",
       "      <td>1.8839</td>\n",
       "      <td>46300.0</td>\n",
       "      <td>INLAND</td>\n",
       "      <td>2.0</td>\n",
       "    </tr>\n",
       "    <tr>\n",
       "      <th>3555</th>\n",
       "      <td>-118.59</td>\n",
       "      <td>34.23</td>\n",
       "      <td>17.0</td>\n",
       "      <td>6592.0</td>\n",
       "      <td>1525.0</td>\n",
       "      <td>4459.0</td>\n",
       "      <td>1463.0</td>\n",
       "      <td>3.0347</td>\n",
       "      <td>254500.0</td>\n",
       "      <td>&lt;1H OCEAN</td>\n",
       "      <td>3.0</td>\n",
       "    </tr>\n",
       "  </tbody>\n",
       "</table>\n",
       "</div>"
      ],
      "text/plain": [
       "       longitude  latitude  housing_median_age  total_rooms  total_bedrooms  \\\n",
       "17606    -121.89     37.29                38.0       1568.0           351.0   \n",
       "18632    -121.93     37.05                14.0        679.0           108.0   \n",
       "14650    -117.20     32.77                31.0       1952.0           471.0   \n",
       "3230     -119.61     36.31                25.0       1847.0           371.0   \n",
       "3555     -118.59     34.23                17.0       6592.0          1525.0   \n",
       "\n",
       "       population  households  median_income  median_house_value  \\\n",
       "17606       710.0       339.0         2.7042            286600.0   \n",
       "18632       306.0       113.0         6.4214            340600.0   \n",
       "14650       936.0       462.0         2.8621            196900.0   \n",
       "3230       1460.0       353.0         1.8839             46300.0   \n",
       "3555       4459.0      1463.0         3.0347            254500.0   \n",
       "\n",
       "      ocean_proximity  income_cat  \n",
       "17606       <1H OCEAN         2.0  \n",
       "18632       <1H OCEAN         5.0  \n",
       "14650      NEAR OCEAN         2.0  \n",
       "3230           INLAND         2.0  \n",
       "3555        <1H OCEAN         3.0  "
      ]
     },
     "metadata": {},
     "output_type": "display_data"
    }
   ],
   "source": [
    "# 사이킷런을 이용한 계층적 샘플링(Stratified Sampling)\n",
    "from sklearn.model_selection import StratifiedShuffleSplit\n",
    "\n",
    "split = StratifiedShuffleSplit(n_splits=1, test_size=0.2, random_state=42)\n",
    "for train_index, test_index in split.split(housing, housing[\"income_cat\"]):\n",
    "    strat_train_set = housing.loc[train_index]\n",
    "    strat_test_set = housing.loc[test_index]\n",
    "\n",
    "display(strat_train_set.head())"
   ]
  },
  {
   "cell_type": "markdown",
   "metadata": {},
   "source": [
    "- 테스트 세트가 전체 모수를 대표하도록 추출 되었는지 확인해봅니다."
   ]
  },
  {
   "cell_type": "code",
   "execution_count": 18,
   "metadata": {},
   "outputs": [
    {
     "data": {
      "text/plain": [
       "3.0    0.350581\n",
       "2.0    0.318847\n",
       "4.0    0.176308\n",
       "5.0    0.114438\n",
       "1.0    0.039826\n",
       "Name: income_cat, dtype: float64"
      ]
     },
     "execution_count": 18,
     "metadata": {},
     "output_type": "execute_result"
    }
   ],
   "source": [
    "# 전체 데이터셋의 카테고리별 비율\n",
    "housing[\"income_cat\"].value_counts() / len(housing)"
   ]
  },
  {
   "cell_type": "code",
   "execution_count": 19,
   "metadata": {
    "scrolled": true
   },
   "outputs": [
    {
     "data": {
      "text/plain": [
       "3.0    0.350594\n",
       "2.0    0.318859\n",
       "4.0    0.176296\n",
       "5.0    0.114402\n",
       "1.0    0.039850\n",
       "Name: income_cat, dtype: float64"
      ]
     },
     "execution_count": 19,
     "metadata": {},
     "output_type": "execute_result"
    }
   ],
   "source": [
    "# 훈련 세트의 카테고리별 비율\n",
    "strat_train_set[\"income_cat\"].value_counts() / len(strat_train_set)"
   ]
  },
  {
   "cell_type": "code",
   "execution_count": 20,
   "metadata": {},
   "outputs": [
    {
     "data": {
      "text/html": [
       "<div>\n",
       "<style scoped>\n",
       "    .dataframe tbody tr th:only-of-type {\n",
       "        vertical-align: middle;\n",
       "    }\n",
       "\n",
       "    .dataframe tbody tr th {\n",
       "        vertical-align: top;\n",
       "    }\n",
       "\n",
       "    .dataframe thead th {\n",
       "        text-align: right;\n",
       "    }\n",
       "</style>\n",
       "<table border=\"1\" class=\"dataframe\">\n",
       "  <thead>\n",
       "    <tr style=\"text-align: right;\">\n",
       "      <th></th>\n",
       "      <th>longitude</th>\n",
       "      <th>latitude</th>\n",
       "      <th>housing_median_age</th>\n",
       "      <th>total_rooms</th>\n",
       "      <th>total_bedrooms</th>\n",
       "      <th>population</th>\n",
       "      <th>households</th>\n",
       "      <th>median_income</th>\n",
       "      <th>median_house_value</th>\n",
       "      <th>ocean_proximity</th>\n",
       "    </tr>\n",
       "  </thead>\n",
       "  <tbody>\n",
       "    <tr>\n",
       "      <th>17606</th>\n",
       "      <td>-121.89</td>\n",
       "      <td>37.29</td>\n",
       "      <td>38.0</td>\n",
       "      <td>1568.0</td>\n",
       "      <td>351.0</td>\n",
       "      <td>710.0</td>\n",
       "      <td>339.0</td>\n",
       "      <td>2.7042</td>\n",
       "      <td>286600.0</td>\n",
       "      <td>&lt;1H OCEAN</td>\n",
       "    </tr>\n",
       "    <tr>\n",
       "      <th>18632</th>\n",
       "      <td>-121.93</td>\n",
       "      <td>37.05</td>\n",
       "      <td>14.0</td>\n",
       "      <td>679.0</td>\n",
       "      <td>108.0</td>\n",
       "      <td>306.0</td>\n",
       "      <td>113.0</td>\n",
       "      <td>6.4214</td>\n",
       "      <td>340600.0</td>\n",
       "      <td>&lt;1H OCEAN</td>\n",
       "    </tr>\n",
       "    <tr>\n",
       "      <th>14650</th>\n",
       "      <td>-117.20</td>\n",
       "      <td>32.77</td>\n",
       "      <td>31.0</td>\n",
       "      <td>1952.0</td>\n",
       "      <td>471.0</td>\n",
       "      <td>936.0</td>\n",
       "      <td>462.0</td>\n",
       "      <td>2.8621</td>\n",
       "      <td>196900.0</td>\n",
       "      <td>NEAR OCEAN</td>\n",
       "    </tr>\n",
       "    <tr>\n",
       "      <th>3230</th>\n",
       "      <td>-119.61</td>\n",
       "      <td>36.31</td>\n",
       "      <td>25.0</td>\n",
       "      <td>1847.0</td>\n",
       "      <td>371.0</td>\n",
       "      <td>1460.0</td>\n",
       "      <td>353.0</td>\n",
       "      <td>1.8839</td>\n",
       "      <td>46300.0</td>\n",
       "      <td>INLAND</td>\n",
       "    </tr>\n",
       "    <tr>\n",
       "      <th>3555</th>\n",
       "      <td>-118.59</td>\n",
       "      <td>34.23</td>\n",
       "      <td>17.0</td>\n",
       "      <td>6592.0</td>\n",
       "      <td>1525.0</td>\n",
       "      <td>4459.0</td>\n",
       "      <td>1463.0</td>\n",
       "      <td>3.0347</td>\n",
       "      <td>254500.0</td>\n",
       "      <td>&lt;1H OCEAN</td>\n",
       "    </tr>\n",
       "  </tbody>\n",
       "</table>\n",
       "</div>"
      ],
      "text/plain": [
       "       longitude  latitude  housing_median_age  total_rooms  total_bedrooms  \\\n",
       "17606    -121.89     37.29                38.0       1568.0           351.0   \n",
       "18632    -121.93     37.05                14.0        679.0           108.0   \n",
       "14650    -117.20     32.77                31.0       1952.0           471.0   \n",
       "3230     -119.61     36.31                25.0       1847.0           371.0   \n",
       "3555     -118.59     34.23                17.0       6592.0          1525.0   \n",
       "\n",
       "       population  households  median_income  median_house_value  \\\n",
       "17606       710.0       339.0         2.7042            286600.0   \n",
       "18632       306.0       113.0         6.4214            340600.0   \n",
       "14650       936.0       462.0         2.8621            196900.0   \n",
       "3230       1460.0       353.0         1.8839             46300.0   \n",
       "3555       4459.0      1463.0         3.0347            254500.0   \n",
       "\n",
       "      ocean_proximity  \n",
       "17606       <1H OCEAN  \n",
       "18632       <1H OCEAN  \n",
       "14650      NEAR OCEAN  \n",
       "3230           INLAND  \n",
       "3555        <1H OCEAN  "
      ]
     },
     "metadata": {},
     "output_type": "display_data"
    }
   ],
   "source": [
    "# train_set과 test_set에서 테스트 세트 추출을 위해 생성한 \"income_cat\" 필드 지우기\n",
    "for set_ in (strat_train_set, strat_test_set):\n",
    "    # 튜플에 for in 루프를 사용하면, 튜플 원소를 순서대로 반환함 (처음 루프의 set_ 값은 strat_train_set, 두번째 루프의 set_ 값은 strat_test_set)\n",
    "    set_.drop(\"income_cat\", axis=1, inplace=True)     # axis=1은 열을 삭제, inplace=True는 호출된 데이터프레임 자체를 수정함(리턴값은 없음)\n",
    "\n",
    "display(strat_train_set.head())"
   ]
  },
  {
   "cell_type": "markdown",
   "metadata": {},
   "source": [
    "## 2.4 데이터 이해를 위한 탐색과 시각화"
   ]
  },
  {
   "cell_type": "markdown",
   "metadata": {},
   "source": [
    "테스트 세트를 떼어놓았는지 확인하고 훈련 세트에 대해서만 탐색을 합니다. <br>\n",
    "훈련 세트가 매우 크면 조작을 간단하고 빠르게 하기 위해 탐색을 위한 세트를 별도로 샘플링할 수도 있습니다.<br>\n",
    "훈련 세트를 손상시키지 않기 위해 복사본을 만들어 사용합니다."
   ]
  },
  {
   "cell_type": "code",
   "execution_count": 21,
   "metadata": {},
   "outputs": [],
   "source": [
    "housing = strat_train_set.copy()"
   ]
  },
  {
   "cell_type": "markdown",
   "metadata": {},
   "source": [
    "### 지리적 데이터 시각화"
   ]
  },
  {
   "cell_type": "markdown",
   "metadata": {},
   "source": [
    "산점도에 `alpha` 옵션으로 투명도를 조정하여 밀집된 지역을 표시할 수 있습니다. (0~1 사이 값으로 투명~불투명 정도 지정)"
   ]
  },
  {
   "cell_type": "code",
   "execution_count": 22,
   "metadata": {},
   "outputs": [
    {
     "data": {
      "text/plain": [
       "<matplotlib.axes._subplots.AxesSubplot at 0x12c156470>"
      ]
     },
     "execution_count": 22,
     "metadata": {},
     "output_type": "execute_result"
    },
    {
     "data": {
      "image/png": "[encoded data removed]",
      "text/plain": [
       "<Figure size 432x288 with 1 Axes>"
      ]
     },
     "metadata": {
      "needs_background": "light"
     },
     "output_type": "display_data"
    }
   ],
   "source": [
    "housing.plot(kind=\"scatter\", x=\"longitude\", y=\"latitude\", alpha=0.1)"
   ]
  },
  {
   "cell_type": "markdown",
   "metadata": {},
   "source": [
    "- 더 두드러진 패턴을 보려면 매개변수를 다양하게 조절해야 합니다.\n",
    "- 산점도에 주택가격을 나타내보겠습니다. <br>\n",
    "   원의 반지름은 구역의 인구를 나타내고(매개변수 s), 색깔은 중간 주택 가격을 나타냅니다(매개변수 c). <br>\n",
    "   여기서는 미리 정의된 컬러맵을 사용 합니다.(매개변수 cmap=plt.get_cmap(\"jet\"), 낮은 가격은 파란색, 높은 가격은 빨간색) <br>\n",
    "   매개변수 s는 marker size(제곱값), c는 color, cmap은 colormap을 의미합니다."
   ]
  },
  {
   "cell_type": "code",
   "execution_count": 23,
   "metadata": {},
   "outputs": [
    {
     "data": {
      "text/plain": [
       "<matplotlib.legend.Legend at 0x12c287ac8>"
      ]
     },
     "execution_count": 23,
     "metadata": {},
     "output_type": "execute_result"
    },
    {
     "data": {
      "image/png": "[encoded data removed]",
      "text/plain": [
       "<Figure size 720x504 with 2 Axes>"
      ]
     },
     "metadata": {
      "needs_background": "light"
     },
     "output_type": "display_data"
    }
   ],
   "source": [
    "# 주택 가격 표시 (원의 반지름은 인구수, 색깔은 가격을 표시)\n",
    "housing.plot(kind=\"scatter\", x=\"longitude\", y=\"latitude\", alpha=0.4,\n",
    "            s=housing[\"population\"]/100, label=\"인구\", figsize=(10,7),\n",
    "            c=\"median_house_value\", cmap=plt.get_cmap(\"jet\"), colorbar=True, sharex=False)\n",
    "plt.xlabel(\"경도\")\n",
    "plt.ylabel(\"위도\")\n",
    "plt.legend()"
   ]
  },
  {
   "cell_type": "markdown",
   "metadata": {},
   "source": [
    "- 위 그림에서 주택 가격은 지역(예를 들면 바다와 인접한 곳)과 인구 밀도에 관련이 매우 크다는 사실을 알 수 있습니다.<br>\n",
    "   이런 내용은 군집 알고리즘을 사용해 주요 군집을 찾고 군집의 중심까지의 거리를 재는 특성을 추가할 때 도움이 됩니다.<br>\n",
    "   해안 근접 특성의 경우, 북부 해안가의 주택 가격이 그리 높지 않아서 간단한 규칙이 적용되기 어렵습니다."
   ]
  },
  {
   "cell_type": "markdown",
   "metadata": {},
   "source": [
    "### 상관관계 조사"
   ]
  },
  {
   "cell_type": "markdown",
   "metadata": {},
   "source": [
    "데이터셋이 너무 크지 않으므로 모든 특성 간의 **`표준 상관계수(Standard Correlation Codfficient)`** 를<br>\n",
    "**`corr()`** 메서드를 이용해 쉽게 계산할 수 있습니다. (**피어슨의 $r$** 이라고도 부릅니다.)"
   ]
  },
  {
   "cell_type": "code",
   "execution_count": 24,
   "metadata": {},
   "outputs": [
    {
     "data": {
      "text/html": [
       "<div>\n",
       "<style scoped>\n",
       "    .dataframe tbody tr th:only-of-type {\n",
       "        vertical-align: middle;\n",
       "    }\n",
       "\n",
       "    .dataframe tbody tr th {\n",
       "        vertical-align: top;\n",
       "    }\n",
       "\n",
       "    .dataframe thead th {\n",
       "        text-align: right;\n",
       "    }\n",
       "</style>\n",
       "<table border=\"1\" class=\"dataframe\">\n",
       "  <thead>\n",
       "    <tr style=\"text-align: right;\">\n",
       "      <th></th>\n",
       "      <th>longitude</th>\n",
       "      <th>latitude</th>\n",
       "      <th>housing_median_age</th>\n",
       "      <th>total_rooms</th>\n",
       "      <th>total_bedrooms</th>\n",
       "      <th>population</th>\n",
       "      <th>households</th>\n",
       "      <th>median_income</th>\n",
       "      <th>median_house_value</th>\n",
       "    </tr>\n",
       "  </thead>\n",
       "  <tbody>\n",
       "    <tr>\n",
       "      <th>longitude</th>\n",
       "      <td>1.000000</td>\n",
       "      <td>-0.924478</td>\n",
       "      <td>-0.105848</td>\n",
       "      <td>0.048871</td>\n",
       "      <td>0.076598</td>\n",
       "      <td>0.108030</td>\n",
       "      <td>0.063070</td>\n",
       "      <td>-0.019583</td>\n",
       "      <td>-0.047432</td>\n",
       "    </tr>\n",
       "    <tr>\n",
       "      <th>latitude</th>\n",
       "      <td>-0.924478</td>\n",
       "      <td>1.000000</td>\n",
       "      <td>0.005766</td>\n",
       "      <td>-0.039184</td>\n",
       "      <td>-0.072419</td>\n",
       "      <td>-0.115222</td>\n",
       "      <td>-0.077647</td>\n",
       "      <td>-0.075205</td>\n",
       "      <td>-0.142724</td>\n",
       "    </tr>\n",
       "    <tr>\n",
       "      <th>housing_median_age</th>\n",
       "      <td>-0.105848</td>\n",
       "      <td>0.005766</td>\n",
       "      <td>1.000000</td>\n",
       "      <td>-0.364509</td>\n",
       "      <td>-0.325047</td>\n",
       "      <td>-0.298710</td>\n",
       "      <td>-0.306428</td>\n",
       "      <td>-0.111360</td>\n",
       "      <td>0.114110</td>\n",
       "    </tr>\n",
       "    <tr>\n",
       "      <th>total_rooms</th>\n",
       "      <td>0.048871</td>\n",
       "      <td>-0.039184</td>\n",
       "      <td>-0.364509</td>\n",
       "      <td>1.000000</td>\n",
       "      <td>0.929379</td>\n",
       "      <td>0.855109</td>\n",
       "      <td>0.918392</td>\n",
       "      <td>0.200087</td>\n",
       "      <td>0.135097</td>\n",
       "    </tr>\n",
       "    <tr>\n",
       "      <th>total_bedrooms</th>\n",
       "      <td>0.076598</td>\n",
       "      <td>-0.072419</td>\n",
       "      <td>-0.325047</td>\n",
       "      <td>0.929379</td>\n",
       "      <td>1.000000</td>\n",
       "      <td>0.876320</td>\n",
       "      <td>0.980170</td>\n",
       "      <td>-0.009740</td>\n",
       "      <td>0.047689</td>\n",
       "    </tr>\n",
       "    <tr>\n",
       "      <th>population</th>\n",
       "      <td>0.108030</td>\n",
       "      <td>-0.115222</td>\n",
       "      <td>-0.298710</td>\n",
       "      <td>0.855109</td>\n",
       "      <td>0.876320</td>\n",
       "      <td>1.000000</td>\n",
       "      <td>0.904637</td>\n",
       "      <td>0.002380</td>\n",
       "      <td>-0.026920</td>\n",
       "    </tr>\n",
       "    <tr>\n",
       "      <th>households</th>\n",
       "      <td>0.063070</td>\n",
       "      <td>-0.077647</td>\n",
       "      <td>-0.306428</td>\n",
       "      <td>0.918392</td>\n",
       "      <td>0.980170</td>\n",
       "      <td>0.904637</td>\n",
       "      <td>1.000000</td>\n",
       "      <td>0.010781</td>\n",
       "      <td>0.064506</td>\n",
       "    </tr>\n",
       "    <tr>\n",
       "      <th>median_income</th>\n",
       "      <td>-0.019583</td>\n",
       "      <td>-0.075205</td>\n",
       "      <td>-0.111360</td>\n",
       "      <td>0.200087</td>\n",
       "      <td>-0.009740</td>\n",
       "      <td>0.002380</td>\n",
       "      <td>0.010781</td>\n",
       "      <td>1.000000</td>\n",
       "      <td>0.687160</td>\n",
       "    </tr>\n",
       "    <tr>\n",
       "      <th>median_house_value</th>\n",
       "      <td>-0.047432</td>\n",
       "      <td>-0.142724</td>\n",
       "      <td>0.114110</td>\n",
       "      <td>0.135097</td>\n",
       "      <td>0.047689</td>\n",
       "      <td>-0.026920</td>\n",
       "      <td>0.064506</td>\n",
       "      <td>0.687160</td>\n",
       "      <td>1.000000</td>\n",
       "    </tr>\n",
       "  </tbody>\n",
       "</table>\n",
       "</div>"
      ],
      "text/plain": [
       "                    longitude  latitude  housing_median_age  total_rooms  \\\n",
       "longitude            1.000000 -0.924478           -0.105848     0.048871   \n",
       "latitude            -0.924478  1.000000            0.005766    -0.039184   \n",
       "housing_median_age  -0.105848  0.005766            1.000000    -0.364509   \n",
       "total_rooms          0.048871 -0.039184           -0.364509     1.000000   \n",
       "total_bedrooms       0.076598 -0.072419           -0.325047     0.929379   \n",
       "population           0.108030 -0.115222           -0.298710     0.855109   \n",
       "households           0.063070 -0.077647           -0.306428     0.918392   \n",
       "median_income       -0.019583 -0.075205           -0.111360     0.200087   \n",
       "median_house_value  -0.047432 -0.142724            0.114110     0.135097   \n",
       "\n",
       "                    total_bedrooms  population  households  median_income  \\\n",
       "longitude                 0.076598    0.108030    0.063070      -0.019583   \n",
       "latitude                 -0.072419   -0.115222   -0.077647      -0.075205   \n",
       "housing_median_age       -0.325047   -0.298710   -0.306428      -0.111360   \n",
       "total_rooms               0.929379    0.855109    0.918392       0.200087   \n",
       "total_bedrooms            1.000000    0.876320    0.980170      -0.009740   \n",
       "population                0.876320    1.000000    0.904637       0.002380   \n",
       "households                0.980170    0.904637    1.000000       0.010781   \n",
       "median_income            -0.009740    0.002380    0.010781       1.000000   \n",
       "median_house_value        0.047689   -0.026920    0.064506       0.687160   \n",
       "\n",
       "                    median_house_value  \n",
       "longitude                    -0.047432  \n",
       "latitude                     -0.142724  \n",
       "housing_median_age            0.114110  \n",
       "total_rooms                   0.135097  \n",
       "total_bedrooms                0.047689  \n",
       "population                   -0.026920  \n",
       "households                    0.064506  \n",
       "median_income                 0.687160  \n",
       "median_house_value            1.000000  "
      ]
     },
     "metadata": {},
     "output_type": "display_data"
    }
   ],
   "source": [
    "# 특성 간의 상관관계 조사\n",
    "corr_matrix = housing.corr()\n",
    "display(corr_matrix)"
   ]
  },
  {
   "cell_type": "code",
   "execution_count": 25,
   "metadata": {},
   "outputs": [
    {
     "data": {
      "text/plain": [
       "median_house_value    1.000000\n",
       "median_income         0.687160\n",
       "total_rooms           0.135097\n",
       "housing_median_age    0.114110\n",
       "households            0.064506\n",
       "total_bedrooms        0.047689\n",
       "population           -0.026920\n",
       "longitude            -0.047432\n",
       "latitude             -0.142724\n",
       "Name: median_house_value, dtype: float64"
      ]
     },
     "execution_count": 25,
     "metadata": {},
     "output_type": "execute_result"
    }
   ],
   "source": [
    "corr_matrix[\"median_house_value\"].sort_values(ascending=False)"
   ]
  },
  {
   "cell_type": "markdown",
   "metadata": {},
   "source": [
    "- 상관 계수의 범위는 -1부터 1까지 입니다. \n",
    "- 1에 가까우면 양의 상관관계를 가진다는 뜻입니다.<br>\n",
    "   중간 주택 가격은 중간 소득이 올라갈 때 증가하는 경향이 있습니다.\n",
    "- 계수가 -1에 가까우면 음의 상관관계를 나타냅니다.<br>\n",
    "   위도와 중간 주택 가격 사이에는 약한 음의 상관관계가 보입니다.(즉, 북쪽으로 갈수록 주택 가격이 조금씩 내려가는 경향이 있습니다.)\n",
    "- 계수가 0에 가까우면 선형적인 상관관계가 없다는 뜻입니다.\n",
    "---\n",
    "- 상관계수는 선형적인 상관관계만을 측정합니다.(x가 증가하면 y는 증가하거나 감소합니다.) <br>\n",
    "   그래서 비선형적인 관계는 잡을 수 없습니다.\n",
    "- 상관계수는 기울기와 상관없습니다."
   ]
  },
  {
   "cell_type": "markdown",
   "metadata": {},
   "source": [
    "`특성 사이의 상관관계를 확인하는 다른 방법은 숫자형 특성 사이의 산점도를 그려주는 판다스의`<br>\n",
    "**`scatter_matrix()`** 메서드를 사용하는 것입니다.<br>\n",
    "중간 주택 가격과 상관관계가 높아 보이는 특성 몇 개만 살펴보겠습니다."
   ]
  },
  {
   "cell_type": "code",
   "execution_count": 26,
   "metadata": {},
   "outputs": [
    {
     "data": {
      "image/png": "[encoded data removed]",
      "text/plain": [
       "<Figure size 864x576 with 16 Axes>"
      ]
     },
     "metadata": {
      "needs_background": "light"
     },
     "output_type": "display_data"
    }
   ],
   "source": [
    "from pandas.plotting import scatter_matrix\n",
    "from pandas.plotting._tools import _set_ticks_props\n",
    "\n",
    "attributes = [\"median_house_value\", \"median_income\", \"total_rooms\", \"housing_median_age\"]\n",
    "axes = scatter_matrix(housing[attributes], figsize=(12, 8), diagonal=\"hist\")    # diagonal은 \"hist\"(Histogram) 또는 \"kde\"(Kernel Density Estimation) 선택 가능\n",
    "_set_ticks_props(axes, xlabelsize=10, xrot=45, ylabelsize=10, yrot=45)      # x축, y축 레이블 크기 및 기울기(rotation) 지정\n",
    "plt.show()"
   ]
  },
  {
   "cell_type": "markdown",
   "metadata": {},
   "source": [
    "- 대각선 방향(왼쪽 위에서 오른쪽 아래로)은 각 변수 자신에 대한 것이라 그냥 직선이 되므로 유용하지 않습니다.<br>\n",
    "   `scatter_matrix`는 이곳에 각 특성의 히스토그램을 그립니다. (`diagonal` 매개변수로 hist 또는 kde 중 선택 가능)\n",
    "- 중간 주택 가격을 예측하는데 가장 유용할 것 같은 중간 소득에 대한 상관관계 산점도를 확대해보겠습니다."
   ]
  },
  {
   "cell_type": "code",
   "execution_count": 27,
   "metadata": {},
   "outputs": [
    {
     "data": {
      "image/png": "[encoded data removed]",
      "text/plain": [
       "<Figure size 432x288 with 1 Axes>"
      ]
     },
     "metadata": {
      "needs_background": "light"
     },
     "output_type": "display_data"
    }
   ],
   "source": [
    "housing.plot(kind=\"scatter\", x=\"median_income\", y=\"median_house_value\", alpha=0.1)\n",
    "plt.xlabel(\"중간 소득\")\n",
    "plt.ylabel(\"중간 주택 가격\")\n",
    "plt.show()"
   ]
  },
  {
   "cell_type": "markdown",
   "metadata": {},
   "source": [
    "- 이 그래프는 몇 가지 사실을 보여줍니다. 첫째, 상관관계가 매우 강합니다.<br>\n",
    "   위쪽으로 향하는 경향을 볼 수 있으며, 포인트들이 너무 멀리 퍼져있지 않습니다.\n",
    "- 둘째, 앞서 본 가격 제한 값이 \\$500,000에서 수평선으로 잘 보입니다.\n",
    "- 하지만 이 그래프에서 직선에 가까운 형태를 더 볼 수 있습니다. 450,000 달러 근처에서 수평선이 보이고,<br>\n",
    "   350,000 달러와 280,000 달러에도 있고 그 아래 조금 더 보입니다.<br>\n",
    "   알고리즘이 이런 이상한 형태를 학습하지 않도록 해당 구역을 제거하는 것이 좋습니다."
   ]
  },
  {
   "cell_type": "markdown",
   "metadata": {},
   "source": [
    "### 특성 조합으로 실험"
   ]
  },
  {
   "cell_type": "markdown",
   "metadata": {},
   "source": [
    "`머신러닝 알고리즘용 데이터를 준비하기 전에 마지막으로 해볼 수 있는 것은 여러 특성의 조합을 시도해보는 것입니다.`<br>\n",
    "가구당 인원수, 가구당 방수, 방 개수 대비 침대수 등이 흥미로운 특성 조합일 것 같습니다.<br>\n",
    "(구역별 방 개수, 침대 개수, 인원수 자체는 그다지 유용하지 않습니다.)"
   ]
  },
  {
   "cell_type": "code",
   "execution_count": 28,
   "metadata": {},
   "outputs": [
    {
     "data": {
      "text/plain": [
       "median_house_value          1.000000\n",
       "median_income               0.687160\n",
       "rooms_per_household         0.146285\n",
       "total_rooms                 0.135097\n",
       "housing_median_age          0.114110\n",
       "households                  0.064506\n",
       "total_bedrooms              0.047689\n",
       "population_per_household   -0.021985\n",
       "population                 -0.026920\n",
       "longitude                  -0.047432\n",
       "latitude                   -0.142724\n",
       "bedrooms_per_room          -0.259984\n",
       "Name: median_house_value, dtype: float64"
      ]
     },
     "execution_count": 28,
     "metadata": {},
     "output_type": "execute_result"
    }
   ],
   "source": [
    "housing[\"rooms_per_household\"] = housing[\"total_rooms\"] / housing[\"households\"]\n",
    "housing[\"bedrooms_per_room\"] = housing[\"total_bedrooms\"] / housing[\"total_rooms\"]\n",
    "housing[\"population_per_household\"] = housing[\"population\"] / housing[\"households\"]\n",
    "\n",
    "corr_matrix = housing.corr()\n",
    "corr_matrix[\"median_house_value\"].sort_values(ascending=False)"
   ]
  },
  {
   "cell_type": "markdown",
   "metadata": {},
   "source": [
    "- 새로운 bedrooms_per_room 특성은 전체 방 개수와 침대 개수 보다 중단 주택 가격과의 상관관계가 더 높습니다.<br>\n",
    "   (0에서 1 또는 -1 쪽으로 더 가까운 값을 나타냅니다. 0에서 멀어질수록 상관관계가 더 높습니다.)\n",
    "---\n",
    "`시작을 잘해서 빨리 통찰을 얻는 것이 처음 프로토타입을 잘 만드는 데 도움이 될 것입니다.\n",
    "하지만 이는 반복적인 과정입니다.\n",
    "프로토타입을 만들고 실행한 후 그 결과를 분석해서 더 많은 통찰을 얻고 다시 이 탐색 단계로 돌아오게 됩니다.`"
   ]
  },
  {
   "cell_type": "markdown",
   "metadata": {},
   "source": [
    "## 2.5 머신러닝 알고리즘을 위한 데이터 준비"
   ]
  },
  {
   "cell_type": "markdown",
   "metadata": {},
   "source": [
    "머신러닝 알고리즘을 위해 데이터를 준비할 차례입니다. 이 **`데이터 준비 작업을 함수를 만들어 자동화 해야 하는 이유`** 가 있습니다.\n",
    "\n",
    "- `어떤 데이터셋에 대해서도 변환을 손쉽게 반복할 수 있습니다. (예를 들어 다음번에 새로운 데이터셋을 사용할 때)`\n",
    "- `향후 프로젝트에 사용할 수 있는 변환 라이브러리를 점진적으로 구축하게 됩니다.`\n",
    "- `실제 시스템에서 알고리즘에 새 데이터를 주입하기 전에 변환시키는 데 이 함수를 사용할 수 있습니다.`\n",
    "- `여러 가지 데이터 변환을 쉽게 시도해볼 수 있고 어떤 조합이 가장 좋은지 혹인하는 데 편리합니다.`\n",
    "\n",
    "먼저 원래 훈련 세트로 복원하고(strat_train_set을 다시 한번 복사하고), <br>\n",
    "예측 변수와 타깃 값에 같은 변형을 적용하지 않기 위해 예측 변수와 레이블을 분리하겠습니다."
   ]
  },
  {
   "cell_type": "code",
   "execution_count": 29,
   "metadata": {},
   "outputs": [],
   "source": [
    "housing = strat_train_set.drop(\"median_house_value\", axis=1)    # drop() 메서드는 데이터 복사본을 만들며, 원본 strat_train_set에는 영향을 주지 않음\n",
    "housing_labels = strat_train_set[\"median_house_value\"].copy()"
   ]
  },
  {
   "cell_type": "markdown",
   "metadata": {},
   "source": [
    "### 데이터 정제"
   ]
  },
  {
   "cell_type": "markdown",
   "metadata": {},
   "source": [
    "대부분의 머신러닝 알고리즘은 누락된 특성을 다루지 못하므로 이를 처리할 수 있는 함수를 몇 개 만들겠습니다.\n",
    "\n",
    "total_bedrooms 처럼, **`일부 값이 없는 특성을 처리하는 방법은 세 가지입니다.`**\n",
    "- `옵션 1 : 해당 구역(해당 데이터 행)을 제거 합니다.`\n",
    "- `옵션 2 : 전체 특성(해당 열)을 삭제 합니다.`\n",
    "- `옵션 3 : 어떤 값으로 채웁니다. (0, 평균, 중간값 등)`\n",
    "\n",
    "데이터프레임의 `dropna()`, `drop()`, `fillna()` 메서드를 이용해 이런 작업을 간단하게 처리할 수 있습니다."
   ]
  },
  {
   "cell_type": "code",
   "execution_count": 30,
   "metadata": {},
   "outputs": [],
   "source": [
    "# housing.dropna(subset=[\"total_bedrooms\"])       # 옵션 1\n",
    "# housing.drop(\"total_bedrooms\", axis=1)               # 옵션 2\n",
    "median = housing[\"total_bedrooms\"].median()    # 옵션 3\n",
    "housing[\"total_bedrooms\"].fillna(median, inplace=True)"
   ]
  },
  {
   "cell_type": "markdown",
   "metadata": {},
   "source": [
    "- **옵션 3을 선택하면 계산된 중간값을 저장하는 것 또한 잊지 말아야 합니다.**<br>\n",
    "   나중에 시스템을 평가할 때 테스트 세트에 있는 누락된 값을 바꾸기 위해 필요하고,<br>\n",
    "   시스템이 실제 운영될 때 새로운 데이터에서 누락된 값을 바꿔야 하기 때문입니다."
   ]
  },
  {
   "cell_type": "markdown",
   "metadata": {},
   "source": [
    "사이킷런의 **`SimpleImputer`** 변환기(transformer)는 누락된 값을 손쉽게 다루도록 해줍니다.<br>\n",
    "`SimpleImputer` 객체를 생성하고, **`fit()`** 메서드로 훈련 데이터를 이용해 훈련 합니다."
   ]
  },
  {
   "cell_type": "code",
   "execution_count": 31,
   "metadata": {},
   "outputs": [
    {
     "data": {
      "text/plain": [
       "SimpleImputer(copy=True, fill_value=None, missing_values=nan,\n",
       "       strategy='median', verbose=0)"
      ]
     },
     "execution_count": 31,
     "metadata": {},
     "output_type": "execute_result"
    }
   ],
   "source": [
    "from sklearn.impute import SimpleImputer\n",
    "\n",
    "# 누락된 데이터를 중간값으로 대체하는 것으로 지정하여 객체 생성\n",
    "imputer = SimpleImputer(strategy=\"median\")\n",
    "\n",
    "# 중간값이 수치형 특성에만 계산될 수 있기 때문에 텍스트 특성인 ocean_proximity를 제외한 복사본을 생성\n",
    "housing_num = housing.drop(\"ocean_proximity\", axis=1)\n",
    "\n",
    "# housing_num 데이터로 훈련\n",
    "# imputer가 실제로 계산한 것은 데이터셋에 있는 각 특성의 중간값이지만, \n",
    "# 사이킷런에서는 변환기도 다른 추정기(estimator)와 인터페이스가 같기 때문에 학습한다고 표현함\n",
    "imputer.fit(housing_num)"
   ]
  },
  {
   "cell_type": "markdown",
   "metadata": {},
   "source": [
    "- total_bedrooms 특성에만 누락된 값이 있지만 새로운 데이터에서 어떤 값이 누락될지 확신할 수 없으므로,<br>\n",
    "   모든 수치형 특성에 imputer를 적용하는 것이 바람직합니다.\n",
    "- `imputer 객체는 각 특성의 중간값을 계산해서 그 결과를 `**`statistics_`**` 속성에 저장합니다.`"
   ]
  },
  {
   "cell_type": "code",
   "execution_count": 32,
   "metadata": {},
   "outputs": [
    {
     "data": {
      "text/plain": [
       "array([-118.51  ,   34.26  ,   29.    , 2119.5   ,  433.    , 1164.    ,\n",
       "        408.    ,    3.5409])"
      ]
     },
     "execution_count": 32,
     "metadata": {},
     "output_type": "execute_result"
    }
   ],
   "source": [
    "imputer.statistics_"
   ]
  },
  {
   "cell_type": "code",
   "execution_count": 33,
   "metadata": {},
   "outputs": [
    {
     "data": {
      "text/plain": [
       "array([-118.51  ,   34.26  ,   29.    , 2119.5   ,  433.    , 1164.    ,\n",
       "        408.    ,    3.5409])"
      ]
     },
     "execution_count": 33,
     "metadata": {},
     "output_type": "execute_result"
    }
   ],
   "source": [
    "housing_num.median().values"
   ]
  },
  {
   "cell_type": "markdown",
   "metadata": {},
   "source": [
    "학습된 imputer 객체의 **`transform()`** 메서드로, 누락된 값을 학습된 중간값으로 대체한 새로운 데이터셋을 만들 수 있습니다."
   ]
  },
  {
   "cell_type": "code",
   "execution_count": 34,
   "metadata": {},
   "outputs": [],
   "source": [
    "# 학습된 imputer 객체를 사용해 학습한 중간값으로 훈련 세트의 누락된 값을 바꾸기\n",
    "X = imputer.transform(housing_num)    # 결과는 넘파일 배열\n",
    "housing_tr = pd.DataFrame(X, columns=housing_num.columns, index=list(housing.index.values))     # 변환 결과(넘파이)를 데이터프레임으로 변환"
   ]
  },
  {
   "cell_type": "code",
   "execution_count": 35,
   "metadata": {},
   "outputs": [
    {
     "name": "stdout",
     "output_type": "stream",
     "text": [
      "<class 'pandas.core.frame.DataFrame'>\n",
      "Int64Index: 16512 entries, 17606 to 15775\n",
      "Data columns (total 8 columns):\n",
      "longitude             16512 non-null float64\n",
      "latitude              16512 non-null float64\n",
      "housing_median_age    16512 non-null float64\n",
      "total_rooms           16512 non-null float64\n",
      "total_bedrooms        16512 non-null float64\n",
      "population            16512 non-null float64\n",
      "households            16512 non-null float64\n",
      "median_income         16512 non-null float64\n",
      "dtypes: float64(8)\n",
      "memory usage: 1.1 MB\n"
     ]
    }
   ],
   "source": [
    "housing_tr.info()    # total_bedrooms 특성에도 Null 값이 없음(중간값으로 대체됨)"
   ]
  },
  {
   "cell_type": "markdown",
   "metadata": {},
   "source": [
    "### 텍스트와 범주형 특성 다루기"
   ]
  },
  {
   "cell_type": "markdown",
   "metadata": {},
   "source": [
    "ocean_proximity 특성은 텍스트(카테고리) 입니다."
   ]
  },
  {
   "cell_type": "code",
   "execution_count": 36,
   "metadata": {
    "scrolled": true
   },
   "outputs": [
    {
     "data": {
      "text/plain": [
       "17606     <1H OCEAN\n",
       "18632     <1H OCEAN\n",
       "14650    NEAR OCEAN\n",
       "3230         INLAND\n",
       "3555      <1H OCEAN\n",
       "19480        INLAND\n",
       "8879      <1H OCEAN\n",
       "13685        INLAND\n",
       "4937      <1H OCEAN\n",
       "4861      <1H OCEAN\n",
       "Name: ocean_proximity, dtype: object"
      ]
     },
     "execution_count": 36,
     "metadata": {},
     "output_type": "execute_result"
    }
   ],
   "source": [
    "housing_cat = housing[\"ocean_proximity\"]\n",
    "housing_cat.head(10)"
   ]
  },
  {
   "cell_type": "markdown",
   "metadata": {},
   "source": [
    "`대부분의 머신러닝 알고리즘은 숫자형 만을 다루므로, 카테고리 특성을 숫자로 바꾸도록 하겠습니다.`<br>\n",
    "각 카테고리를 다른 정수값으로 매핑해주는 판다스의 **`factorize()`** 메서드를 사용할 수 있습니다."
   ]
  },
  {
   "cell_type": "code",
   "execution_count": 37,
   "metadata": {},
   "outputs": [
    {
     "data": {
      "text/plain": [
       "array([0, 0, 1, 2, 0, 2, 0, 2, 0, 0])"
      ]
     },
     "execution_count": 37,
     "metadata": {},
     "output_type": "execute_result"
    }
   ],
   "source": [
    "housing_cat_encoded, housing_categories = housing_cat.factorize()\n",
    "housing_cat_encoded[:10]     # housing_cat.head(10)의 값들이 encoding 된 값"
   ]
  },
  {
   "cell_type": "code",
   "execution_count": 38,
   "metadata": {},
   "outputs": [
    {
     "data": {
      "text/plain": [
       "Index(['<1H OCEAN', 'NEAR OCEAN', 'INLAND', 'NEAR BAY', 'ISLAND'], dtype='object')"
      ]
     },
     "execution_count": 38,
     "metadata": {},
     "output_type": "execute_result"
    }
   ],
   "source": [
    "housing_categories"
   ]
  },
  {
   "cell_type": "markdown",
   "metadata": {},
   "source": [
    "이 표현 방식의 문제는 머신러닝 알고리즘이 가까이 있는 두 값이 떨어져 있는 두 값보다 더 비슷하다고 생각한다는 점입니다. <br>\n",
    "실제로는 그렇지 않습니다. (0과 1보다 0과 4가 더 비슷합니다.)<br>\n",
    "이 문제는 일반적으로 카테고리별 이진 특성을 만들어 해결합니다. 이를 **`원-핫 인코딩(One-Hot Encoding)`** 이라고 부릅니다.<br>\n",
    "사이킷런은 숫자로 된 범주형 값을 원-핫 벡터로 바꿔주는 **`OneHotEncoder`** 를 제공합니다."
   ]
  },
  {
   "cell_type": "code",
   "execution_count": 39,
   "metadata": {},
   "outputs": [
    {
     "data": {
      "text/plain": [
       "array([[1., 0., 0., 0., 0.],\n",
       "       [1., 0., 0., 0., 0.],\n",
       "       [0., 1., 0., 0., 0.],\n",
       "       ...,\n",
       "       [0., 0., 1., 0., 0.],\n",
       "       [1., 0., 0., 0., 0.],\n",
       "       [0., 0., 0., 1., 0.]])"
      ]
     },
     "execution_count": 39,
     "metadata": {},
     "output_type": "execute_result"
    }
   ],
   "source": [
    "from sklearn.preprocessing import OneHotEncoder\n",
    "\n",
    "encoder = OneHotEncoder(categories=\"auto\", sparse=False)\n",
    "housing_cat_1hot = encoder.fit_transform(housing_cat_encoded.reshape(-1,1))    # fit_transform()은 2차원 배열 필요 (1차원 배열을 2차원 배열로 reshape 하여 전달)\n",
    "housing_cat_1hot    # OneHotEncoder fit_transform() 메서드의 결과는 default로 scipy 희소 행렬 (sparse=False 이면 numpy 배열)"
   ]
  },
  {
   "cell_type": "markdown",
   "metadata": {},
   "source": [
    "`카테고리 특성을 숫자로 바꾸는 더 좋은 방법`은 사이킷런 0.20부터 추가된 **`OrdinalEncoder`** 변환기를 사용하는 것 입니다.<br>\n",
    "`OrdinalEncoder` 변환기는 파이프라인과도 잘 작동합니다."
   ]
  },
  {
   "cell_type": "code",
   "execution_count": 40,
   "metadata": {},
   "outputs": [
    {
     "data": {
      "text/plain": [
       "array([[0.],\n",
       "       [0.],\n",
       "       [4.],\n",
       "       [1.],\n",
       "       [0.],\n",
       "       [1.],\n",
       "       [0.],\n",
       "       [1.],\n",
       "       [0.],\n",
       "       [0.]])"
      ]
     },
     "execution_count": 40,
     "metadata": {},
     "output_type": "execute_result"
    }
   ],
   "source": [
    "from sklearn.preprocessing import OrdinalEncoder\n",
    "\n",
    "ordinal_encoder = OrdinalEncoder()\n",
    "housing_cat_encoded = ordinal_encoder.fit_transform(housing_cat.values.reshape(-1,1))\n",
    "housing_cat_encoded[:10]"
   ]
  },
  {
   "cell_type": "code",
   "execution_count": 41,
   "metadata": {},
   "outputs": [
    {
     "data": {
      "text/plain": [
       "[array(['<1H OCEAN', 'INLAND', 'ISLAND', 'NEAR BAY', 'NEAR OCEAN'],\n",
       "       dtype=object)]"
      ]
     },
     "execution_count": 41,
     "metadata": {},
     "output_type": "execute_result"
    }
   ],
   "source": [
    "ordinal_encoder.categories_    # 판다스 facrotize() 메서드로 생성한 housing_categories와 순서가 같지 않음(순서 자체는 의미가 없음)"
   ]
  },
  {
   "cell_type": "code",
   "execution_count": 42,
   "metadata": {},
   "outputs": [
    {
     "data": {
      "text/plain": [
       "<16512x5 sparse matrix of type '<class 'numpy.float64'>'\n",
       "\twith 16512 stored elements in Compressed Sparse Row format>"
      ]
     },
     "execution_count": 42,
     "metadata": {},
     "output_type": "execute_result"
    }
   ],
   "source": [
    "from sklearn.preprocessing import OneHotEncoder\n",
    "\n",
    "encoder = OneHotEncoder(categories=\"auto\")   # 카테고리가 많은 경우 희소 행렬로 만들면 메모리 낭비를 막을 수 있음(default는 sparse=True)\n",
    "housing_cat_1hot = encoder.fit_transform(housing_cat_encoded)    # housing_cat_encoded가 2차원 배열로 되어 있음\n",
    "housing_cat_1hot    # scipy 희소 행렬 (OneHotEncoder 매개변수가 sparse=False 이면 numpy 배열)"
   ]
  },
  {
   "cell_type": "code",
   "execution_count": 43,
   "metadata": {},
   "outputs": [
    {
     "data": {
      "text/plain": [
       "array([[1., 0., 0., 0., 0.],\n",
       "       [1., 0., 0., 0., 0.],\n",
       "       [0., 0., 0., 0., 1.],\n",
       "       ...,\n",
       "       [0., 1., 0., 0., 0.],\n",
       "       [1., 0., 0., 0., 0.],\n",
       "       [0., 0., 0., 1., 0.]])"
      ]
     },
     "execution_count": 43,
     "metadata": {},
     "output_type": "execute_result"
    }
   ],
   "source": [
    "housing_cat_1hot.toarray()    # 희소 행렬을 numpy 배열(밀집 행렬)로 변환"
   ]
  },
  {
   "cell_type": "markdown",
   "metadata": {},
   "source": [
    "- 카테고리 수가 많으면 원-핫 인코딩은 많은 수의 입력 특성을 만듭니다.<br>\n",
    "   이는 훈련을 느리게 하고, 성능을 감소시킬 수 있습니다. <br>\n",
    "   이런 경우에는 **임베딩(Embedding)** 이라는 조금 더 조밀한 표현을 사용할 수 있습니다.(자세한 내용은 14장 참조)"
   ]
  },
  {
   "cell_type": "markdown",
   "metadata": {},
   "source": [
    "### 나만의 변환기"
   ]
  },
  {
   "cell_type": "markdown",
   "metadata": {},
   "source": [
    "내가 만든 변환기를 파이프라인과 같은 사이킷런의 기능과 매끄럽게 연동하고 싶다면, <br>\n",
    "**`fit()`**, **`transform()`**, **`fit_transform()`** 메서드를 구현한 파이썬 클래스를 만들면 됩니다. <br>\n",
    "`fit()` 메서드는 self를 반환 합니다.\n",
    "\n",
    "파이썬은 **덕 타이핑(Duck Typing)** 을 지원 합니다. <br>\n",
    "덕 타이핑은 상속이나 인터페이스 구현이 아닌, 객체의 속성이나 메서드가 객체의 유형을 결정하는 방식을 말합니다.\n",
    "\n",
    "`fit_transform()` 메서드는 `TransformerMixin`을 상속하면 자동으로 생성됩니다.\n",
    "\n",
    "`BaseEstimator`를 상속하면(그리고 생성자에 \\*args나 \\*\\*kargs를 사용하지 않으면) <br>\n",
    "하이퍼파라미터 튜닝에 필요한 get_params()와 set_params() 두 메서드를 추가로 얻게 됩니다."
   ]
  },
  {
   "cell_type": "code",
   "execution_count": 44,
   "metadata": {},
   "outputs": [
    {
     "data": {
      "text/plain": [
       "array([[-121.89, 37.29, 38.0, ..., '<1H OCEAN', 4.625368731563422,\n",
       "        2.094395280235988],\n",
       "       [-121.93, 37.05, 14.0, ..., '<1H OCEAN', 6.008849557522124,\n",
       "        2.7079646017699117],\n",
       "       [-117.2, 32.77, 31.0, ..., 'NEAR OCEAN', 4.225108225108225,\n",
       "        2.0259740259740258],\n",
       "       ...,\n",
       "       [-116.4, 34.09, 9.0, ..., 'INLAND', 6.34640522875817,\n",
       "        2.742483660130719],\n",
       "       [-118.01, 33.82, 31.0, ..., '<1H OCEAN', 5.50561797752809,\n",
       "        3.808988764044944],\n",
       "       [-122.45, 37.77, 52.0, ..., 'NEAR BAY', 4.843505477308295,\n",
       "        1.9859154929577465]], dtype=object)"
      ]
     },
     "execution_count": 44,
     "metadata": {},
     "output_type": "execute_result"
    }
   ],
   "source": [
    "# 특성의 조합을 추가해주는 간단한 변환기 만들기(bedrooms_per_room 특성을 추가할지는 하이퍼파라미터로 결정)\n",
    "from sklearn.base import BaseEstimator, TransformerMixin\n",
    "\n",
    "rooms_ix, bedrooms_ix, population_ix, household_ix = 3, 4, 5, 6    # 입력 데이터에서 해당 column의 index\n",
    "\n",
    "class CombinedAttributesAdder(BaseEstimator, TransformerMixin):\n",
    "    def __init__(self, add_bedrooms_per_room=True):       # *args나 **kargs를 사용하지 않음\n",
    "        self.add_bedrooms_per_room = add_bedrooms_per_room\n",
    "        \n",
    "    def fit(self, X, y=None):\n",
    "        return self     # 더 할 일이 없습니다.\n",
    "    \n",
    "    def transform(self, X, y=None):\n",
    "        rooms_per_household = X[:, rooms_ix] / X[:, household_ix]\n",
    "        population_per_household = X[:, population_ix] / X[:, household_ix]\n",
    "        if self.add_bedrooms_per_room:\n",
    "            bedrooms_per_rooms = X[:, bedrooms_ix] / X[:, rooms_ix]\n",
    "            return np.c_[X, rooms_per_household, population_per_household, bedrooms_per_rooms]\n",
    "        else:\n",
    "            return np.c_[X, rooms_per_household, population_per_household]\n",
    "        \n",
    "attr_adder = CombinedAttributesAdder(add_bedrooms_per_room=False)\n",
    "housing_extra_attribs = attr_adder.transform(housing.values)\n",
    "housing_extra_attribs"
   ]
  },
  {
   "cell_type": "markdown",
   "metadata": {},
   "source": [
    "- 위에서 정의한 변환기는 add_bedrooms_per_room 하이퍼파라미터 하나를 가지고 있고, <br>\n",
    "   기본값을 True로 지정합니다. (합리적인 기본값을 주는 것이 좋습니다.) <br>\n",
    "   이제 이 특성을 추가하는 것이 머신러닝 알고리즘에 도움이 될지 안 될지 하이퍼파라미터로 쉽게 확인해볼 수 있습니다.\n",
    "- 일반적으로 100% 확신이 없는 모든 데이터 준비 단계에 대해 하이퍼파라미터를 추가할 수 있습니다.\n",
    "- 이런 준비 단계를 자동화할수록 더 많은 조합을 자동으로 시도해볼 수 있고, <br>\n",
    "   최상의 조합을 찾을 가능성을 매우 높여줍니다. (그리고 시간이 많이 절약됩니다.)"
   ]
  },
  {
   "cell_type": "code",
   "execution_count": 45,
   "metadata": {
    "scrolled": true
   },
   "outputs": [
    {
     "data": {
      "text/html": [
       "<div>\n",
       "<style scoped>\n",
       "    .dataframe tbody tr th:only-of-type {\n",
       "        vertical-align: middle;\n",
       "    }\n",
       "\n",
       "    .dataframe tbody tr th {\n",
       "        vertical-align: top;\n",
       "    }\n",
       "\n",
       "    .dataframe thead th {\n",
       "        text-align: right;\n",
       "    }\n",
       "</style>\n",
       "<table border=\"1\" class=\"dataframe\">\n",
       "  <thead>\n",
       "    <tr style=\"text-align: right;\">\n",
       "      <th></th>\n",
       "      <th>longitude</th>\n",
       "      <th>latitude</th>\n",
       "      <th>housing_median_age</th>\n",
       "      <th>total_rooms</th>\n",
       "      <th>total_bedrooms</th>\n",
       "      <th>population</th>\n",
       "      <th>households</th>\n",
       "      <th>median_income</th>\n",
       "      <th>ocean_proximity</th>\n",
       "      <th>rooms_per_household</th>\n",
       "      <th>population_per_household</th>\n",
       "    </tr>\n",
       "  </thead>\n",
       "  <tbody>\n",
       "    <tr>\n",
       "      <th>0</th>\n",
       "      <td>-121.89</td>\n",
       "      <td>37.29</td>\n",
       "      <td>38</td>\n",
       "      <td>1568</td>\n",
       "      <td>351</td>\n",
       "      <td>710</td>\n",
       "      <td>339</td>\n",
       "      <td>2.7042</td>\n",
       "      <td>&lt;1H OCEAN</td>\n",
       "      <td>4.62537</td>\n",
       "      <td>2.0944</td>\n",
       "    </tr>\n",
       "    <tr>\n",
       "      <th>1</th>\n",
       "      <td>-121.93</td>\n",
       "      <td>37.05</td>\n",
       "      <td>14</td>\n",
       "      <td>679</td>\n",
       "      <td>108</td>\n",
       "      <td>306</td>\n",
       "      <td>113</td>\n",
       "      <td>6.4214</td>\n",
       "      <td>&lt;1H OCEAN</td>\n",
       "      <td>6.00885</td>\n",
       "      <td>2.70796</td>\n",
       "    </tr>\n",
       "    <tr>\n",
       "      <th>2</th>\n",
       "      <td>-117.2</td>\n",
       "      <td>32.77</td>\n",
       "      <td>31</td>\n",
       "      <td>1952</td>\n",
       "      <td>471</td>\n",
       "      <td>936</td>\n",
       "      <td>462</td>\n",
       "      <td>2.8621</td>\n",
       "      <td>NEAR OCEAN</td>\n",
       "      <td>4.22511</td>\n",
       "      <td>2.02597</td>\n",
       "    </tr>\n",
       "    <tr>\n",
       "      <th>3</th>\n",
       "      <td>-119.61</td>\n",
       "      <td>36.31</td>\n",
       "      <td>25</td>\n",
       "      <td>1847</td>\n",
       "      <td>371</td>\n",
       "      <td>1460</td>\n",
       "      <td>353</td>\n",
       "      <td>1.8839</td>\n",
       "      <td>INLAND</td>\n",
       "      <td>5.23229</td>\n",
       "      <td>4.13598</td>\n",
       "    </tr>\n",
       "    <tr>\n",
       "      <th>4</th>\n",
       "      <td>-118.59</td>\n",
       "      <td>34.23</td>\n",
       "      <td>17</td>\n",
       "      <td>6592</td>\n",
       "      <td>1525</td>\n",
       "      <td>4459</td>\n",
       "      <td>1463</td>\n",
       "      <td>3.0347</td>\n",
       "      <td>&lt;1H OCEAN</td>\n",
       "      <td>4.50581</td>\n",
       "      <td>3.04785</td>\n",
       "    </tr>\n",
       "  </tbody>\n",
       "</table>\n",
       "</div>"
      ],
      "text/plain": [
       "  longitude latitude housing_median_age total_rooms total_bedrooms population  \\\n",
       "0   -121.89    37.29                 38        1568            351        710   \n",
       "1   -121.93    37.05                 14         679            108        306   \n",
       "2    -117.2    32.77                 31        1952            471        936   \n",
       "3   -119.61    36.31                 25        1847            371       1460   \n",
       "4   -118.59    34.23                 17        6592           1525       4459   \n",
       "\n",
       "  households median_income ocean_proximity rooms_per_household  \\\n",
       "0        339        2.7042       <1H OCEAN             4.62537   \n",
       "1        113        6.4214       <1H OCEAN             6.00885   \n",
       "2        462        2.8621      NEAR OCEAN             4.22511   \n",
       "3        353        1.8839          INLAND             5.23229   \n",
       "4       1463        3.0347       <1H OCEAN             4.50581   \n",
       "\n",
       "  population_per_household  \n",
       "0                   2.0944  \n",
       "1                  2.70796  \n",
       "2                  2.02597  \n",
       "3                  4.13598  \n",
       "4                  3.04785  "
      ]
     },
     "execution_count": 45,
     "metadata": {},
     "output_type": "execute_result"
    }
   ],
   "source": [
    "housing_extra_attribs_df = pd.DataFrame(\n",
    "        housing_extra_attribs, \n",
    "        columns=list(housing.columns)+[\"rooms_per_household\", \"population_per_household\"])\n",
    "housing_extra_attribs_df.head()"
   ]
  },
  {
   "cell_type": "markdown",
   "metadata": {},
   "source": [
    "### 특성 스케일링"
   ]
  },
  {
   "cell_type": "markdown",
   "metadata": {},
   "source": [
    "데이터에 적용할 가장 중요한 변환 중 하나가 **`특성 스케일링(Feature Scaling)`** 입니다.<br>\n",
    "트리 기반 알고리즘 몇 가지를 빼고는 `대부분의 머신러닝 알고리즘은 입력 특성들의 스케일이 많이 다르면 잘 작동하지 않습니다.`<br>\n",
    "주택 가격 데이터도 전체 방 개수의 범위는 6에서 39,320인 반면, 중간 소득의 범위는 0.5에서 15 입니다."
   ]
  },
  {
   "cell_type": "code",
   "execution_count": 46,
   "metadata": {},
   "outputs": [
    {
     "name": "stdout",
     "output_type": "stream",
     "text": [
      "6.0 39320.0\n",
      "0.4999 15.0001\n"
     ]
    }
   ],
   "source": [
    "print(housing[\"total_rooms\"].min(), housing[\"total_rooms\"].max())\n",
    "print(housing[\"median_income\"].min(), housing[\"median_income\"].max())"
   ]
  },
  {
   "cell_type": "markdown",
   "metadata": {},
   "source": [
    "`타깃 값에 대한 스케일은 일반적으로 불필요합니다.`\n",
    "\n",
    "모든 특성의 범위를 같도록 만들어주는 방법으로 **`min-max 스케일링`**과 **`표준화(Standardization)`**가 널리 사용됩니다.\n",
    "\n",
    "min-max 스케일링은 0~1 범위에 들도록 값을 이동하고 스케일을 조정하면 됩니다. (이를 **`정규화(Normalization)`** 라고 부릅니다.)<br>\n",
    "`데이터에서 최소값을 뺀 후 최소값과 최대값의 차이로 나누면 이렇게 할 수 있습니다.`<br>\n",
    "사이킷런에는 이에 해당하는 **`MinMaxScaler`** 변환기를 제공합니다. <br>\n",
    "(feature_range 매개변수로 스케일 범위를 지정할 수 있습니다.)\n",
    "\n",
    "`표준화는 먼저 평균을 뺀 후`(그래서 표준화를 하면 항상 평균이 0이 됩니다) `표준편차로 나누어 결과 분포의 분산이 1이 되도록 합니다.`<br>\n",
    "사이킷런에는 표준화를 위한 **`StandardScaler`** 변환기가 있습니다.<br>\n",
    "표준화는 범위의 상한과 하한이 없어서 어떤 알고리즘에는 문제가 될 수도 있습니다.<br>\n",
    "(예를 들어 신경망은 종종 입력값의 범위로 0에서 1 사이를 기대 합니다.)\n",
    "\n",
    "사이킷런에는 입력 데이터에서 각 행의 $l_2$ 노름이 1이 되도록 조정하는 **`Normalizer`** 라는 전처리 기능도 있습니다."
   ]
  },
  {
   "cell_type": "markdown",
   "metadata": {},
   "source": [
    "---\n",
    "`모든 변환기에서 스케일링은 전체 데이터 세트가 아니고 훈련 데이터에 대해서만 fit() 메서드를 적용해야 합니다.`<br>\n",
    "`그런 다음, 훈련 세트와 테스트 세트(그리고 새로운 데이터)에 대해` <br>\n",
    "`훈련 데이터에 fit() 메서드를 적용한(훈련 데이터로 학습한) 동일한 변환기로 transform() 메서드를 사용해야 합니다.`"
   ]
  },
  {
   "cell_type": "markdown",
   "metadata": {},
   "source": [
    "### 변환 파이프라인"
   ]
  },
  {
   "cell_type": "markdown",
   "metadata": {},
   "source": [
    "앞서 보았듯이 변환 단계가 많고 정확한 순서대로 실행되어야 합니다.<br>\n",
    "사이킷런에서는 `연속된 변환을 순서대로 처리할 수 있도록 도와주는 `**`Pipeline`** 클래스가 있습니다."
   ]
  },
  {
   "cell_type": "code",
   "execution_count": 47,
   "metadata": {},
   "outputs": [
    {
     "data": {
      "text/html": [
       "<div>\n",
       "<style scoped>\n",
       "    .dataframe tbody tr th:only-of-type {\n",
       "        vertical-align: middle;\n",
       "    }\n",
       "\n",
       "    .dataframe tbody tr th {\n",
       "        vertical-align: top;\n",
       "    }\n",
       "\n",
       "    .dataframe thead th {\n",
       "        text-align: right;\n",
       "    }\n",
       "</style>\n",
       "<table border=\"1\" class=\"dataframe\">\n",
       "  <thead>\n",
       "    <tr style=\"text-align: right;\">\n",
       "      <th></th>\n",
       "      <th>longitude</th>\n",
       "      <th>latitude</th>\n",
       "      <th>housing_median_age</th>\n",
       "      <th>total_rooms</th>\n",
       "      <th>total_bedrooms</th>\n",
       "      <th>population</th>\n",
       "      <th>households</th>\n",
       "      <th>median_income</th>\n",
       "      <th>rooms_per_household</th>\n",
       "      <th>population_per_household</th>\n",
       "      <th>bedrooms_per_rooms</th>\n",
       "    </tr>\n",
       "  </thead>\n",
       "  <tbody>\n",
       "    <tr>\n",
       "      <th>0</th>\n",
       "      <td>-1.156043</td>\n",
       "      <td>0.771950</td>\n",
       "      <td>0.743331</td>\n",
       "      <td>-0.493234</td>\n",
       "      <td>-0.445438</td>\n",
       "      <td>-0.636211</td>\n",
       "      <td>-0.420698</td>\n",
       "      <td>-0.614937</td>\n",
       "      <td>-0.312055</td>\n",
       "      <td>-0.086499</td>\n",
       "      <td>0.155318</td>\n",
       "    </tr>\n",
       "    <tr>\n",
       "      <th>1</th>\n",
       "      <td>-1.176025</td>\n",
       "      <td>0.659695</td>\n",
       "      <td>-1.165317</td>\n",
       "      <td>-0.908967</td>\n",
       "      <td>-1.036928</td>\n",
       "      <td>-0.998331</td>\n",
       "      <td>-1.022227</td>\n",
       "      <td>1.336459</td>\n",
       "      <td>0.217683</td>\n",
       "      <td>-0.033534</td>\n",
       "      <td>-0.836289</td>\n",
       "    </tr>\n",
       "    <tr>\n",
       "      <th>2</th>\n",
       "      <td>1.186849</td>\n",
       "      <td>-1.342183</td>\n",
       "      <td>0.186642</td>\n",
       "      <td>-0.313660</td>\n",
       "      <td>-0.153345</td>\n",
       "      <td>-0.433639</td>\n",
       "      <td>-0.093318</td>\n",
       "      <td>-0.532046</td>\n",
       "      <td>-0.465315</td>\n",
       "      <td>-0.092405</td>\n",
       "      <td>0.422200</td>\n",
       "    </tr>\n",
       "    <tr>\n",
       "      <th>3</th>\n",
       "      <td>-0.017068</td>\n",
       "      <td>0.313576</td>\n",
       "      <td>-0.290520</td>\n",
       "      <td>-0.362762</td>\n",
       "      <td>-0.396756</td>\n",
       "      <td>0.036041</td>\n",
       "      <td>-0.383436</td>\n",
       "      <td>-1.045566</td>\n",
       "      <td>-0.079661</td>\n",
       "      <td>0.089736</td>\n",
       "      <td>-0.196453</td>\n",
       "    </tr>\n",
       "    <tr>\n",
       "      <th>4</th>\n",
       "      <td>0.492474</td>\n",
       "      <td>-0.659299</td>\n",
       "      <td>-0.926736</td>\n",
       "      <td>1.856193</td>\n",
       "      <td>2.412211</td>\n",
       "      <td>2.724154</td>\n",
       "      <td>2.570975</td>\n",
       "      <td>-0.441437</td>\n",
       "      <td>-0.357834</td>\n",
       "      <td>-0.004194</td>\n",
       "      <td>0.269928</td>\n",
       "    </tr>\n",
       "  </tbody>\n",
       "</table>\n",
       "</div>"
      ],
      "text/plain": [
       "   longitude  latitude  housing_median_age  total_rooms  total_bedrooms  \\\n",
       "0  -1.156043  0.771950            0.743331    -0.493234       -0.445438   \n",
       "1  -1.176025  0.659695           -1.165317    -0.908967       -1.036928   \n",
       "2   1.186849 -1.342183            0.186642    -0.313660       -0.153345   \n",
       "3  -0.017068  0.313576           -0.290520    -0.362762       -0.396756   \n",
       "4   0.492474 -0.659299           -0.926736     1.856193        2.412211   \n",
       "\n",
       "   population  households  median_income  rooms_per_household  \\\n",
       "0   -0.636211   -0.420698      -0.614937            -0.312055   \n",
       "1   -0.998331   -1.022227       1.336459             0.217683   \n",
       "2   -0.433639   -0.093318      -0.532046            -0.465315   \n",
       "3    0.036041   -0.383436      -1.045566            -0.079661   \n",
       "4    2.724154    2.570975      -0.441437            -0.357834   \n",
       "\n",
       "   population_per_household  bedrooms_per_rooms  \n",
       "0                 -0.086499            0.155318  \n",
       "1                 -0.033534           -0.836289  \n",
       "2                 -0.092405            0.422200  \n",
       "3                  0.089736           -0.196453  \n",
       "4                 -0.004194            0.269928  "
      ]
     },
     "execution_count": 47,
     "metadata": {},
     "output_type": "execute_result"
    }
   ],
   "source": [
    "# 숫자 특성을 처리하는 간단한 파이프라인\n",
    "from sklearn.pipeline import Pipeline\n",
    "from sklearn.preprocessing import StandardScaler\n",
    "\n",
    "num_pipeline = Pipeline([\n",
    "        ('imputer', SimpleImputer(strategy='median')),\n",
    "        ('attribs_adder', CombinedAttributesAdder()),\n",
    "        ('std_scaler', StandardScaler()),\n",
    "    ])\n",
    "\n",
    "housing_num_tr = num_pipeline.fit_transform(housing_num)\n",
    "\n",
    "housing_num_tr = pd.DataFrame(\n",
    "        housing_num_tr, \n",
    "        columns=list(housing_num.columns)+[\"rooms_per_household\", \"population_per_household\", \"bedrooms_per_rooms\"])\n",
    "housing_num_tr.head()"
   ]
  },
  {
   "cell_type": "markdown",
   "metadata": {},
   "source": [
    "`Pipeline은 연속된 단계를 나타내는 이름/추정기 쌍의 목록을 입력으로 받습니다.\n",
    "마지막 단계에는 변환기와 추정기를 모두 사용할 수 있고, 그 외에는 모두 변환기여야 합니다.`<br>\n",
    "즉, `fit_transform()` 메서드를 가지고 있어야 합니다. (또는 `fit()`과 `transform()` 메서드만 가지고 있어도 됩니다.)\n",
    "\n",
    "이름은 무엇이든 상관없지만, 이중 밑줄 문자(\\_\\_)는 포함하지 않아야 합니다.<br>\n",
    "파이프라인의 fit() 메서드를 호출하면 오든 변환기의 fit_transform() 메서드를 순서대로 호출하면서 <br>\n",
    "한 단계의 출력을 다음단계의 입력으로 전달 합니다. 마지막 단계에서는 fit() 메서드만 호출합니다.\n",
    "\n",
    "파이프라인 객체는 마지막 추정기와 동일한 메서드를 제공합니다. <br>\n",
    "이 예제에서는 마지막 추정기가 변환기 StandardScaler 이므로, 파이프라인이 transform() 메서드를 가지고 있습니다.<br>\n",
    "또한, fit()과 transform()을 차례대로 호출하는 대신 사용할 수 있는 fit\\_transform() 메서드도 가지고 있습니다."
   ]
  },
  {
   "cell_type": "markdown",
   "metadata": {},
   "source": [
    "---\n",
    "데이터프레임의 수치형 컬럼을 넘파이 배열로 추출하는 대신, <br>\n",
    "데이터프레임을 파이프라인에 직접 주입할 수 있도록 특성을 추출하는 변환기를 직접 만들 수 있습니다."
   ]
  },
  {
   "cell_type": "code",
   "execution_count": 48,
   "metadata": {},
   "outputs": [],
   "source": [
    "# 데이터프레임에서 특성을 추출하는 변환기\n",
    "from sklearn.base import BaseEstimator, TransformerMixin\n",
    "\n",
    "class DataFrameSelector(BaseEstimator, TransformerMixin):\n",
    "    def __init__(self, attribute_names):\n",
    "        self.attribute_names = attribute_names\n",
    "    \n",
    "    def fit(self, X, y=None):\n",
    "        return self\n",
    "    \n",
    "    def transform(self, X):\n",
    "        return X[self.attribute_names].values"
   ]
  },
  {
   "cell_type": "markdown",
   "metadata": {},
   "source": [
    "- DataFrameSelector는 나머지는 버리고 필요한 특성을 선택하여 <br>\n",
    "   데이터프레임을 넘파이 배열로 바꾸는 식으로 데이터를 변환 합니다."
   ]
  },
  {
   "cell_type": "code",
   "execution_count": 49,
   "metadata": {},
   "outputs": [],
   "source": [
    "# 데이터프레임을 받아 수치형만 다루는 파이프라인\n",
    "num_attribs = list(housing_num.columns)\n",
    "\n",
    "num_pipeline = Pipeline([\n",
    "    (\"selector\", DataFrameSelector(num_attribs)),\n",
    "    (\"imputer\", SimpleImputer(strategy=\"median\")),\n",
    "    (\"attribs_adder\", CombinedAttributesAdder()),\n",
    "    (\"std_scaler\", StandardScaler()),\n",
    "])\n",
    "\n",
    "# 데이터프레임을 받아 카테고리형만 다루는 파이프라인\n",
    "cat_attribs = [\"ocean_proximity\"]\n",
    "\n",
    "cat_pipeline = Pipeline([\n",
    "    (\"selector\", DataFrameSelector(cat_attribs)),\n",
    "    (\"cat_encoder\", OrdinalEncoder()),\n",
    "    (\"one_hot_encoder\", OneHotEncoder(categories=\"auto\", sparse=False)),\n",
    "])"
   ]
  },
  {
   "cell_type": "markdown",
   "metadata": {},
   "source": [
    "사이킷런의 **`FeatureUnion`** 클래스를 이용하면 두 파이프라인을 합칠 수 있습니다.<br>\n",
    "변환기 목록(또는 모두 변환기로 이루어진 파이프라인)을 전달하고, <br>\n",
    "transform() 메서드를 호출하면 각 변환기의(파이프라인의) **`transfrom() 메서드를 병렬로 실행합니다.`**"
   ]
  },
  {
   "cell_type": "code",
   "execution_count": 50,
   "metadata": {},
   "outputs": [],
   "source": [
    "# 숫자형과 범주형 특성을 모두 다루는 전체 파이프라인\n",
    "from sklearn.pipeline import FeatureUnion\n",
    "\n",
    "full_pipeline = FeatureUnion(transformer_list=[\n",
    "        (\"num_pipeline\", num_pipeline),\n",
    "        (\"cat_pipeline\", cat_pipeline),\n",
    "])"
   ]
  },
  {
   "cell_type": "code",
   "execution_count": 51,
   "metadata": {},
   "outputs": [
    {
     "data": {
      "text/plain": [
       "(16512, 16)"
      ]
     },
     "execution_count": 51,
     "metadata": {},
     "output_type": "execute_result"
    }
   ],
   "source": [
    "# 전체 파이프라인 실행하기\n",
    "housing_prepared = full_pipeline.fit_transform(housing)\n",
    "housing_prepared.shape"
   ]
  },
  {
   "cell_type": "markdown",
   "metadata": {},
   "source": [
    "- 사이킷런은 Numpy 배열 형태로 자료를 입출력 합니다. 데이터프레임을 직접 처리하지 못합니다.<br>\n",
    "   DataFrameSelector 변환기가 fit_transform()에 전달된 데이터프레임에서 해당 특성만 추출하여 Numpy 배열로 만듭니다.\n",
    "- `FeatureUnion`은 transformer_list의 `파이프라인을 병렬로 실행`하고, `그 결과를 hstack` 하여 하나의 numpy.ndarray로 만듭니다.\n",
    "- 변환된 전체 특성은 16개 입니다.(원래 숫자형 특성 8개, 조합 특성 3개, 카테고리 특성에 대한 원-핫 인코딩 특성 5개)"
   ]
  },
  {
   "cell_type": "code",
   "execution_count": 52,
   "metadata": {
    "scrolled": true
   },
   "outputs": [
    {
     "data": {
      "text/html": [
       "<div>\n",
       "<style scoped>\n",
       "    .dataframe tbody tr th:only-of-type {\n",
       "        vertical-align: middle;\n",
       "    }\n",
       "\n",
       "    .dataframe tbody tr th {\n",
       "        vertical-align: top;\n",
       "    }\n",
       "\n",
       "    .dataframe thead th {\n",
       "        text-align: right;\n",
       "    }\n",
       "</style>\n",
       "<table border=\"1\" class=\"dataframe\">\n",
       "  <thead>\n",
       "    <tr style=\"text-align: right;\">\n",
       "      <th></th>\n",
       "      <th>longitude</th>\n",
       "      <th>latitude</th>\n",
       "      <th>housing_median_age</th>\n",
       "      <th>total_rooms</th>\n",
       "      <th>total_bedrooms</th>\n",
       "      <th>population</th>\n",
       "      <th>households</th>\n",
       "      <th>median_income</th>\n",
       "      <th>rooms_per_household</th>\n",
       "      <th>population_per_household</th>\n",
       "      <th>bedrooms_per_rooms</th>\n",
       "      <th>&lt;1H OCEAN</th>\n",
       "      <th>INLAND</th>\n",
       "      <th>ISLAND</th>\n",
       "      <th>NEAR BAY</th>\n",
       "      <th>NEAR OCEAN</th>\n",
       "    </tr>\n",
       "  </thead>\n",
       "  <tbody>\n",
       "    <tr>\n",
       "      <th>0</th>\n",
       "      <td>-1.156043</td>\n",
       "      <td>0.771950</td>\n",
       "      <td>0.743331</td>\n",
       "      <td>-0.493234</td>\n",
       "      <td>-0.445438</td>\n",
       "      <td>-0.636211</td>\n",
       "      <td>-0.420698</td>\n",
       "      <td>-0.614937</td>\n",
       "      <td>-0.312055</td>\n",
       "      <td>-0.086499</td>\n",
       "      <td>0.155318</td>\n",
       "      <td>1.0</td>\n",
       "      <td>0.0</td>\n",
       "      <td>0.0</td>\n",
       "      <td>0.0</td>\n",
       "      <td>0.0</td>\n",
       "    </tr>\n",
       "    <tr>\n",
       "      <th>1</th>\n",
       "      <td>-1.176025</td>\n",
       "      <td>0.659695</td>\n",
       "      <td>-1.165317</td>\n",
       "      <td>-0.908967</td>\n",
       "      <td>-1.036928</td>\n",
       "      <td>-0.998331</td>\n",
       "      <td>-1.022227</td>\n",
       "      <td>1.336459</td>\n",
       "      <td>0.217683</td>\n",
       "      <td>-0.033534</td>\n",
       "      <td>-0.836289</td>\n",
       "      <td>1.0</td>\n",
       "      <td>0.0</td>\n",
       "      <td>0.0</td>\n",
       "      <td>0.0</td>\n",
       "      <td>0.0</td>\n",
       "    </tr>\n",
       "    <tr>\n",
       "      <th>2</th>\n",
       "      <td>1.186849</td>\n",
       "      <td>-1.342183</td>\n",
       "      <td>0.186642</td>\n",
       "      <td>-0.313660</td>\n",
       "      <td>-0.153345</td>\n",
       "      <td>-0.433639</td>\n",
       "      <td>-0.093318</td>\n",
       "      <td>-0.532046</td>\n",
       "      <td>-0.465315</td>\n",
       "      <td>-0.092405</td>\n",
       "      <td>0.422200</td>\n",
       "      <td>0.0</td>\n",
       "      <td>0.0</td>\n",
       "      <td>0.0</td>\n",
       "      <td>0.0</td>\n",
       "      <td>1.0</td>\n",
       "    </tr>\n",
       "    <tr>\n",
       "      <th>3</th>\n",
       "      <td>-0.017068</td>\n",
       "      <td>0.313576</td>\n",
       "      <td>-0.290520</td>\n",
       "      <td>-0.362762</td>\n",
       "      <td>-0.396756</td>\n",
       "      <td>0.036041</td>\n",
       "      <td>-0.383436</td>\n",
       "      <td>-1.045566</td>\n",
       "      <td>-0.079661</td>\n",
       "      <td>0.089736</td>\n",
       "      <td>-0.196453</td>\n",
       "      <td>0.0</td>\n",
       "      <td>1.0</td>\n",
       "      <td>0.0</td>\n",
       "      <td>0.0</td>\n",
       "      <td>0.0</td>\n",
       "    </tr>\n",
       "    <tr>\n",
       "      <th>4</th>\n",
       "      <td>0.492474</td>\n",
       "      <td>-0.659299</td>\n",
       "      <td>-0.926736</td>\n",
       "      <td>1.856193</td>\n",
       "      <td>2.412211</td>\n",
       "      <td>2.724154</td>\n",
       "      <td>2.570975</td>\n",
       "      <td>-0.441437</td>\n",
       "      <td>-0.357834</td>\n",
       "      <td>-0.004194</td>\n",
       "      <td>0.269928</td>\n",
       "      <td>1.0</td>\n",
       "      <td>0.0</td>\n",
       "      <td>0.0</td>\n",
       "      <td>0.0</td>\n",
       "      <td>0.0</td>\n",
       "    </tr>\n",
       "    <tr>\n",
       "      <th>5</th>\n",
       "      <td>-0.696456</td>\n",
       "      <td>0.945009</td>\n",
       "      <td>-0.370047</td>\n",
       "      <td>0.143693</td>\n",
       "      <td>0.131447</td>\n",
       "      <td>0.025285</td>\n",
       "      <td>0.194138</td>\n",
       "      <td>-0.176435</td>\n",
       "      <td>-0.114867</td>\n",
       "      <td>-0.048003</td>\n",
       "      <td>-0.199264</td>\n",
       "      <td>0.0</td>\n",
       "      <td>1.0</td>\n",
       "      <td>0.0</td>\n",
       "      <td>0.0</td>\n",
       "      <td>0.0</td>\n",
       "    </tr>\n",
       "    <tr>\n",
       "      <th>6</th>\n",
       "      <td>0.537433</td>\n",
       "      <td>-0.748168</td>\n",
       "      <td>1.856709</td>\n",
       "      <td>-0.182253</td>\n",
       "      <td>-0.528198</td>\n",
       "      <td>-0.583328</td>\n",
       "      <td>-0.585720</td>\n",
       "      <td>2.366702</td>\n",
       "      <td>1.003599</td>\n",
       "      <td>-0.027646</td>\n",
       "      <td>-1.097923</td>\n",
       "      <td>1.0</td>\n",
       "      <td>0.0</td>\n",
       "      <td>0.0</td>\n",
       "      <td>0.0</td>\n",
       "      <td>0.0</td>\n",
       "    </tr>\n",
       "    <tr>\n",
       "      <th>7</th>\n",
       "      <td>1.166867</td>\n",
       "      <td>-0.696718</td>\n",
       "      <td>-0.210993</td>\n",
       "      <td>-0.272040</td>\n",
       "      <td>-0.586617</td>\n",
       "      <td>-0.433639</td>\n",
       "      <td>-0.324880</td>\n",
       "      <td>1.115239</td>\n",
       "      <td>0.000891</td>\n",
       "      <td>-0.051831</td>\n",
       "      <td>-1.073504</td>\n",
       "      <td>0.0</td>\n",
       "      <td>1.0</td>\n",
       "      <td>0.0</td>\n",
       "      <td>0.0</td>\n",
       "      <td>0.0</td>\n",
       "    </tr>\n",
       "    <tr>\n",
       "      <th>8</th>\n",
       "      <td>0.657325</td>\n",
       "      <td>-0.771554</td>\n",
       "      <td>1.459074</td>\n",
       "      <td>-0.354345</td>\n",
       "      <td>-0.167949</td>\n",
       "      <td>0.444770</td>\n",
       "      <td>-0.157197</td>\n",
       "      <td>-1.076906</td>\n",
       "      <td>-0.452724</td>\n",
       "      <td>0.110319</td>\n",
       "      <td>0.545225</td>\n",
       "      <td>1.0</td>\n",
       "      <td>0.0</td>\n",
       "      <td>0.0</td>\n",
       "      <td>0.0</td>\n",
       "      <td>0.0</td>\n",
       "    </tr>\n",
       "    <tr>\n",
       "      <th>9</th>\n",
       "      <td>0.647334</td>\n",
       "      <td>-0.757522</td>\n",
       "      <td>0.027588</td>\n",
       "      <td>-0.985660</td>\n",
       "      <td>-0.742400</td>\n",
       "      <td>1.138535</td>\n",
       "      <td>-0.745417</td>\n",
       "      <td>-1.772116</td>\n",
       "      <td>-1.174387</td>\n",
       "      <td>0.802788</td>\n",
       "      <td>3.534531</td>\n",
       "      <td>1.0</td>\n",
       "      <td>0.0</td>\n",
       "      <td>0.0</td>\n",
       "      <td>0.0</td>\n",
       "      <td>0.0</td>\n",
       "    </tr>\n",
       "  </tbody>\n",
       "</table>\n",
       "</div>"
      ],
      "text/plain": [
       "   longitude  latitude  housing_median_age  total_rooms  total_bedrooms  \\\n",
       "0  -1.156043  0.771950            0.743331    -0.493234       -0.445438   \n",
       "1  -1.176025  0.659695           -1.165317    -0.908967       -1.036928   \n",
       "2   1.186849 -1.342183            0.186642    -0.313660       -0.153345   \n",
       "3  -0.017068  0.313576           -0.290520    -0.362762       -0.396756   \n",
       "4   0.492474 -0.659299           -0.926736     1.856193        2.412211   \n",
       "5  -0.696456  0.945009           -0.370047     0.143693        0.131447   \n",
       "6   0.537433 -0.748168            1.856709    -0.182253       -0.528198   \n",
       "7   1.166867 -0.696718           -0.210993    -0.272040       -0.586617   \n",
       "8   0.657325 -0.771554            1.459074    -0.354345       -0.167949   \n",
       "9   0.647334 -0.757522            0.027588    -0.985660       -0.742400   \n",
       "\n",
       "   population  households  median_income  rooms_per_household  \\\n",
       "0   -0.636211   -0.420698      -0.614937            -0.312055   \n",
       "1   -0.998331   -1.022227       1.336459             0.217683   \n",
       "2   -0.433639   -0.093318      -0.532046            -0.465315   \n",
       "3    0.036041   -0.383436      -1.045566            -0.079661   \n",
       "4    2.724154    2.570975      -0.441437            -0.357834   \n",
       "5    0.025285    0.194138      -0.176435            -0.114867   \n",
       "6   -0.583328   -0.585720       2.366702             1.003599   \n",
       "7   -0.433639   -0.324880       1.115239             0.000891   \n",
       "8    0.444770   -0.157197      -1.076906            -0.452724   \n",
       "9    1.138535   -0.745417      -1.772116            -1.174387   \n",
       "\n",
       "   population_per_household  bedrooms_per_rooms  <1H OCEAN  INLAND  ISLAND  \\\n",
       "0                 -0.086499            0.155318        1.0     0.0     0.0   \n",
       "1                 -0.033534           -0.836289        1.0     0.0     0.0   \n",
       "2                 -0.092405            0.422200        0.0     0.0     0.0   \n",
       "3                  0.089736           -0.196453        0.0     1.0     0.0   \n",
       "4                 -0.004194            0.269928        1.0     0.0     0.0   \n",
       "5                 -0.048003           -0.199264        0.0     1.0     0.0   \n",
       "6                 -0.027646           -1.097923        1.0     0.0     0.0   \n",
       "7                 -0.051831           -1.073504        0.0     1.0     0.0   \n",
       "8                  0.110319            0.545225        1.0     0.0     0.0   \n",
       "9                  0.802788            3.534531        1.0     0.0     0.0   \n",
       "\n",
       "   NEAR BAY  NEAR OCEAN  \n",
       "0       0.0         0.0  \n",
       "1       0.0         0.0  \n",
       "2       0.0         1.0  \n",
       "3       0.0         0.0  \n",
       "4       0.0         0.0  \n",
       "5       0.0         0.0  \n",
       "6       0.0         0.0  \n",
       "7       0.0         0.0  \n",
       "8       0.0         0.0  \n",
       "9       0.0         0.0  "
      ]
     },
     "execution_count": 52,
     "metadata": {},
     "output_type": "execute_result"
    }
   ],
   "source": [
    "# 데이터프레임으로 변환하여 준비된 데이터 확인\n",
    "# ordinal_encoder.categories_는 아래와 같이 카테고리 특성마다 하나의 numpy 1차원 배열에 카테고리 리스트를 담고 있는 numpy 배열들의 리스트\n",
    "# [array(['특성1의 카테고리1', '특성1의 카테고리2', ...], dtype=object),\n",
    "#  array(['특성2의 카테고리1', '특성2의 카테고리2', ...], dtype=object),\n",
    "#   ...]\n",
    "# 주택 가격 데이터에는 카테고리 특성이 1개 뿐이기 때문에 리스트에 넘파일 1차원 배열 하나만 있음\n",
    "added_columns = [\"rooms_per_household\", \"population_per_household\", \"bedrooms_per_rooms\"] + list(ordinal_encoder.categories_[0])\n",
    "housing_prepared_df = pd.DataFrame(\n",
    "        housing_prepared,\n",
    "        columns=list(housing.drop([\"ocean_proximity\"], axis=1).columns) + added_columns\n",
    ")\n",
    "housing_prepared_df.head(10)"
   ]
  },
  {
   "cell_type": "markdown",
   "metadata": {},
   "source": [
    "---\n",
    "DataFrameSelector 변환기와 FeatueUnion을 사용하지 않고,<br>\n",
    "사이킷런의 0.20 버전에 포함된 **`ColumnTransformer`** 를 사용하면 간단히 전체 파이프라인을 만들 수 있습니다.<br>\n",
    "\n",
    "`ColumnTransformer`는 데이터프레임을 변환기에 직접 주입할 수 있고, 파이프라인별로 해당 컬럼을 지정할 수 있습니다.<br>\n",
    "이기종 또는 종횡으로 배열된(columnar) 데이터, 여러 피쳐 추출 메커니즘 또는 변환을 단일 변환기로 결합하는 데 유용합니다."
   ]
  },
  {
   "cell_type": "code",
   "execution_count": 53,
   "metadata": {},
   "outputs": [
    {
     "data": {
      "text/plain": [
       "(16512, 16)"
      ]
     },
     "execution_count": 53,
     "metadata": {},
     "output_type": "execute_result"
    }
   ],
   "source": [
    "from sklearn.compose import ColumnTransformer\n",
    "\n",
    "num_pipeline = Pipeline([\n",
    "        ('imputer', SimpleImputer(strategy=\"median\")),\n",
    "        ('attribs_adder', CombinedAttributesAdder()),\n",
    "        ('std_scaler', StandardScaler()),\n",
    "])\n",
    "\n",
    "cat_pipeline = Pipeline([\n",
    "    (\"cat_encoder\", OrdinalEncoder()),\n",
    "    (\"one_hot_encoder\", OneHotEncoder(categories=\"auto\", sparse=False)),\n",
    "])\n",
    "\n",
    "num_attribs = list(housing_num.columns)\n",
    "cat_attribs = [\"ocean_proximity\"]\n",
    "\n",
    "full_pipeline = ColumnTransformer([\n",
    "        (\"num\", num_pipeline, num_attribs),\n",
    "        (\"cat\", cat_pipeline, cat_attribs),\n",
    "])\n",
    "\n",
    "housing_prepared = full_pipeline.fit_transform(housing)\n",
    "housing_prepared.shape"
   ]
  },
  {
   "cell_type": "markdown",
   "metadata": {},
   "source": [
    "- 이제 머신러닝 모델의 프로토타입을 만들기 위한 데이터 준비는 모두 완료되었습니다."
   ]
  },
  {
   "cell_type": "markdown",
   "metadata": {},
   "source": [
    "## 2.6 모델 선택과 훈련"
   ]
  },
  {
   "cell_type": "markdown",
   "metadata": {},
   "source": [
    "### 훈련 세트에서 훈련하고 평가하기"
   ]
  },
  {
   "cell_type": "markdown",
   "metadata": {},
   "source": [
    "먼저 선형 회귀 모델(`LinearRegression`)을 훈련시켜보겠습니다."
   ]
  },
  {
   "cell_type": "code",
   "execution_count": 54,
   "metadata": {},
   "outputs": [
    {
     "data": {
      "text/plain": [
       "LinearRegression(copy_X=True, fit_intercept=True, n_jobs=None,\n",
       "         normalize=False)"
      ]
     },
     "execution_count": 54,
     "metadata": {},
     "output_type": "execute_result"
    }
   ],
   "source": [
    "from sklearn.linear_model import LinearRegression\n",
    "\n",
    "lin_reg = LinearRegression()\n",
    "lin_reg.fit(housing_prepared, housing_labels)"
   ]
  },
  {
   "cell_type": "code",
   "execution_count": 55,
   "metadata": {},
   "outputs": [
    {
     "name": "stdout",
     "output_type": "stream",
     "text": [
      "예측:  [210644.60459286 317768.80697211 210956.43331178  59218.98886849\n",
      " 189747.55849879]\n"
     ]
    }
   ],
   "source": [
    "some_data = housing.iloc[:5]\n",
    "some_labels = housing_labels.iloc[:5]\n",
    "\n",
    "some_data_prepared = full_pipeline.transform(some_data)\n",
    "print(\"예측: \", lin_reg.predict(some_data_prepared))"
   ]
  },
  {
   "cell_type": "code",
   "execution_count": 56,
   "metadata": {},
   "outputs": [
    {
     "name": "stdout",
     "output_type": "stream",
     "text": [
      "레이블:  [286600.0, 340600.0, 196900.0, 46300.0, 254500.0]\n"
     ]
    }
   ],
   "source": [
    "print(\"레이블: \", list(some_labels))"
   ]
  },
  {
   "cell_type": "markdown",
   "metadata": {},
   "source": [
    "- 아주 정확한 예측은 아니지만 작동은 합니다.\n",
    "- 사이킷런의 **`mean_squared_error`** 함수를 사용해 전체 훈련 세트에 대한 이 회귀모델의 RMSE를 측정해보겠습니다."
   ]
  },
  {
   "cell_type": "code",
   "execution_count": 57,
   "metadata": {},
   "outputs": [
    {
     "data": {
      "text/plain": [
       "68628.19819848922"
      ]
     },
     "execution_count": 57,
     "metadata": {},
     "output_type": "execute_result"
    }
   ],
   "source": [
    "from sklearn.metrics import mean_squared_error\n",
    "\n",
    "housing_predictions = lin_reg.predict(housing_prepared)\n",
    "lin_mse = mean_squared_error(housing_labels, housing_predictions)\n",
    "lin_rmse = np.sqrt(lin_mse)\n",
    "lin_rmse"
   ]
  },
  {
   "cell_type": "markdown",
   "metadata": {},
   "source": [
    "- 예측 오차가 \\$68,628 인 것은 매우 만족스럽지 못합니다. 이는 `모델이 훈련 데이터에 과소적합된 사례 입니다.`\n",
    "- 과소적합을 해결하는 주요 방법은 더 강력한 모델을 선택하거나, 훈련 알고리즘에 더 좋은 특성으 주입하거나, <br>\n",
    "   모델의 규제를 감소시키는 것입니다.\n",
    "- 더 복잡한 모델인 `DecisionTreeRegressor`을 훈련시키고 훈련 세트로 평가해보겠습니다."
   ]
  },
  {
   "cell_type": "code",
   "execution_count": 58,
   "metadata": {},
   "outputs": [
    {
     "data": {
      "text/plain": [
       "0.0"
      ]
     },
     "execution_count": 58,
     "metadata": {},
     "output_type": "execute_result"
    }
   ],
   "source": [
    "from sklearn.tree import DecisionTreeRegressor\n",
    "\n",
    "tree_reg = DecisionTreeRegressor()\n",
    "tree_reg.fit(housing_prepared, housing_labels)\n",
    "\n",
    "housing_predictions = tree_reg.predict(housing_prepared)\n",
    "tree_mse = mean_squared_error(housing_predictions, housing_labels)\n",
    "tree_rmse = np.sqrt(tree_mse)\n",
    "tree_rmse"
   ]
  },
  {
   "cell_type": "markdown",
   "metadata": {},
   "source": [
    "- `모델이 데이터에 너무 심하게 과대적합된 것으로 보입니다.`\n",
    "- 확신이 드는 모델이 론칭할 준비가 되기 전까지 테스트 세트는 사용하지 않으려 하므로, <br>\n",
    "   `훈련 세트의 일부분으로 훈련을 하고 다른 일부분은 모델 검증에 사용해야 합니다.`"
   ]
  },
  {
   "cell_type": "markdown",
   "metadata": {},
   "source": [
    "### 교차 검증을 사용한 평가"
   ]
  },
  {
   "cell_type": "markdown",
   "metadata": {},
   "source": [
    "우선 train_test_split 함수를 사용해 훈련 세트를 더 작은 훈련 세트와 검증 세트로 나누고, <br>\n",
    "더 작은 훈련 세트에서 모델을 훈련 시키고 검증 세트로 모델을 평가하는 방법이 있습니다.\n",
    "\n",
    "더 훌륭한 대안으로 사이킷런의 **`교차 검증`** 기능을 사용하는 방법도 있습니다.<br>\n",
    "다음 코드는 **K-겹 교차 검증(K-fold cross-validation)** 을 수행합니다.(**`cross_val_score`** 함수를 사용합니다.) <br>\n",
    "훈련 세트를 **폴드(Fold)** 라 불리는 10개의 서브셋으로 무작위로 분할합니다.<br>\n",
    "그런 다음 결정 트리 모델을 10번 훈련하고 평가하는데, 매번 다른 폴드를 선택해 평가에 사용하고 나머지 9개 폴드는 훈련에 사용합니다. <br>\n",
    "10개의 평가 점수가 담긴 배열이 결과가 됩니다."
   ]
  },
  {
   "cell_type": "code",
   "execution_count": 59,
   "metadata": {},
   "outputs": [],
   "source": [
    "from sklearn.model_selection import cross_val_score\n",
    "#from sklearn.metrics import neg_mean_squared_error\n",
    "\n",
    "scores = cross_val_score(tree_reg, housing_prepared, housing_labels,\n",
    "                        scoring=\"neg_mean_squared_error\", cv=10)\n",
    "tree_rmse_scores = np.sqrt(-scores)"
   ]
  },
  {
   "cell_type": "markdown",
   "metadata": {},
   "source": [
    "- 사이킷런의 교차 검증 기능은 scoring 매개변수에 낮을수록 좋은 비용 함수가 아니라, 클수록 좋은 효용 함수를 기대합니다. <br>\n",
    "   그래서 rmse 계산 시 mse에 마이너스로 부호를 바꿔줘야 합니다."
   ]
  },
  {
   "cell_type": "code",
   "execution_count": 60,
   "metadata": {},
   "outputs": [
    {
     "name": "stdout",
     "output_type": "stream",
     "text": [
      "Scores:  [69327.01708558 65486.39211857 71358.25563341 69091.37509104\n",
      " 70570.20267046 75529.94622521 69895.20650652 70660.14247357\n",
      " 75843.74719231 68905.17669382]\n",
      "Mean:  70666.74616904806\n",
      "Standard deviation:  2928.322738055112\n"
     ]
    }
   ],
   "source": [
    "def display_scores(scores):\n",
    "    print(\"Scores: \", scores)\n",
    "    print(\"Mean: \", scores.mean())\n",
    "    print(\"Standard deviation: \", scores.std())\n",
    "\n",
    "display_scores(tree_rmse_scores)"
   ]
  },
  {
   "cell_type": "markdown",
   "metadata": {},
   "source": [
    "- 교차검증으로 모델의 성능을 추정하는 것뿐만 아니라 추정이 얼마나 정확한지(즉, 표준편차)도 측정할 수 있습니다.\n",
    "- 결정 트리 점수는 평균 70,666에서 $\\pm$2,928 사이 입니다.\n",
    "- 선형 회귀 모델의 점수를 계산해보겠습니다."
   ]
  },
  {
   "cell_type": "code",
   "execution_count": 61,
   "metadata": {},
   "outputs": [
    {
     "name": "stdout",
     "output_type": "stream",
     "text": [
      "Scores:  [66782.73843989 66960.118071   70347.95244419 74739.57052552\n",
      " 68031.13388938 71193.84183426 64969.63056405 68281.61137997\n",
      " 71552.91566558 67665.10082067]\n",
      "Mean:  69052.46136345083\n",
      "Standard deviation:  2731.674001798348\n"
     ]
    }
   ],
   "source": [
    "lin_scores = cross_val_score(lin_reg, housing_prepared, housing_labels,\n",
    "                            scoring=\"neg_mean_squared_error\", cv=10)\n",
    "lin_rmse_scores = np.sqrt(-lin_scores)\n",
    "display_scores(lin_rmse_scores)"
   ]
  },
  {
   "cell_type": "markdown",
   "metadata": {},
   "source": [
    "- 결정 트리 모델이 과대적합되어 선형 회귀 모델보다 성능이 나쁩니다.\n",
    "- **`RandomForestRegressor`** 모델을 하나 더 시도해보겠습니다.\n",
    "- 랜던 포레스트는 특성을 무작위로 선택해서 많은 결정 트리를 만들고 그 예측을 평균 내는 방식으로 작동합니다.<br>\n",
    "   여러 다른 모델을 모아서 하나의 모델을 만드는 것을 **`앙상블 학습`** 이라고 합니다."
   ]
  },
  {
   "cell_type": "code",
   "execution_count": 62,
   "metadata": {},
   "outputs": [
    {
     "data": {
      "text/plain": [
       "22256.354579885898"
      ]
     },
     "execution_count": 62,
     "metadata": {},
     "output_type": "execute_result"
    }
   ],
   "source": [
    "from sklearn.ensemble import RandomForestRegressor\n",
    "\n",
    "forest_reg = RandomForestRegressor(n_estimators=10)\n",
    "forest_reg.fit(housing_prepared, housing_labels)\n",
    "\n",
    "# 전체 훈련 세트에 대한 RMSE\n",
    "housing_predictions = forest_reg.predict(housing_prepared)\n",
    "forest_mse = mean_squared_error(housing_predictions, housing_labels)\n",
    "forest_rmse = np.sqrt(forest_mse)\n",
    "forest_rmse"
   ]
  },
  {
   "cell_type": "code",
   "execution_count": 63,
   "metadata": {},
   "outputs": [
    {
     "name": "stdout",
     "output_type": "stream",
     "text": [
      "Scores:  [52868.21871547 49194.92340594 51713.77716246 55012.10310441\n",
      " 50973.88861214 55990.4479905  52298.68285092 50953.09058463\n",
      " 54428.48087563 53461.73225682]\n",
      "Mean:  52689.53455589254\n",
      "Standard deviation:  1980.36257012708\n"
     ]
    }
   ],
   "source": [
    "# 교차 검증을 사용한 평가\n",
    "forest_scores = cross_val_score(forest_reg, housing_prepared, housing_labels,\n",
    "                               scoring=\"neg_mean_squared_error\", cv=10)\n",
    "forest_rmse_scores = np.sqrt(-forest_scores)\n",
    "display_scores(forest_rmse_scores)"
   ]
  },
  {
   "cell_type": "markdown",
   "metadata": {},
   "source": [
    "- 랜덤 포레스트가 더 훌륭해 보입니다. \n",
    "- 하지만 훈련 세트에 대한 점수가 검증 세트에 대한 점수보다 낮으므로 이 모델도 여전히 훈련 세트에 과대적합되어 있습니다.\n",
    "- 과대적합을 해결하는 방법은 모델을 간단히 하거나, 제한을 하거나(즉, 규제), 더 많은 훈련 데이터를 모으는 것입니다.\n",
    "- 랜덤 포레스트를 더 깊이 들어가기 전에, <br>\n",
    "   `여러 종류의 머신러닝 알고리즘으로 하이퍼파라미터 조정에 너무 많은 시간을 들이지 않으면서 다양한 모델을 시도해봐야 합니다.`<br>\n",
    "   `가능성 있는 2~5개의 모델을 선정하는 것이 목적 입니다.`"
   ]
  },
  {
   "cell_type": "markdown",
   "metadata": {},
   "source": [
    "---\n",
    "`실험한 모델을 모두 저장해두면 필요할 때 쉽게 모델을 복원할 수 있습니다.`<br>\n",
    "교차 검증 점수와 실제 예측값은 물론 하이퍼파라미터와 훈련된 모델 파라미터 모두 저장해야 합니다.<br>\n",
    "이렇게 하면 여러 모델의 점수와 모델이 만든 오차를 쉽게 비교할 수 있습니다.\n",
    "\n",
    "파이썬의 **`pickle`** 패키지나 **`sklearn.externals.joblib`** 을 사용하여 사이킷런 모델을 간단하게 저장할 수 있습니다."
   ]
  },
  {
   "cell_type": "code",
   "execution_count": 64,
   "metadata": {},
   "outputs": [
    {
     "data": {
      "text/plain": [
       "RandomForestRegressor(bootstrap=True, criterion='mse', max_depth=None,\n",
       "           max_features='auto', max_leaf_nodes=None,\n",
       "           min_impurity_decrease=0.0, min_impurity_split=None,\n",
       "           min_samples_leaf=1, min_samples_split=2,\n",
       "           min_weight_fraction_leaf=0.0, n_estimators=10, n_jobs=None,\n",
       "           oob_score=False, random_state=None, verbose=0, warm_start=False)"
      ]
     },
     "execution_count": 64,
     "metadata": {},
     "output_type": "execute_result"
    }
   ],
   "source": [
    "from sklearn.externals import joblib\n",
    "\n",
    "joblib.dump(forest_reg, \"my_model.pkl\")\n",
    "\n",
    "# 저장된 모델을 복원할 때는\n",
    "forest_reg = joblib.load(\"my_model.pkl\")\n",
    "forest_reg"
   ]
  },
  {
   "cell_type": "code",
   "execution_count": 65,
   "metadata": {},
   "outputs": [
    {
     "name": "stdout",
     "output_type": "stream",
     "text": [
      "Scores:  [52868.21871547 49194.92340594 51713.77716246 55012.10310441\n",
      " 50973.88861214 55990.4479905  52298.68285092 50953.09058463\n",
      " 54428.48087563 53461.73225682]\n",
      "Mean:  52689.53455589254\n",
      "Standard deviation:  1980.36257012708\n"
     ]
    }
   ],
   "source": [
    "joblib.dump(forest_rmse_scores, \"forest_rmse_scores.pkl\")\n",
    "\n",
    "forest_rmse_scores = joblib.load(\"forest_rmse_scores.pkl\")\n",
    "display_scores(forest_rmse_scores)"
   ]
  },
  {
   "cell_type": "markdown",
   "metadata": {},
   "source": [
    "## 2.7 모델 세부 튜닝"
   ]
  },
  {
   "cell_type": "markdown",
   "metadata": {},
   "source": [
    "### 그리드 탐색"
   ]
  },
  {
   "cell_type": "markdown",
   "metadata": {},
   "source": [
    "가장 단순한 방법은 만족할 만한 하이퍼파라미터 조합을 찾을 때까지 수동으로 하이퍼파라미터를 조정하는 것입니다.<br>\n",
    "이는 지루한 작업이고, 많은 경우의 수를 탐색하기에는 시간이 부족할 수 있습니다.\n",
    "\n",
    "대신 사시킷런의 **`GridSearchCV`** 를 사용하는 것이 좋습니다.<br>\n",
    "탐색하고자 하는 하이퍼파라미터와 시도해볼 값을 지정하기만 하면, <br>\n",
    "가능한 하이퍼파라미터 조합에 대해 교차 검증을 사용해 평가하게 됩니다.\n",
    "\n",
    "`RandomForestRegressor`에 대한 최적의 하이퍼파라미터 조합을 탐색해보겠습니다."
   ]
  },
  {
   "cell_type": "code",
   "execution_count": 66,
   "metadata": {},
   "outputs": [
    {
     "data": {
      "text/plain": [
       "GridSearchCV(cv=5, error_score='raise-deprecating',\n",
       "       estimator=RandomForestRegressor(bootstrap=True, criterion='mse', max_depth=None,\n",
       "           max_features='auto', max_leaf_nodes=None,\n",
       "           min_impurity_decrease=0.0, min_impurity_split=None,\n",
       "           min_samples_leaf=1, min_samples_split=2,\n",
       "           min_weight_fraction_leaf=0.0, n_estimators=10, n_jobs=None,\n",
       "           oob_score=False, random_state=None, verbose=0, warm_start=False),\n",
       "       fit_params=None, iid='warn', n_jobs=None,\n",
       "       param_grid=[{'n_estimators': [3, 10, 30], 'max_features': [2, 4, 6, 8]}, {'bootstrap': [True], 'n_estimators': [3, 10], 'max_features': [2, 3, 4]}],\n",
       "       pre_dispatch='2*n_jobs', refit=True, return_train_score=True,\n",
       "       scoring='neg_mean_squared_error', verbose=0)"
      ]
     },
     "execution_count": 66,
     "metadata": {},
     "output_type": "execute_result"
    }
   ],
   "source": [
    "from sklearn.model_selection import GridSearchCV\n",
    "\n",
    "param_grid = [\n",
    "    {'n_estimators': [3, 10, 30], 'max_features': [2, 4, 6, 8]},\n",
    "    {'bootstrap': [True], 'n_estimators': [3, 10], 'max_features': [ 2, 3, 4]},\n",
    "]\n",
    "\n",
    "forest_reg = RandomForestRegressor(n_estimators=10)\n",
    "\n",
    "grid_search = GridSearchCV(forest_reg, param_grid, cv=5,\n",
    "                          scoring='neg_mean_squared_error',\n",
    "                          return_train_score=True)\n",
    "\n",
    "grid_search.fit(housing_prepared, housing_labels)"
   ]
  },
  {
   "cell_type": "code",
   "execution_count": 67,
   "metadata": {},
   "outputs": [
    {
     "data": {
      "text/plain": [
       "{'max_features': 6, 'n_estimators': 30}"
      ]
     },
     "execution_count": 67,
     "metadata": {},
     "output_type": "execute_result"
    }
   ],
   "source": [
    "# 최적의 하이퍼파라미터 조합\n",
    "grid_search.best_params_"
   ]
  },
  {
   "cell_type": "markdown",
   "metadata": {},
   "source": [
    "- 'n_estimators': 30은 탐색 범위에서 최대값이기 때문에 계속 점수가 향상될 가능성이 있으므로 더 큰 값을 다시 검색해야 합니다.\n",
    "- 최적의 추정기에 직접 접근할 수도 있습니다."
   ]
  },
  {
   "cell_type": "code",
   "execution_count": 68,
   "metadata": {},
   "outputs": [
    {
     "data": {
      "text/plain": [
       "RandomForestRegressor(bootstrap=True, criterion='mse', max_depth=None,\n",
       "           max_features=6, max_leaf_nodes=None, min_impurity_decrease=0.0,\n",
       "           min_impurity_split=None, min_samples_leaf=1,\n",
       "           min_samples_split=2, min_weight_fraction_leaf=0.0,\n",
       "           n_estimators=30, n_jobs=None, oob_score=False,\n",
       "           random_state=None, verbose=0, warm_start=False)"
      ]
     },
     "execution_count": 68,
     "metadata": {},
     "output_type": "execute_result"
    }
   ],
   "source": [
    "# 최적의 추정기\n",
    "grid_search.best_estimator_"
   ]
  },
  {
   "cell_type": "code",
   "execution_count": 69,
   "metadata": {
    "scrolled": true
   },
   "outputs": [
    {
     "name": "stdout",
     "output_type": "stream",
     "text": [
      "64560.56453532923 {'max_features': 2, 'n_estimators': 3}\n",
      "55582.7022830937 {'max_features': 2, 'n_estimators': 10}\n",
      "52946.41821544518 {'max_features': 2, 'n_estimators': 30}\n",
      "60706.36585084631 {'max_features': 4, 'n_estimators': 3}\n",
      "52620.50721816631 {'max_features': 4, 'n_estimators': 10}\n",
      "50524.81738581646 {'max_features': 4, 'n_estimators': 30}\n",
      "58527.66047437809 {'max_features': 6, 'n_estimators': 3}\n",
      "52222.271025610295 {'max_features': 6, 'n_estimators': 10}\n",
      "49935.06005093446 {'max_features': 6, 'n_estimators': 30}\n",
      "58659.80511658877 {'max_features': 8, 'n_estimators': 3}\n",
      "52363.81008209303 {'max_features': 8, 'n_estimators': 10}\n",
      "50107.93319293479 {'max_features': 8, 'n_estimators': 30}\n",
      "64801.170154818494 {'bootstrap': True, 'max_features': 2, 'n_estimators': 3}\n",
      "54948.53717321489 {'bootstrap': True, 'max_features': 2, 'n_estimators': 10}\n",
      "61850.458686574326 {'bootstrap': True, 'max_features': 3, 'n_estimators': 3}\n",
      "53463.48777166213 {'bootstrap': True, 'max_features': 3, 'n_estimators': 10}\n",
      "60275.27614326767 {'bootstrap': True, 'max_features': 4, 'n_estimators': 3}\n",
      "52844.41152996944 {'bootstrap': True, 'max_features': 4, 'n_estimators': 10}\n"
     ]
    }
   ],
   "source": [
    "# 평가 점수 확인\n",
    "cvres = grid_search.cv_results_\n",
    "for mean_score, params in zip(cvres['mean_test_score'], cvres['params']):\n",
    "    print(np.sqrt(-mean_score), params)"
   ]
  },
  {
   "cell_type": "code",
   "execution_count": 70,
   "metadata": {},
   "outputs": [
    {
     "data": {
      "text/html": [
       "<div>\n",
       "<style scoped>\n",
       "    .dataframe tbody tr th:only-of-type {\n",
       "        vertical-align: middle;\n",
       "    }\n",
       "\n",
       "    .dataframe tbody tr th {\n",
       "        vertical-align: top;\n",
       "    }\n",
       "\n",
       "    .dataframe thead th {\n",
       "        text-align: right;\n",
       "    }\n",
       "</style>\n",
       "<table border=\"1\" class=\"dataframe\">\n",
       "  <thead>\n",
       "    <tr style=\"text-align: right;\">\n",
       "      <th></th>\n",
       "      <th>mean_fit_time</th>\n",
       "      <th>mean_score_time</th>\n",
       "      <th>mean_test_score</th>\n",
       "      <th>mean_train_score</th>\n",
       "      <th>param_bootstrap</th>\n",
       "      <th>param_max_features</th>\n",
       "      <th>param_n_estimators</th>\n",
       "      <th>params</th>\n",
       "      <th>rank_test_score</th>\n",
       "      <th>split0_test_score</th>\n",
       "      <th>...</th>\n",
       "      <th>split2_test_score</th>\n",
       "      <th>split2_train_score</th>\n",
       "      <th>split3_test_score</th>\n",
       "      <th>split3_train_score</th>\n",
       "      <th>split4_test_score</th>\n",
       "      <th>split4_train_score</th>\n",
       "      <th>std_fit_time</th>\n",
       "      <th>std_score_time</th>\n",
       "      <th>std_test_score</th>\n",
       "      <th>std_train_score</th>\n",
       "    </tr>\n",
       "  </thead>\n",
       "  <tbody>\n",
       "    <tr>\n",
       "      <th>0</th>\n",
       "      <td>0.053568</td>\n",
       "      <td>0.003641</td>\n",
       "      <td>-4.168066e+09</td>\n",
       "      <td>-1.116299e+09</td>\n",
       "      <td>NaN</td>\n",
       "      <td>2</td>\n",
       "      <td>3</td>\n",
       "      <td>{'max_features': 2, 'n_estimators': 3}</td>\n",
       "      <td>17</td>\n",
       "      <td>-4.205993e+09</td>\n",
       "      <td>...</td>\n",
       "      <td>-4.105898e+09</td>\n",
       "      <td>-1.120635e+09</td>\n",
       "      <td>-3.874204e+09</td>\n",
       "      <td>-1.088824e+09</td>\n",
       "      <td>-4.257680e+09</td>\n",
       "      <td>-1.188427e+09</td>\n",
       "      <td>0.004320</td>\n",
       "      <td>0.000298</td>\n",
       "      <td>1.742744e+08</td>\n",
       "      <td>3.789499e+07</td>\n",
       "    </tr>\n",
       "    <tr>\n",
       "      <th>1</th>\n",
       "      <td>0.163677</td>\n",
       "      <td>0.008640</td>\n",
       "      <td>-3.089437e+09</td>\n",
       "      <td>-5.714121e+08</td>\n",
       "      <td>NaN</td>\n",
       "      <td>2</td>\n",
       "      <td>10</td>\n",
       "      <td>{'max_features': 2, 'n_estimators': 10}</td>\n",
       "      <td>11</td>\n",
       "      <td>-2.916993e+09</td>\n",
       "      <td>...</td>\n",
       "      <td>-3.164544e+09</td>\n",
       "      <td>-5.634781e+08</td>\n",
       "      <td>-2.943400e+09</td>\n",
       "      <td>-5.744063e+08</td>\n",
       "      <td>-3.179894e+09</td>\n",
       "      <td>-5.637698e+08</td>\n",
       "      <td>0.004814</td>\n",
       "      <td>0.000590</td>\n",
       "      <td>1.328744e+08</td>\n",
       "      <td>2.043346e+07</td>\n",
       "    </tr>\n",
       "    <tr>\n",
       "      <th>2</th>\n",
       "      <td>0.481188</td>\n",
       "      <td>0.025177</td>\n",
       "      <td>-2.803323e+09</td>\n",
       "      <td>-4.396058e+08</td>\n",
       "      <td>NaN</td>\n",
       "      <td>2</td>\n",
       "      <td>30</td>\n",
       "      <td>{'max_features': 2, 'n_estimators': 30}</td>\n",
       "      <td>8</td>\n",
       "      <td>-2.627857e+09</td>\n",
       "      <td>...</td>\n",
       "      <td>-2.888681e+09</td>\n",
       "      <td>-4.314780e+08</td>\n",
       "      <td>-2.640186e+09</td>\n",
       "      <td>-4.502295e+08</td>\n",
       "      <td>-2.918600e+09</td>\n",
       "      <td>-4.318222e+08</td>\n",
       "      <td>0.006869</td>\n",
       "      <td>0.000705</td>\n",
       "      <td>1.392977e+08</td>\n",
       "      <td>7.135805e+06</td>\n",
       "    </tr>\n",
       "    <tr>\n",
       "      <th>3</th>\n",
       "      <td>0.079913</td>\n",
       "      <td>0.003086</td>\n",
       "      <td>-3.685263e+09</td>\n",
       "      <td>-1.015000e+09</td>\n",
       "      <td>NaN</td>\n",
       "      <td>4</td>\n",
       "      <td>3</td>\n",
       "      <td>{'max_features': 4, 'n_estimators': 3}</td>\n",
       "      <td>15</td>\n",
       "      <td>-3.652934e+09</td>\n",
       "      <td>...</td>\n",
       "      <td>-3.944912e+09</td>\n",
       "      <td>-1.059761e+09</td>\n",
       "      <td>-3.492788e+09</td>\n",
       "      <td>-1.027435e+09</td>\n",
       "      <td>-3.560112e+09</td>\n",
       "      <td>-9.582961e+08</td>\n",
       "      <td>0.000682</td>\n",
       "      <td>0.000031</td>\n",
       "      <td>1.608174e+08</td>\n",
       "      <td>4.832732e+07</td>\n",
       "    </tr>\n",
       "    <tr>\n",
       "      <th>4</th>\n",
       "      <td>0.267972</td>\n",
       "      <td>0.007845</td>\n",
       "      <td>-2.768918e+09</td>\n",
       "      <td>-5.110149e+08</td>\n",
       "      <td>NaN</td>\n",
       "      <td>4</td>\n",
       "      <td>10</td>\n",
       "      <td>{'max_features': 4, 'n_estimators': 10}</td>\n",
       "      <td>6</td>\n",
       "      <td>-2.694980e+09</td>\n",
       "      <td>...</td>\n",
       "      <td>-2.857170e+09</td>\n",
       "      <td>-5.027590e+08</td>\n",
       "      <td>-2.614790e+09</td>\n",
       "      <td>-5.237055e+08</td>\n",
       "      <td>-2.899352e+09</td>\n",
       "      <td>-5.215707e+08</td>\n",
       "      <td>0.000929</td>\n",
       "      <td>0.000324</td>\n",
       "      <td>1.040261e+08</td>\n",
       "      <td>2.067253e+07</td>\n",
       "    </tr>\n",
       "    <tr>\n",
       "      <th>5</th>\n",
       "      <td>0.807576</td>\n",
       "      <td>0.028478</td>\n",
       "      <td>-2.552757e+09</td>\n",
       "      <td>-3.965998e+08</td>\n",
       "      <td>NaN</td>\n",
       "      <td>4</td>\n",
       "      <td>30</td>\n",
       "      <td>{'max_features': 4, 'n_estimators': 30}</td>\n",
       "      <td>3</td>\n",
       "      <td>-2.317039e+09</td>\n",
       "      <td>...</td>\n",
       "      <td>-2.696694e+09</td>\n",
       "      <td>-3.925424e+08</td>\n",
       "      <td>-2.472445e+09</td>\n",
       "      <td>-4.136775e+08</td>\n",
       "      <td>-2.653214e+09</td>\n",
       "      <td>-3.962327e+08</td>\n",
       "      <td>0.012039</td>\n",
       "      <td>0.004951</td>\n",
       "      <td>1.399773e+08</td>\n",
       "      <td>8.890026e+06</td>\n",
       "    </tr>\n",
       "    <tr>\n",
       "      <th>6</th>\n",
       "      <td>0.114173</td>\n",
       "      <td>0.003287</td>\n",
       "      <td>-3.425487e+09</td>\n",
       "      <td>-9.275561e+08</td>\n",
       "      <td>NaN</td>\n",
       "      <td>6</td>\n",
       "      <td>3</td>\n",
       "      <td>{'max_features': 6, 'n_estimators': 3}</td>\n",
       "      <td>12</td>\n",
       "      <td>-3.241709e+09</td>\n",
       "      <td>...</td>\n",
       "      <td>-3.489504e+09</td>\n",
       "      <td>-9.116870e+08</td>\n",
       "      <td>-3.102074e+09</td>\n",
       "      <td>-9.362182e+08</td>\n",
       "      <td>-3.753160e+09</td>\n",
       "      <td>-9.438799e+08</td>\n",
       "      <td>0.002260</td>\n",
       "      <td>0.000443</td>\n",
       "      <td>2.294193e+08</td>\n",
       "      <td>1.253438e+07</td>\n",
       "    </tr>\n",
       "    <tr>\n",
       "      <th>7</th>\n",
       "      <td>0.373692</td>\n",
       "      <td>0.008587</td>\n",
       "      <td>-2.727166e+09</td>\n",
       "      <td>-5.041532e+08</td>\n",
       "      <td>NaN</td>\n",
       "      <td>6</td>\n",
       "      <td>10</td>\n",
       "      <td>{'max_features': 6, 'n_estimators': 10}</td>\n",
       "      <td>4</td>\n",
       "      <td>-2.620795e+09</td>\n",
       "      <td>...</td>\n",
       "      <td>-2.885735e+09</td>\n",
       "      <td>-4.952344e+08</td>\n",
       "      <td>-2.593906e+09</td>\n",
       "      <td>-5.163725e+08</td>\n",
       "      <td>-2.821963e+09</td>\n",
       "      <td>-4.987552e+08</td>\n",
       "      <td>0.006992</td>\n",
       "      <td>0.000206</td>\n",
       "      <td>1.125939e+08</td>\n",
       "      <td>1.692138e+07</td>\n",
       "    </tr>\n",
       "    <tr>\n",
       "      <th>8</th>\n",
       "      <td>1.113867</td>\n",
       "      <td>0.025688</td>\n",
       "      <td>-2.493510e+09</td>\n",
       "      <td>-3.844730e+08</td>\n",
       "      <td>NaN</td>\n",
       "      <td>6</td>\n",
       "      <td>30</td>\n",
       "      <td>{'max_features': 6, 'n_estimators': 30}</td>\n",
       "      <td>1</td>\n",
       "      <td>-2.400790e+09</td>\n",
       "      <td>...</td>\n",
       "      <td>-2.604913e+09</td>\n",
       "      <td>-3.795383e+08</td>\n",
       "      <td>-2.296018e+09</td>\n",
       "      <td>-3.819995e+08</td>\n",
       "      <td>-2.626075e+09</td>\n",
       "      <td>-3.780854e+08</td>\n",
       "      <td>0.004288</td>\n",
       "      <td>0.001727</td>\n",
       "      <td>1.262678e+08</td>\n",
       "      <td>6.525934e+06</td>\n",
       "    </tr>\n",
       "    <tr>\n",
       "      <th>9</th>\n",
       "      <td>0.144558</td>\n",
       "      <td>0.003001</td>\n",
       "      <td>-3.440973e+09</td>\n",
       "      <td>-8.883297e+08</td>\n",
       "      <td>NaN</td>\n",
       "      <td>8</td>\n",
       "      <td>3</td>\n",
       "      <td>{'max_features': 8, 'n_estimators': 3}</td>\n",
       "      <td>13</td>\n",
       "      <td>-3.260875e+09</td>\n",
       "      <td>...</td>\n",
       "      <td>-3.633767e+09</td>\n",
       "      <td>-8.889618e+08</td>\n",
       "      <td>-3.305808e+09</td>\n",
       "      <td>-8.992125e+08</td>\n",
       "      <td>-3.494848e+09</td>\n",
       "      <td>-8.882231e+08</td>\n",
       "      <td>0.002386</td>\n",
       "      <td>0.000080</td>\n",
       "      <td>1.381928e+08</td>\n",
       "      <td>7.569631e+06</td>\n",
       "    </tr>\n",
       "    <tr>\n",
       "      <th>10</th>\n",
       "      <td>0.488125</td>\n",
       "      <td>0.008829</td>\n",
       "      <td>-2.741969e+09</td>\n",
       "      <td>-5.024225e+08</td>\n",
       "      <td>NaN</td>\n",
       "      <td>8</td>\n",
       "      <td>10</td>\n",
       "      <td>{'max_features': 8, 'n_estimators': 10}</td>\n",
       "      <td>5</td>\n",
       "      <td>-2.721955e+09</td>\n",
       "      <td>...</td>\n",
       "      <td>-2.886013e+09</td>\n",
       "      <td>-5.008892e+08</td>\n",
       "      <td>-2.506809e+09</td>\n",
       "      <td>-4.983299e+08</td>\n",
       "      <td>-2.825212e+09</td>\n",
       "      <td>-4.825128e+08</td>\n",
       "      <td>0.002003</td>\n",
       "      <td>0.000370</td>\n",
       "      <td>1.297280e+08</td>\n",
       "      <td>1.496263e+07</td>\n",
       "    </tr>\n",
       "    <tr>\n",
       "      <th>11</th>\n",
       "      <td>1.628833</td>\n",
       "      <td>0.029205</td>\n",
       "      <td>-2.510805e+09</td>\n",
       "      <td>-3.829623e+08</td>\n",
       "      <td>NaN</td>\n",
       "      <td>8</td>\n",
       "      <td>30</td>\n",
       "      <td>{'max_features': 8, 'n_estimators': 30}</td>\n",
       "      <td>2</td>\n",
       "      <td>-2.367954e+09</td>\n",
       "      <td>...</td>\n",
       "      <td>-2.577184e+09</td>\n",
       "      <td>-3.751567e+08</td>\n",
       "      <td>-2.387771e+09</td>\n",
       "      <td>-3.915451e+08</td>\n",
       "      <td>-2.673639e+09</td>\n",
       "      <td>-3.777576e+08</td>\n",
       "      <td>0.175144</td>\n",
       "      <td>0.004095</td>\n",
       "      <td>1.164561e+08</td>\n",
       "      <td>5.894672e+06</td>\n",
       "    </tr>\n",
       "    <tr>\n",
       "      <th>12</th>\n",
       "      <td>0.070097</td>\n",
       "      <td>0.004562</td>\n",
       "      <td>-4.199192e+09</td>\n",
       "      <td>-1.103985e+09</td>\n",
       "      <td>True</td>\n",
       "      <td>2</td>\n",
       "      <td>3</td>\n",
       "      <td>{'bootstrap': True, 'max_features': 2, 'n_esti...</td>\n",
       "      <td>18</td>\n",
       "      <td>-3.992964e+09</td>\n",
       "      <td>...</td>\n",
       "      <td>-4.392421e+09</td>\n",
       "      <td>-1.088182e+09</td>\n",
       "      <td>-3.906268e+09</td>\n",
       "      <td>-1.127229e+09</td>\n",
       "      <td>-4.157766e+09</td>\n",
       "      <td>-1.049865e+09</td>\n",
       "      <td>0.016684</td>\n",
       "      <td>0.001171</td>\n",
       "      <td>2.400100e+08</td>\n",
       "      <td>3.510211e+07</td>\n",
       "    </tr>\n",
       "    <tr>\n",
       "      <th>13</th>\n",
       "      <td>0.193870</td>\n",
       "      <td>0.010254</td>\n",
       "      <td>-3.019342e+09</td>\n",
       "      <td>-5.805818e+08</td>\n",
       "      <td>True</td>\n",
       "      <td>2</td>\n",
       "      <td>10</td>\n",
       "      <td>{'bootstrap': True, 'max_features': 2, 'n_esti...</td>\n",
       "      <td>10</td>\n",
       "      <td>-2.873432e+09</td>\n",
       "      <td>...</td>\n",
       "      <td>-3.087323e+09</td>\n",
       "      <td>-5.904880e+08</td>\n",
       "      <td>-2.849031e+09</td>\n",
       "      <td>-5.924617e+08</td>\n",
       "      <td>-3.085743e+09</td>\n",
       "      <td>-5.538113e+08</td>\n",
       "      <td>0.031057</td>\n",
       "      <td>0.002118</td>\n",
       "      <td>1.359357e+08</td>\n",
       "      <td>1.778331e+07</td>\n",
       "    </tr>\n",
       "    <tr>\n",
       "      <th>14</th>\n",
       "      <td>0.065999</td>\n",
       "      <td>0.003020</td>\n",
       "      <td>-3.825479e+09</td>\n",
       "      <td>-1.008613e+09</td>\n",
       "      <td>True</td>\n",
       "      <td>3</td>\n",
       "      <td>3</td>\n",
       "      <td>{'bootstrap': True, 'max_features': 3, 'n_esti...</td>\n",
       "      <td>16</td>\n",
       "      <td>-3.708158e+09</td>\n",
       "      <td>...</td>\n",
       "      <td>-3.854429e+09</td>\n",
       "      <td>-1.044767e+09</td>\n",
       "      <td>-3.586737e+09</td>\n",
       "      <td>-1.040108e+09</td>\n",
       "      <td>-4.084678e+09</td>\n",
       "      <td>-9.966436e+08</td>\n",
       "      <td>0.003479</td>\n",
       "      <td>0.000083</td>\n",
       "      <td>1.693441e+08</td>\n",
       "      <td>4.273923e+07</td>\n",
       "    </tr>\n",
       "    <tr>\n",
       "      <th>15</th>\n",
       "      <td>0.211855</td>\n",
       "      <td>0.009025</td>\n",
       "      <td>-2.858345e+09</td>\n",
       "      <td>-5.439024e+08</td>\n",
       "      <td>True</td>\n",
       "      <td>3</td>\n",
       "      <td>10</td>\n",
       "      <td>{'bootstrap': True, 'max_features': 3, 'n_esti...</td>\n",
       "      <td>9</td>\n",
       "      <td>-2.691971e+09</td>\n",
       "      <td>...</td>\n",
       "      <td>-3.014819e+09</td>\n",
       "      <td>-5.445320e+08</td>\n",
       "      <td>-2.759419e+09</td>\n",
       "      <td>-5.570541e+08</td>\n",
       "      <td>-2.876600e+09</td>\n",
       "      <td>-5.444907e+08</td>\n",
       "      <td>0.002510</td>\n",
       "      <td>0.000328</td>\n",
       "      <td>1.187376e+08</td>\n",
       "      <td>8.795069e+06</td>\n",
       "    </tr>\n",
       "    <tr>\n",
       "      <th>16</th>\n",
       "      <td>0.081658</td>\n",
       "      <td>0.003028</td>\n",
       "      <td>-3.633109e+09</td>\n",
       "      <td>-9.750406e+08</td>\n",
       "      <td>True</td>\n",
       "      <td>4</td>\n",
       "      <td>3</td>\n",
       "      <td>{'bootstrap': True, 'max_features': 4, 'n_esti...</td>\n",
       "      <td>14</td>\n",
       "      <td>-3.563714e+09</td>\n",
       "      <td>...</td>\n",
       "      <td>-3.589064e+09</td>\n",
       "      <td>-9.349712e+08</td>\n",
       "      <td>-3.705199e+09</td>\n",
       "      <td>-1.021663e+09</td>\n",
       "      <td>-3.566053e+09</td>\n",
       "      <td>-9.208147e+08</td>\n",
       "      <td>0.001252</td>\n",
       "      <td>0.000042</td>\n",
       "      <td>7.509984e+07</td>\n",
       "      <td>3.975677e+07</td>\n",
       "    </tr>\n",
       "    <tr>\n",
       "      <th>17</th>\n",
       "      <td>0.271578</td>\n",
       "      <td>0.008559</td>\n",
       "      <td>-2.792532e+09</td>\n",
       "      <td>-5.190962e+08</td>\n",
       "      <td>True</td>\n",
       "      <td>4</td>\n",
       "      <td>10</td>\n",
       "      <td>{'bootstrap': True, 'max_features': 4, 'n_esti...</td>\n",
       "      <td>7</td>\n",
       "      <td>-2.667306e+09</td>\n",
       "      <td>...</td>\n",
       "      <td>-2.943140e+09</td>\n",
       "      <td>-5.178681e+08</td>\n",
       "      <td>-2.479385e+09</td>\n",
       "      <td>-5.003140e+08</td>\n",
       "      <td>-2.967985e+09</td>\n",
       "      <td>-5.245011e+08</td>\n",
       "      <td>0.006066</td>\n",
       "      <td>0.000706</td>\n",
       "      <td>1.896366e+08</td>\n",
       "      <td>1.258132e+07</td>\n",
       "    </tr>\n",
       "  </tbody>\n",
       "</table>\n",
       "<p>18 rows × 23 columns</p>\n",
       "</div>"
      ],
      "text/plain": [
       "    mean_fit_time  mean_score_time  mean_test_score  mean_train_score  \\\n",
       "0        0.053568         0.003641    -4.168066e+09     -1.116299e+09   \n",
       "1        0.163677         0.008640    -3.089437e+09     -5.714121e+08   \n",
       "2        0.481188         0.025177    -2.803323e+09     -4.396058e+08   \n",
       "3        0.079913         0.003086    -3.685263e+09     -1.015000e+09   \n",
       "4        0.267972         0.007845    -2.768918e+09     -5.110149e+08   \n",
       "5        0.807576         0.028478    -2.552757e+09     -3.965998e+08   \n",
       "6        0.114173         0.003287    -3.425487e+09     -9.275561e+08   \n",
       "7        0.373692         0.008587    -2.727166e+09     -5.041532e+08   \n",
       "8        1.113867         0.025688    -2.493510e+09     -3.844730e+08   \n",
       "9        0.144558         0.003001    -3.440973e+09     -8.883297e+08   \n",
       "10       0.488125         0.008829    -2.741969e+09     -5.024225e+08   \n",
       "11       1.628833         0.029205    -2.510805e+09     -3.829623e+08   \n",
       "12       0.070097         0.004562    -4.199192e+09     -1.103985e+09   \n",
       "13       0.193870         0.010254    -3.019342e+09     -5.805818e+08   \n",
       "14       0.065999         0.003020    -3.825479e+09     -1.008613e+09   \n",
       "15       0.211855         0.009025    -2.858345e+09     -5.439024e+08   \n",
       "16       0.081658         0.003028    -3.633109e+09     -9.750406e+08   \n",
       "17       0.271578         0.008559    -2.792532e+09     -5.190962e+08   \n",
       "\n",
       "   param_bootstrap param_max_features param_n_estimators  \\\n",
       "0              NaN                  2                  3   \n",
       "1              NaN                  2                 10   \n",
       "2              NaN                  2                 30   \n",
       "3              NaN                  4                  3   \n",
       "4              NaN                  4                 10   \n",
       "5              NaN                  4                 30   \n",
       "6              NaN                  6                  3   \n",
       "7              NaN                  6                 10   \n",
       "8              NaN                  6                 30   \n",
       "9              NaN                  8                  3   \n",
       "10             NaN                  8                 10   \n",
       "11             NaN                  8                 30   \n",
       "12            True                  2                  3   \n",
       "13            True                  2                 10   \n",
       "14            True                  3                  3   \n",
       "15            True                  3                 10   \n",
       "16            True                  4                  3   \n",
       "17            True                  4                 10   \n",
       "\n",
       "                                               params  rank_test_score  \\\n",
       "0              {'max_features': 2, 'n_estimators': 3}               17   \n",
       "1             {'max_features': 2, 'n_estimators': 10}               11   \n",
       "2             {'max_features': 2, 'n_estimators': 30}                8   \n",
       "3              {'max_features': 4, 'n_estimators': 3}               15   \n",
       "4             {'max_features': 4, 'n_estimators': 10}                6   \n",
       "5             {'max_features': 4, 'n_estimators': 30}                3   \n",
       "6              {'max_features': 6, 'n_estimators': 3}               12   \n",
       "7             {'max_features': 6, 'n_estimators': 10}                4   \n",
       "8             {'max_features': 6, 'n_estimators': 30}                1   \n",
       "9              {'max_features': 8, 'n_estimators': 3}               13   \n",
       "10            {'max_features': 8, 'n_estimators': 10}                5   \n",
       "11            {'max_features': 8, 'n_estimators': 30}                2   \n",
       "12  {'bootstrap': True, 'max_features': 2, 'n_esti...               18   \n",
       "13  {'bootstrap': True, 'max_features': 2, 'n_esti...               10   \n",
       "14  {'bootstrap': True, 'max_features': 3, 'n_esti...               16   \n",
       "15  {'bootstrap': True, 'max_features': 3, 'n_esti...                9   \n",
       "16  {'bootstrap': True, 'max_features': 4, 'n_esti...               14   \n",
       "17  {'bootstrap': True, 'max_features': 4, 'n_esti...                7   \n",
       "\n",
       "    split0_test_score       ...         split2_test_score  split2_train_score  \\\n",
       "0       -4.205993e+09       ...             -4.105898e+09       -1.120635e+09   \n",
       "1       -2.916993e+09       ...             -3.164544e+09       -5.634781e+08   \n",
       "2       -2.627857e+09       ...             -2.888681e+09       -4.314780e+08   \n",
       "3       -3.652934e+09       ...             -3.944912e+09       -1.059761e+09   \n",
       "4       -2.694980e+09       ...             -2.857170e+09       -5.027590e+08   \n",
       "5       -2.317039e+09       ...             -2.696694e+09       -3.925424e+08   \n",
       "6       -3.241709e+09       ...             -3.489504e+09       -9.116870e+08   \n",
       "7       -2.620795e+09       ...             -2.885735e+09       -4.952344e+08   \n",
       "8       -2.400790e+09       ...             -2.604913e+09       -3.795383e+08   \n",
       "9       -3.260875e+09       ...             -3.633767e+09       -8.889618e+08   \n",
       "10      -2.721955e+09       ...             -2.886013e+09       -5.008892e+08   \n",
       "11      -2.367954e+09       ...             -2.577184e+09       -3.751567e+08   \n",
       "12      -3.992964e+09       ...             -4.392421e+09       -1.088182e+09   \n",
       "13      -2.873432e+09       ...             -3.087323e+09       -5.904880e+08   \n",
       "14      -3.708158e+09       ...             -3.854429e+09       -1.044767e+09   \n",
       "15      -2.691971e+09       ...             -3.014819e+09       -5.445320e+08   \n",
       "16      -3.563714e+09       ...             -3.589064e+09       -9.349712e+08   \n",
       "17      -2.667306e+09       ...             -2.943140e+09       -5.178681e+08   \n",
       "\n",
       "    split3_test_score  split3_train_score  split4_test_score  \\\n",
       "0       -3.874204e+09       -1.088824e+09      -4.257680e+09   \n",
       "1       -2.943400e+09       -5.744063e+08      -3.179894e+09   \n",
       "2       -2.640186e+09       -4.502295e+08      -2.918600e+09   \n",
       "3       -3.492788e+09       -1.027435e+09      -3.560112e+09   \n",
       "4       -2.614790e+09       -5.237055e+08      -2.899352e+09   \n",
       "5       -2.472445e+09       -4.136775e+08      -2.653214e+09   \n",
       "6       -3.102074e+09       -9.362182e+08      -3.753160e+09   \n",
       "7       -2.593906e+09       -5.163725e+08      -2.821963e+09   \n",
       "8       -2.296018e+09       -3.819995e+08      -2.626075e+09   \n",
       "9       -3.305808e+09       -8.992125e+08      -3.494848e+09   \n",
       "10      -2.506809e+09       -4.983299e+08      -2.825212e+09   \n",
       "11      -2.387771e+09       -3.915451e+08      -2.673639e+09   \n",
       "12      -3.906268e+09       -1.127229e+09      -4.157766e+09   \n",
       "13      -2.849031e+09       -5.924617e+08      -3.085743e+09   \n",
       "14      -3.586737e+09       -1.040108e+09      -4.084678e+09   \n",
       "15      -2.759419e+09       -5.570541e+08      -2.876600e+09   \n",
       "16      -3.705199e+09       -1.021663e+09      -3.566053e+09   \n",
       "17      -2.479385e+09       -5.003140e+08      -2.967985e+09   \n",
       "\n",
       "    split4_train_score  std_fit_time  std_score_time  std_test_score  \\\n",
       "0        -1.188427e+09      0.004320        0.000298    1.742744e+08   \n",
       "1        -5.637698e+08      0.004814        0.000590    1.328744e+08   \n",
       "2        -4.318222e+08      0.006869        0.000705    1.392977e+08   \n",
       "3        -9.582961e+08      0.000682        0.000031    1.608174e+08   \n",
       "4        -5.215707e+08      0.000929        0.000324    1.040261e+08   \n",
       "5        -3.962327e+08      0.012039        0.004951    1.399773e+08   \n",
       "6        -9.438799e+08      0.002260        0.000443    2.294193e+08   \n",
       "7        -4.987552e+08      0.006992        0.000206    1.125939e+08   \n",
       "8        -3.780854e+08      0.004288        0.001727    1.262678e+08   \n",
       "9        -8.882231e+08      0.002386        0.000080    1.381928e+08   \n",
       "10       -4.825128e+08      0.002003        0.000370    1.297280e+08   \n",
       "11       -3.777576e+08      0.175144        0.004095    1.164561e+08   \n",
       "12       -1.049865e+09      0.016684        0.001171    2.400100e+08   \n",
       "13       -5.538113e+08      0.031057        0.002118    1.359357e+08   \n",
       "14       -9.966436e+08      0.003479        0.000083    1.693441e+08   \n",
       "15       -5.444907e+08      0.002510        0.000328    1.187376e+08   \n",
       "16       -9.208147e+08      0.001252        0.000042    7.509984e+07   \n",
       "17       -5.245011e+08      0.006066        0.000706    1.896366e+08   \n",
       "\n",
       "    std_train_score  \n",
       "0      3.789499e+07  \n",
       "1      2.043346e+07  \n",
       "2      7.135805e+06  \n",
       "3      4.832732e+07  \n",
       "4      2.067253e+07  \n",
       "5      8.890026e+06  \n",
       "6      1.253438e+07  \n",
       "7      1.692138e+07  \n",
       "8      6.525934e+06  \n",
       "9      7.569631e+06  \n",
       "10     1.496263e+07  \n",
       "11     5.894672e+06  \n",
       "12     3.510211e+07  \n",
       "13     1.778331e+07  \n",
       "14     4.273923e+07  \n",
       "15     8.795069e+06  \n",
       "16     3.975677e+07  \n",
       "17     1.258132e+07  \n",
       "\n",
       "[18 rows x 23 columns]"
      ]
     },
     "execution_count": 70,
     "metadata": {},
     "output_type": "execute_result"
    }
   ],
   "source": [
    "pd.DataFrame(grid_search.cv_results_)"
   ]
  },
  {
   "cell_type": "markdown",
   "metadata": {},
   "source": [
    "---\n",
    "- `그리드 탐색을 이용해 데이터 준비 단계를 하나의 하이퍼파라미터 처럼 다룰 수 있습니다.`\n",
    "- 예를 들어 그리드 탐색이 확실하지 않은 특성을 추가할지 말지 자동으로 정할 수 있습니다.<br>\n",
    "   CombinedAttributesAdder 변환기의 add_bedrooms_per_room 하이퍼파라미터를 사용하여 특성을 추가할지 결정할 수 있습니다.\n",
    "   이상치나 값이 빈 특성을 다루거나 특성 선택 등을 자동으로 처리하는데도 그리드 탐색을 사용합니다."
   ]
  },
  {
   "cell_type": "markdown",
   "metadata": {},
   "source": [
    "### 랜덤 탐색"
   ]
  },
  {
   "cell_type": "markdown",
   "metadata": {},
   "source": [
    "그리드 탐색 방법은 비교적 적은 수의 조합을 탐색할 때 괜찮습니다.\n",
    "\n",
    "하이퍼파라미터 탐색공간이 커지면 **`RandomizedSearchCV`** 를 사용하는 편이 더 좋습니다.<br>\n",
    "특히, 규제처럼 설정값이 연속형인 경우 랜덤 탐색이 권장 됩니다.<br>\n",
    "`RandomizedSearchCV`는 가능한 모든 조합을 시도하는 대신 각 반복마다 하이퍼파라미터에 임의의 수를 대입하여 지정한 회수만큼 평가합니다.<br>\n",
    "`RandomizedSearchCV`의 주요 장점은\n",
    "\n",
    "- 단순히 반복 회수를 조절하는 것만으로 하이퍼파라미터 탐색에 투입할 컴퓨팅 자원을 제어할 수 있습니다."
   ]
  },
  {
   "cell_type": "code",
   "execution_count": 71,
   "metadata": {},
   "outputs": [
    {
     "data": {
      "text/plain": [
       "RandomizedSearchCV(cv=5, error_score='raise-deprecating',\n",
       "          estimator=RandomForestRegressor(bootstrap=True, criterion='mse', max_depth=None,\n",
       "           max_features='auto', max_leaf_nodes=None,\n",
       "           min_impurity_decrease=0.0, min_impurity_split=None,\n",
       "           min_samples_leaf=1, min_samples_split=2,\n",
       "           min_weight_fraction_leaf=0.0, n_estimators='warn', n_jobs=None,\n",
       "           oob_score=False, random_state=42, verbose=0, warm_start=False),\n",
       "          fit_params=None, iid='warn', n_iter=10, n_jobs=-1,\n",
       "          param_distributions={'n_estimators': <scipy.stats._distn_infrastructure.rv_frozen object at 0x12d540e10>, 'max_features': <scipy.stats._distn_infrastructure.rv_frozen object at 0x12d5404e0>},\n",
       "          pre_dispatch='2*n_jobs', random_state=42, refit=True,\n",
       "          return_train_score='warn', scoring='neg_mean_squared_error',\n",
       "          verbose=0)"
      ]
     },
     "execution_count": 71,
     "metadata": {},
     "output_type": "execute_result"
    }
   ],
   "source": [
    "from sklearn.model_selection import RandomizedSearchCV\n",
    "from scipy.stats import randint\n",
    "\n",
    "param_distribs = {\n",
    "        'n_estimators': randint(low=1, high=200),\n",
    "        'max_features': randint(low=1, high=8),\n",
    "    }\n",
    "\n",
    "forest_reg = RandomForestRegressor(random_state=42)\n",
    "rnd_search = RandomizedSearchCV(forest_reg, param_distributions=param_distribs,\n",
    "                                n_iter=10, cv=5, scoring='neg_mean_squared_error', \n",
    "                                random_state=42, n_jobs=-1)\n",
    "rnd_search.fit(housing_prepared, housing_labels)"
   ]
  },
  {
   "cell_type": "code",
   "execution_count": 72,
   "metadata": {},
   "outputs": [
    {
     "name": "stdout",
     "output_type": "stream",
     "text": [
      "49150.657232934034 {'max_features': 7, 'n_estimators': 180}\n",
      "51389.85295710133 {'max_features': 5, 'n_estimators': 15}\n",
      "50796.12045980556 {'max_features': 3, 'n_estimators': 72}\n",
      "50835.09932039744 {'max_features': 5, 'n_estimators': 21}\n",
      "49280.90117886215 {'max_features': 7, 'n_estimators': 122}\n",
      "50774.86679035961 {'max_features': 3, 'n_estimators': 75}\n",
      "50682.75001237282 {'max_features': 3, 'n_estimators': 88}\n",
      "49608.94061293652 {'max_features': 5, 'n_estimators': 100}\n",
      "50473.57642831875 {'max_features': 3, 'n_estimators': 150}\n",
      "64429.763804893395 {'max_features': 5, 'n_estimators': 2}\n"
     ]
    }
   ],
   "source": [
    "cvres = rnd_search.cv_results_\n",
    "for mean_score, params in zip(cvres[\"mean_test_score\"], cvres[\"params\"]):\n",
    "    print(np.sqrt(-mean_score), params)"
   ]
  },
  {
   "cell_type": "code",
   "execution_count": 73,
   "metadata": {},
   "outputs": [
    {
     "data": {
      "text/plain": [
       "array([7.69687766e-02, 7.04319887e-02, 4.38660619e-02, 1.80630448e-02,\n",
       "       1.66508742e-02, 1.79482850e-02, 1.59942989e-02, 3.27548930e-01,\n",
       "       5.57736006e-02, 1.05319561e-01, 9.13965806e-02, 1.16638033e-02,\n",
       "       1.38350194e-01, 1.03976446e-04, 3.83940095e-03, 6.08062375e-03])"
      ]
     },
     "execution_count": 73,
     "metadata": {},
     "output_type": "execute_result"
    }
   ],
   "source": [
    "feature_importances = grid_search.best_estimator_.feature_importances_\n",
    "feature_importances"
   ]
  },
  {
   "cell_type": "markdown",
   "metadata": {},
   "source": [
    "### 상상블 방법"
   ]
  },
  {
   "cell_type": "markdown",
   "metadata": {},
   "source": [
    "모델을 세밀하게 튜닝하는 또 다른 방법은 최상의 모델을 연결해보는 것입니다.<br>\n",
    "모델의 그룹(또는 앙상블)이 최상의 단일 모델보다 더 나은 성능을 발휘할 때가 많습니다.<br>\n",
    "특히, 각기 다른 형태의 오차를 만들 때 그렇습니다. (이 주제는 7장에서 자세히 다룹니다.)"
   ]
  },
  {
   "cell_type": "markdown",
   "metadata": {},
   "source": [
    "### 최상의 모델과 오차 분석"
   ]
  },
  {
   "cell_type": "markdown",
   "metadata": {},
   "source": [
    "최상의 모델을 분석하면 문제에 대한 좋은 통찰을 얻는 경우가 많습니다.<br>\n",
    "예를 들어 `RandomForestRegressor`가 정확한 예측을 만들기 위한 각 특성의 상대적인 중요도를 알려줍니다.<br>"
   ]
  },
  {
   "cell_type": "code",
   "execution_count": 74,
   "metadata": {},
   "outputs": [
    {
     "data": {
      "text/plain": [
       "array([7.69687766e-02, 7.04319887e-02, 4.38660619e-02, 1.80630448e-02,\n",
       "       1.66508742e-02, 1.79482850e-02, 1.59942989e-02, 3.27548930e-01,\n",
       "       5.57736006e-02, 1.05319561e-01, 9.13965806e-02, 1.16638033e-02,\n",
       "       1.38350194e-01, 1.03976446e-04, 3.83940095e-03, 6.08062375e-03])"
      ]
     },
     "execution_count": 74,
     "metadata": {},
     "output_type": "execute_result"
    }
   ],
   "source": [
    "feature_importances = grid_search.best_estimator_.feature_importances_\n",
    "feature_importances"
   ]
  },
  {
   "cell_type": "code",
   "execution_count": 75,
   "metadata": {},
   "outputs": [
    {
     "data": {
      "text/plain": [
       "[(0.32754893001195934, 'median_income'),\n",
       " (0.13835019350471953, 'INLAND'),\n",
       " (0.10531956070724346, 'pop_per_hhold'),\n",
       " (0.09139658055040592, 'bedrooms_per_room'),\n",
       " (0.07696877663966344, 'longitude'),\n",
       " (0.07043198869339834, 'latitude'),\n",
       " (0.05577360056115168, 'rooms_per_hhold'),\n",
       " (0.04386606192454317, 'housing_median_age'),\n",
       " (0.018063044805051474, 'total_rooms'),\n",
       " (0.01794828495917463, 'population'),\n",
       " (0.016650874220719983, 'total_bedrooms'),\n",
       " (0.01599429894210943, 'households'),\n",
       " (0.01166380333543238, '<1H OCEAN'),\n",
       " (0.006080623745976418, 'NEAR OCEAN'),\n",
       " (0.0038394009525752966, 'NEAR BAY'),\n",
       " (0.00010397644587548846, 'ISLAND')]"
      ]
     },
     "execution_count": 75,
     "metadata": {},
     "output_type": "execute_result"
    }
   ],
   "source": [
    "# 중요도 다음에 그에 상응하는 특성 이름을 표시해보겠습니다.\n",
    "extra_attribs = [\"rooms_per_hhold\", \"pop_per_hhold\", \"bedrooms_per_room\"]\n",
    "cat_one_hot_attribs = list(ordinal_encoder.categories_[0])     # 앞부분에서 정의한 One-Hot encoding 특성 이름을 사용\n",
    "attributes = num_attribs + extra_attribs + cat_one_hot_attribs\n",
    "sorted(zip(feature_importances, attributes), reverse=True)"
   ]
  },
  {
   "cell_type": "markdown",
   "metadata": {},
   "source": [
    "이 정보를 바탕으로 덜 중요들을 제외할 수 있습니다.<br>\n",
    "예를 들어 카테고리 특성 중 INLAND 만 중요도가 높기 때문에 다른 카테고리는 제외할 수 있습니다.\n",
    "\n",
    "시스템이 특정한 오차를 만들었다면 <br>\n",
    "왜 그런 문제가 생겼는지 이해하고 문제를 해결하는 방법이 무엇인지 찾아야 합니다.<br>\n",
    "(추가 특성을 포함시키거나, 반대로 불필요한 특성을 제거하거나, 이상치를 제외하는 등)"
   ]
  },
  {
   "cell_type": "markdown",
   "metadata": {},
   "source": [
    "### 테스트 세트로 시스템 평가하기"
   ]
  },
  {
   "cell_type": "markdown",
   "metadata": {},
   "source": [
    "모델을 튜닝해서 어느 정도 만족할 만한 모델을 얻게 되면, 테스트 세트에서 최종 모델을 평가할 차례입니다.<br>\n",
    "테스트 세트에서 예측 변수와 레이블을 얻은 후 full_pipeline을 사용해 데이터를 변환하고 <br>\n",
    "( fit_transform()이 아니라 `transform()`을 호출해야 합니다.)  테스트 세트에서 최종 모델을 평가 합니다."
   ]
  },
  {
   "cell_type": "code",
   "execution_count": 76,
   "metadata": {},
   "outputs": [
    {
     "data": {
      "text/plain": [
       "47579.68069327446"
      ]
     },
     "execution_count": 76,
     "metadata": {},
     "output_type": "execute_result"
    }
   ],
   "source": [
    "final_model = grid_search.best_estimator_\n",
    "\n",
    "X_test = strat_test_set.drop(\"median_house_value\", axis=1)     # drop은 새로운 객체를 복사해서 반환 합니다.\n",
    "y_test = strat_test_set[\"median_house_value\"].copy()      # 테스트 세트를 유지하기 위해 테스트 세트의 레이블을 copy 해서 사용 합니다.\n",
    "\n",
    "X_test_prepared = full_pipeline.transform(X_test)      # 훈련 세트에서 학습된 모델을 사용하여 테스트 세트를 변환(전처리) 합니다.\n",
    "\n",
    "final_predictions = final_model.predict(X_test_prepared)     # 그리드 서치로 찾은 최적은 추정기와 파라미터로 테스트 세트의 중간 주택 가격을 예측 합니다.\n",
    "\n",
    "final_mse = mean_squared_error(final_predictions, y_test)\n",
    "final_rmse = np.sqrt(final_mse)\n",
    "final_rmse"
   ]
  },
  {
   "cell_type": "markdown",
   "metadata": {},
   "source": [
    "- 하이퍼파라미터 튜닝을 많이 했다면 교차 검증을 사용해 측정한 것보다 조금 성능이 낮은 것이 보통입니다.<br>\n",
    "   (우리 시스템이 검증 시스템에서 높은 성능을 내도록 세밀하게 튜닝되었기 때문에 <br>\n",
    "   새로운 데이터셋에는 잘 작동하지 않을 가능성이 큽니다.)\n",
    "- 테스트 세트에서 성능 수치를 좋게 하려고 아이퍼파라미터를 튜닝하려 시도해서는 안됩니다.<br>\n",
    "   그렇게 향상된 성능은 새로운 데이터에 일반화 되기 어렵습니다.\n",
    "   \n",
    "---\n",
    "이제 학습한 것, 한 일과 하지 않은 일, 수립한 가정, 시스템 제한사항 등을 강조하면서 솔루션과 문서를 출시하고, <br>\n",
    "깔끔한 도표와 기억하기 쉬운 제목으로 멋진 발표 자료를 만들어서 프로젝트 론칭 허가를 받습니다."
   ]
  },
  {
   "cell_type": "markdown",
   "metadata": {},
   "source": [
    "## 2.8 론칭, 모니터링, 그리고 시스템 유지 보수"
   ]
  },
  {
   "cell_type": "markdown",
   "metadata": {},
   "source": [
    "이제 제품 시스템에 적용하기 위한 준비를 해야 합니다.<br>\n",
    "특히, **`입력 데이터 소스를 우리 시스템에 연결하고 테스트 코드를 작성해야 합니다.`**\n",
    "\n",
    "**`일정 간격으로 시스템의 실시간 성능을 체크하고 성능이 떨어졌을 때 알람을 통지할 수 있는 모니터링 코드를 작성해야 합니다.`** <br>\n",
    "이는 갑작스런 오작동뿐만 아니라 성능이 감소되는 상황을 잡아내기 위해서도 아주 중요합니다. <br>\n",
    "새로운 데이터를 사용해 주기적으로 훈련시키지 않으면 데이터가 오래됨에 따라 모델도 함께 낙후되는 것이 일반적입니다.\n",
    "\n",
    "**`시스템 성능을 평가하려면 시스템의 예측을 샘플링해서 평가해야 합니다.`**<br>\n",
    "일반적으로 이런 과정에는 사람의 분석이 필요합니다.\n",
    "\n",
    "**`시스템의 입력 데이터 품질 역시 평가해야 합니다.`**<br>\n",
    "특히, 온라인 학습 시스템에서는 입력을 모니터링 하는 일이 중요합니다.\n",
    "\n",
    "마지막으로, **`새로운 데이터를 사용해 정기적으로 모델을 훈련시켜야 합니다.`**<br>\n",
    "가능하면 이 과정을 자동화 해야 합니다.<br>\n",
    "**`온라인 학습 시스템이라면 일정 간격으로 시스템의 상태를 스냅샷으로 저장해서 이전 상태로 쉽게 되돌릴 수 있도록 해야 합니다.`**"
   ]
  },
  {
   "cell_type": "markdown",
   "metadata": {},
   "source": [
    "## 2.9 직접 해보세요!"
   ]
  },
  {
   "cell_type": "markdown",
   "metadata": {},
   "source": [
    "**`대부분의 작업은 데이터 준비 단계, 모니터링 도구 구축, 사람의 평가 파이프라인 세팅,\n",
    "주기적인 모델 학습 자동화로 이루어집니다.`**\n",
    "\n",
    "물론 머신러닝 알고리즘도 중요하지만 **`전체 프로세스에 익숙해져야 합니다.`**<br>\n",
    "고수준 알고리즘을 탐색하느라 시간을 모두 허비해서 전체 프로세스 구축에 충분한 시간을 투자하지 못하는 것보다 <br>\n",
    "서너 개의 알고리즘 만으로라도 전체 프로세스를 올바로 구축하는 편이 더 낫다는 것을 알아야 합니다."
   ]
  },
  {
   "cell_type": "markdown",
   "metadata": {},
   "source": [
    "## 2.10 연습문제"
   ]
  },
  {
   "cell_type": "markdown",
   "metadata": {},
   "source": [
    "1. **`서포트 벡터 머신 회귀(sklearn.svm.SVR)`** 를 kernel=“linear”(하이퍼파라미터 C를 바꿔가며)나 <br>\n",
    "    kernel=“rbf”(하이퍼파라미터 C와 gamma를 바꿔가며) 등의 다양한 하이퍼파라미터 설정으로 시도해보세요. <br>\n",
    "    지금은 이 하이퍼파라미터가 무엇을 의미하는지 너무 신경 쓰지 마세요. 최상의 SVR 모델은 무엇인가요?"
   ]
  },
  {
   "cell_type": "code",
   "execution_count": 80,
   "metadata": {},
   "outputs": [
    {
     "name": "stdout",
     "output_type": "stream",
     "text": [
      "Fitting 5 folds for each of 37 candidates, totalling 185 fits\n"
     ]
    },
    {
     "name": "stderr",
     "output_type": "stream",
     "text": [
      "[Parallel(n_jobs=-1)]: Using backend LokyBackend with 8 concurrent workers.\n",
      "[Parallel(n_jobs=-1)]: Done  25 tasks      | elapsed:  1.5min\n",
      "[Parallel(n_jobs=-1)]: Done 146 tasks      | elapsed:  7.9min\n",
      "[Parallel(n_jobs=-1)]: Done 185 out of 185 | elapsed:  9.9min finished\n"
     ]
    },
    {
     "data": {
      "text/plain": [
       "GridSearchCV(cv=5, error_score='raise-deprecating',\n",
       "       estimator=SVR(C=1.0, cache_size=200, coef0=0.0, degree=3, epsilon=0.1,\n",
       "  gamma='auto_deprecated', kernel='rbf', max_iter=-1, shrinking=True,\n",
       "  tol=0.001, verbose=False),\n",
       "       fit_params=None, iid='warn', n_jobs=-1,\n",
       "       param_grid=[{'kernel': ['linear'], 'C': [10.0, 100.0, 1000.0, 10000.0, 30000.0, 50000.0, 100000.0]}, {'kernel': ['rbf'], 'C': [1.0, 10.0, 100.0, 1000.0, 10000.0], 'gamma': [0.01, 0.03, 0.1, 0.3, 1.0, 3.0]}],\n",
       "       pre_dispatch='2*n_jobs', refit=True, return_train_score='warn',\n",
       "       scoring='neg_mean_squared_error', verbose=2)"
      ]
     },
     "execution_count": 80,
     "metadata": {},
     "output_type": "execute_result"
    }
   ],
   "source": [
    "from sklearn.model_selection import GridSearchCV\n",
    "from sklearn.svm import SVR\n",
    "\n",
    "param_grid = [\n",
    "        {'kernel': ['linear'], 'C': [10., 100., 1000., 10000., 30000., 50000., 100000.]},\n",
    "        {'kernel': ['rbf'], 'C': [1.0, 10., 100., 1000., 10000.],\n",
    "         'gamma': [0.01, 0.03, 0.1, 0.3, 1.0, 3.0]},\n",
    "]\n",
    "\n",
    "svm_reg = SVR()\n",
    "grid_search = GridSearchCV(svm_reg, param_grid, cv=5, scoring='neg_mean_squared_error', \n",
    "                           verbose=2, n_jobs=-1)\n",
    "grid_search.fit(housing_prepared, housing_labels)"
   ]
  },
  {
   "cell_type": "markdown",
   "metadata": {},
   "source": [
    "- 최상 모델의 (5-폴드 교차 검증으로 평가한) 점수는 다음과 같습니다."
   ]
  },
  {
   "cell_type": "code",
   "execution_count": 81,
   "metadata": {},
   "outputs": [
    {
     "data": {
      "text/plain": [
       "61020.01857062194"
      ]
     },
     "execution_count": 81,
     "metadata": {},
     "output_type": "execute_result"
    }
   ],
   "source": [
    "negative_mse = grid_search.best_score_\n",
    "rmse = np.sqrt(-negative_mse)\n",
    "rmse"
   ]
  },
  {
   "cell_type": "markdown",
   "metadata": {},
   "source": [
    "- 최상의 하이퍼파라미터를 확인해 보겠습니다."
   ]
  },
  {
   "cell_type": "code",
   "execution_count": 82,
   "metadata": {},
   "outputs": [
    {
     "data": {
      "text/plain": [
       "{'C': 10000.0, 'gamma': 0.1, 'kernel': 'rbf'}"
      ]
     },
     "execution_count": 82,
     "metadata": {},
     "output_type": "execute_result"
    }
   ],
   "source": [
    "grid_search.best_params_"
   ]
  },
  {
   "cell_type": "markdown",
   "metadata": {},
   "source": [
    "- RBF 커널이 선형 커널 보다 성능이 나은 것 같습니다.<br>\n",
    "   (하이퍼파라미터 범위를 조정하면 선형 커널의 성능이 더 나은 경우도 만들어집니다.)"
   ]
  },
  {
   "cell_type": "markdown",
   "metadata": {},
   "source": [
    "2. GridSearchCV를 `RandomizedSearchCV`로 바꿔보세요."
   ]
  },
  {
   "cell_type": "code",
   "execution_count": 83,
   "metadata": {},
   "outputs": [
    {
     "name": "stdout",
     "output_type": "stream",
     "text": [
      "Fitting 5 folds for each of 50 candidates, totalling 250 fits\n"
     ]
    },
    {
     "name": "stderr",
     "output_type": "stream",
     "text": [
      "[Parallel(n_jobs=-1)]: Using backend LokyBackend with 8 concurrent workers.\n",
      "[Parallel(n_jobs=-1)]: Done  25 tasks      | elapsed:  1.6min\n",
      "[Parallel(n_jobs=-1)]: Done 146 tasks      | elapsed: 10.1min\n",
      "[Parallel(n_jobs=-1)]: Done 250 out of 250 | elapsed: 16.5min finished\n"
     ]
    },
    {
     "data": {
      "text/plain": [
       "RandomizedSearchCV(cv=5, error_score='raise-deprecating',\n",
       "          estimator=SVR(C=1.0, cache_size=200, coef0=0.0, degree=3, epsilon=0.1,\n",
       "  gamma='auto_deprecated', kernel='rbf', max_iter=-1, shrinking=True,\n",
       "  tol=0.001, verbose=False),\n",
       "          fit_params=None, iid='warn', n_iter=50, n_jobs=-1,\n",
       "          param_distributions={'kernel': ['linear', 'rbf'], 'C': <scipy.stats._distn_infrastructure.rv_frozen object at 0x12cf6c080>, 'gamma': <scipy.stats._distn_infrastructure.rv_frozen object at 0x12cf41a20>},\n",
       "          pre_dispatch='2*n_jobs', random_state=42, refit=True,\n",
       "          return_train_score='warn', scoring='neg_mean_squared_error',\n",
       "          verbose=2)"
      ]
     },
     "execution_count": 83,
     "metadata": {},
     "output_type": "execute_result"
    }
   ],
   "source": [
    "from sklearn.model_selection import RandomizedSearchCV\n",
    "from scipy.stats import expon, reciprocal\n",
    "\n",
    "# expon(), reciprocal()와 다른 확률 분포 함수에 대해서는\n",
    "# https://docs.scipy.org/doc/scipy/reference/stats.html를 참고하세요.\n",
    "\n",
    "# 노트: kernel 매개변수가 \"linear\"일 때는 gamma가 무시됩니다.\n",
    "param_distribs = {\n",
    "        'kernel': ['linear', 'rbf'],\n",
    "        'C': reciprocal(20, 200000),\n",
    "        'gamma': expon(scale=1.0),\n",
    "    }\n",
    "\n",
    "svm_reg = SVR()\n",
    "rnd_search = RandomizedSearchCV(svm_reg, param_distributions=param_distribs,\n",
    "                                n_iter=50, cv=5, scoring='neg_mean_squared_error',\n",
    "                                verbose=2, n_jobs=-1, random_state=42)\n",
    "rnd_search.fit(housing_prepared, housing_labels)"
   ]
  },
  {
   "cell_type": "markdown",
   "metadata": {},
   "source": [
    "- 최상 모델의 (5-폴드 교차 검증으로 평가한) 점수는 다음과 같습니다."
   ]
  },
  {
   "cell_type": "code",
   "execution_count": 84,
   "metadata": {},
   "outputs": [
    {
     "data": {
      "text/plain": [
       "54767.99053704408"
      ]
     },
     "execution_count": 84,
     "metadata": {},
     "output_type": "execute_result"
    }
   ],
   "source": [
    "negative_mse = rnd_search.best_score_\n",
    "rmse = np.sqrt(-negative_mse)\n",
    "rmse"
   ]
  },
  {
   "cell_type": "markdown",
   "metadata": {},
   "source": [
    "- RandomForestRegressor의 성능에 가까워졌습니다(하지만 아직 차이가 납니다). 최상의 하이퍼파라미터를 확인해 보겠습니다:"
   ]
  },
  {
   "cell_type": "code",
   "execution_count": 85,
   "metadata": {},
   "outputs": [
    {
     "data": {
      "text/plain": [
       "{'C': 157055.10989448498, 'gamma': 0.26497040005002437, 'kernel': 'rbf'}"
      ]
     },
     "execution_count": 85,
     "metadata": {},
     "output_type": "execute_result"
    }
   ],
   "source": [
    "rnd_search.best_params_"
   ]
  },
  {
   "cell_type": "markdown",
   "metadata": {},
   "source": [
    "- 이번에는 RBF 커널에 대해 최적의 하이퍼파라미터 조합을 찾았습니다. <br>\n",
    "   보통 랜덤서치가 같은 시간안에 그리드서치보다 더 좋은 하이퍼파라미터를 찾습니다."
   ]
  },
  {
   "cell_type": "markdown",
   "metadata": {},
   "source": [
    "- 여기서 사용된 scale=1.0인 지수 분포를 살펴보겠습니다. <br>\n",
    "   일부 샘플은 1.0보다 아주 크거나 작습니다. <br>\n",
    "   하지만 로그 분포를 보면 대부분의 값이 exp(-2)와 exp(+2), 즉 0.1과 7.4 사이에 집중되어 있음을 알 수 있습니다."
   ]
  },
  {
   "cell_type": "code",
   "execution_count": 86,
   "metadata": {},
   "outputs": [
    {
     "data": {
      "image/png": "[encoded data removed]",
      "text/plain": [
       "<Figure size 720x288 with 2 Axes>"
      ]
     },
     "metadata": {
      "needs_background": "light"
     },
     "output_type": "display_data"
    }
   ],
   "source": [
    "expon_distrib = expon(scale=1.)\n",
    "samples = expon_distrib.rvs(10000, random_state=42)\n",
    "plt.figure(figsize=(10, 4))\n",
    "plt.subplot(121)\n",
    "plt.title(\"Exponential distribution (scale=1.0)\")\n",
    "plt.hist(samples, bins=50)\n",
    "plt.subplot(122)\n",
    "plt.title(\"Log of this distribution\")\n",
    "plt.hist(np.log(samples), bins=50)\n",
    "plt.show()"
   ]
  },
  {
   "cell_type": "markdown",
   "metadata": {},
   "source": [
    "- C에 사용된 분포는 매우 다릅니다. <br>\n",
    "   주어진 범위안에서 균등 분포로 샘플링됩니다. 그래서 오른쪽 로그 분포가 거의 일정하게 나타납니다. <br>\n",
    "   이런 분포는 원하는 스케일이 정확이 무엇인지 모를 때 사용하면 좋습니다:"
   ]
  },
  {
   "cell_type": "code",
   "execution_count": 87,
   "metadata": {},
   "outputs": [
    {
     "data": {
      "image/png": "[encoded data removed]",
      "text/plain": [
       "<Figure size 720x288 with 2 Axes>"
      ]
     },
     "metadata": {
      "needs_background": "light"
     },
     "output_type": "display_data"
    }
   ],
   "source": [
    "reciprocal_distrib = reciprocal(20, 200000)\n",
    "samples = reciprocal_distrib.rvs(10000, random_state=42)\n",
    "plt.figure(figsize=(10, 4))\n",
    "plt.subplot(121)\n",
    "plt.title(\"Reciprocal distribution (scale=1.0)\")\n",
    "plt.hist(samples, bins=50)\n",
    "plt.subplot(122)\n",
    "plt.title(\"Log of this distribution\")\n",
    "plt.hist(np.log(samples), bins=50)\n",
    "plt.show()"
   ]
  },
  {
   "cell_type": "markdown",
   "metadata": {},
   "source": [
    "- reciprocal() 함수는 하이퍼파라미터의 스케일에 대해 전혀 감을 잡을 수 없을 때 사용합니다<br>\n",
    "   (오른쪽 그래프에서 볼 수 있듯이 주어진 범위안에서 모든 값이 균등합니다). <br>\n",
    "   반면 지수 분포는 하이퍼파라미터의 스케일을 (어느정도) 알고 있을 때 사용하는 것이 좋습니다."
   ]
  },
  {
   "cell_type": "markdown",
   "metadata": {},
   "source": [
    "3. 가장 중요한 특성을 선택하는 변환기를 준비 파이프라인에 추가해보세요."
   ]
  },
  {
   "cell_type": "code",
   "execution_count": 88,
   "metadata": {},
   "outputs": [],
   "source": [
    "from sklearn.base import BaseEstimator, TransformerMixin\n",
    "\n",
    "def indices_of_top_k(arr, k):\n",
    "    return np.sort(np.argpartition(np.array(arr), -k)[-k:])\n",
    "\n",
    "class TopFeatureSelector(BaseEstimator, TransformerMixin):\n",
    "    def __init__(self, feature_importances, k):\n",
    "        self.feature_importances = feature_importances\n",
    "        self.k = k\n",
    "    def fit(self, X, y=None):\n",
    "        self.feature_indices_ = indices_of_top_k(self.feature_importances, self.k)\n",
    "        return self\n",
    "    def transform(self, X):\n",
    "        return X[:, self.feature_indices_]"
   ]
  },
  {
   "cell_type": "markdown",
   "metadata": {},
   "source": [
    "- 이 특성 선택 클래스는 이미 어떤 식으로든 특성 중요도를 계산했다고 가정합니다(가령 RandomForestRegressor을 사용하여).<br>\n",
    "   TopFeatureSelector의 fit() 메서드에서 직접 계산할 수도 있지만 (캐싱을 사용하지 않을 경우) 이렇게 하면 <br>\n",
    "   그리드서치나 랜덤서치의 모든 하이퍼파라미터 조합에 대해 계산이 일어나기 때문에 매우 느려집니다."
   ]
  },
  {
   "cell_type": "markdown",
   "metadata": {},
   "source": [
    "- 선택할 특성의 개수를 지정하고, 최상의 k개 특성의 인덱스를 확인해 보겠습니다."
   ]
  },
  {
   "cell_type": "code",
   "execution_count": 89,
   "metadata": {},
   "outputs": [
    {
     "data": {
      "text/plain": [
       "array([ 0,  7,  9, 10, 12])"
      ]
     },
     "execution_count": 89,
     "metadata": {},
     "output_type": "execute_result"
    }
   ],
   "source": [
    "k = 5\n",
    "top_k_feature_indices = indices_of_top_k(feature_importances, k)\n",
    "top_k_feature_indices"
   ]
  },
  {
   "cell_type": "code",
   "execution_count": 90,
   "metadata": {},
   "outputs": [
    {
     "data": {
      "text/plain": [
       "array(['longitude', 'median_income', 'pop_per_hhold', 'bedrooms_per_room',\n",
       "       'INLAND'], dtype='<U18')"
      ]
     },
     "execution_count": 90,
     "metadata": {},
     "output_type": "execute_result"
    }
   ],
   "source": [
    "np.array(attributes)[top_k_feature_indices]"
   ]
  },
  {
   "cell_type": "markdown",
   "metadata": {},
   "source": [
    "- 최상의 k개 특성이 맞는지 다시 확인합니다."
   ]
  },
  {
   "cell_type": "code",
   "execution_count": 91,
   "metadata": {},
   "outputs": [
    {
     "data": {
      "text/plain": [
       "[(0.32754893001195934, 'median_income'),\n",
       " (0.13835019350471953, 'INLAND'),\n",
       " (0.10531956070724346, 'pop_per_hhold'),\n",
       " (0.09139658055040592, 'bedrooms_per_room'),\n",
       " (0.07696877663966344, 'longitude')]"
      ]
     },
     "execution_count": 91,
     "metadata": {},
     "output_type": "execute_result"
    }
   ],
   "source": [
    "sorted(zip(feature_importances, attributes), reverse=True)[:k]"
   ]
  },
  {
   "cell_type": "markdown",
   "metadata": {},
   "source": [
    "- 이제 이전에 정의한 준비 파이프라인과 특성 선택기를 추가한 새로운 파이프라인을 만듭니다."
   ]
  },
  {
   "cell_type": "code",
   "execution_count": 92,
   "metadata": {},
   "outputs": [],
   "source": [
    "preparation_and_feature_selection_pipeline = Pipeline([\n",
    "    ('preparation', full_pipeline),\n",
    "    ('feature_selection', TopFeatureSelector(feature_importances, k))\n",
    "])\n",
    "\n",
    "housing_prepared_top_k_features = preparation_and_feature_selection_pipeline.fit_transform(housing)"
   ]
  },
  {
   "cell_type": "markdown",
   "metadata": {},
   "source": [
    "- 처음 3개 샘플의 특성을 확인해 보겠습니다."
   ]
  },
  {
   "cell_type": "code",
   "execution_count": 93,
   "metadata": {},
   "outputs": [
    {
     "data": {
      "text/plain": [
       "array([[-1.15604281, -0.61493744, -0.08649871,  0.15531753,  0.        ],\n",
       "       [-1.17602483,  1.33645936, -0.03353391, -0.83628902,  0.        ],\n",
       "       [ 1.18684903, -0.5320456 , -0.09240499,  0.4222004 ,  0.        ]])"
      ]
     },
     "execution_count": 93,
     "metadata": {},
     "output_type": "execute_result"
    }
   ],
   "source": [
    "housing_prepared_top_k_features[0:3]"
   ]
  },
  {
   "cell_type": "markdown",
   "metadata": {},
   "source": [
    "- 최상의 k개 특성이 맞는지 다시 확인합니다."
   ]
  },
  {
   "cell_type": "code",
   "execution_count": 94,
   "metadata": {},
   "outputs": [
    {
     "data": {
      "text/plain": [
       "array([[-1.15604281, -0.61493744, -0.08649871,  0.15531753,  0.        ],\n",
       "       [-1.17602483,  1.33645936, -0.03353391, -0.83628902,  0.        ],\n",
       "       [ 1.18684903, -0.5320456 , -0.09240499,  0.4222004 ,  0.        ]])"
      ]
     },
     "execution_count": 94,
     "metadata": {},
     "output_type": "execute_result"
    }
   ],
   "source": [
    "housing_prepared[0:3, top_k_feature_indices]"
   ]
  },
  {
   "cell_type": "markdown",
   "metadata": {},
   "source": [
    "4. 전체 데이터 준비 과정과 최종 예측을 하나의 파이프라인으로 만들어보세요."
   ]
  },
  {
   "cell_type": "code",
   "execution_count": 95,
   "metadata": {},
   "outputs": [
    {
     "data": {
      "text/plain": [
       "Pipeline(memory=None,\n",
       "     steps=[('preparation', ColumnTransformer(n_jobs=None, remainder='drop', sparse_threshold=0.3,\n",
       "         transformer_weights=None,\n",
       "         transformers=[('num', Pipeline(memory=None,\n",
       "     steps=[('imputer', SimpleImputer(copy=True, fill_value=None, missing_values=nan,\n",
       "       strategy='median', verbos... gamma=0.26497040005002437, kernel='rbf', max_iter=-1, shrinking=True,\n",
       "  tol=0.001, verbose=False))])"
      ]
     },
     "execution_count": 95,
     "metadata": {},
     "output_type": "execute_result"
    }
   ],
   "source": [
    "prepare_select_and_predict_pipeline = Pipeline([\n",
    "    ('preparation', full_pipeline),\n",
    "    ('feature_selection', TopFeatureSelector(feature_importances, k)),\n",
    "    ('svm_reg', SVR(**rnd_search.best_params_))\n",
    "])\n",
    "\n",
    "prepare_select_and_predict_pipeline.fit(housing, housing_labels)"
   ]
  },
  {
   "cell_type": "markdown",
   "metadata": {},
   "source": [
    "- 몇 개의 샘플에 전체 파이프라인을 적용해 보겠습니다."
   ]
  },
  {
   "cell_type": "code",
   "execution_count": 96,
   "metadata": {},
   "outputs": [
    {
     "name": "stdout",
     "output_type": "stream",
     "text": [
      "예측:\t [185384.13066634 341000.56131537 172531.39955817  56040.55006167]\n",
      "레이블:\t\t [286600.0, 340600.0, 196900.0, 46300.0]\n"
     ]
    }
   ],
   "source": [
    "some_data = housing.iloc[:4]\n",
    "some_labels = housing_labels.iloc[:4]\n",
    "\n",
    "print(\"예측:\\t\", prepare_select_and_predict_pipeline.predict(some_data))\n",
    "print(\"레이블:\\t\\t\", list(some_labels))"
   ]
  },
  {
   "cell_type": "markdown",
   "metadata": {},
   "source": [
    "- 전체 파이프라인이 잘 작동하는 것 같습니다. 물론 예측 성능이 아주 좋지는 않습니다."
   ]
  },
  {
   "cell_type": "markdown",
   "metadata": {},
   "source": [
    "5. GridSearchCV를 사용해 준비 단계의 옵션을 자동으로 탐색해보세요."
   ]
  },
  {
   "cell_type": "code",
   "execution_count": 98,
   "metadata": {},
   "outputs": [
    {
     "name": "stdout",
     "output_type": "stream",
     "text": [
      "Fitting 5 folds for each of 48 candidates, totalling 240 fits\n"
     ]
    },
    {
     "name": "stderr",
     "output_type": "stream",
     "text": [
      "[Parallel(n_jobs=8)]: Using backend LokyBackend with 8 concurrent workers.\n",
      "[Parallel(n_jobs=8)]: Done  25 tasks      | elapsed:  1.1min\n",
      "[Parallel(n_jobs=8)]: Done 146 tasks      | elapsed:  7.1min\n",
      "[Parallel(n_jobs=8)]: Done 240 out of 240 | elapsed: 16.1min finished\n"
     ]
    },
    {
     "data": {
      "text/plain": [
       "GridSearchCV(cv=5, error_score='raise-deprecating',\n",
       "       estimator=Pipeline(memory=None,\n",
       "     steps=[('preparation', ColumnTransformer(n_jobs=None, remainder='drop', sparse_threshold=0.3,\n",
       "         transformer_weights=None,\n",
       "         transformers=[('num', Pipeline(memory=None,\n",
       "     steps=[('imputer', SimpleImputer(copy=True, fill_value=None, missing_values=nan,\n",
       "       strategy='median', verbos... gamma=0.26497040005002437, kernel='rbf', max_iter=-1, shrinking=True,\n",
       "  tol=0.001, verbose=False))]),\n",
       "       fit_params=None, iid='warn', n_jobs=8,\n",
       "       param_grid=[{'preparation__num__imputer__strategy': ['mean', 'median', 'most_frequent'], 'feature_selection__k': [1, 2, 3, 4, 5, 6, 7, 8, 9, 10, 11, 12, 13, 14, 15, 16]}],\n",
       "       pre_dispatch='2*n_jobs', refit=True, return_train_score='warn',\n",
       "       scoring='neg_mean_squared_error', verbose=2)"
      ]
     },
     "execution_count": 98,
     "metadata": {},
     "output_type": "execute_result"
    }
   ],
   "source": [
    "param_grid = [{\n",
    "    'preparation__num__imputer__strategy': ['mean', 'median', 'most_frequent'],\n",
    "    'feature_selection__k': list(range(1, len(feature_importances) + 1))\n",
    "}]\n",
    "\n",
    "grid_search_prep = GridSearchCV(prepare_select_and_predict_pipeline, param_grid, cv=5,\n",
    "                                scoring='neg_mean_squared_error', verbose=2, n_jobs=8)    # n_jobs 값을 1 또는 -1로 설정 시 에러 발생\n",
    "grid_search_prep.fit(housing, housing_labels)"
   ]
  },
  {
   "cell_type": "code",
   "execution_count": 99,
   "metadata": {},
   "outputs": [
    {
     "data": {
      "text/plain": [
       "{'feature_selection__k': 15, 'preparation__num__imputer__strategy': 'mean'}"
      ]
     },
     "execution_count": 99,
     "metadata": {},
     "output_type": "execute_result"
    }
   ],
   "source": [
    "grid_search_prep.best_params_"
   ]
  },
  {
   "cell_type": "code",
   "execution_count": null,
   "metadata": {},
   "outputs": [],
   "source": []
  }
 ],
 "metadata": {
  "kernelspec": {
   "display_name": "Python 3",
   "language": "python",
   "name": "python3"
  },
  "language_info": {
   "codemirror_mode": {
    "name": "ipython",
    "version": 3
   },
   "file_extension": ".py",
   "mimetype": "text/x-python",
   "name": "python",
   "nbconvert_exporter": "python",
   "pygments_lexer": "ipython3",
   "version": "3.6.8"
  },
  "toc": {
   "base_numbering": 1,
   "nav_menu": {},
   "number_sections": false,
   "sideBar": true,
   "skip_h1_title": false,
   "title_cell": "Table of Contents",
   "title_sidebar": "Contents",
   "toc_cell": true,
   "toc_position": {},
   "toc_section_display": true,
   "toc_window_display": false
  }
 },
 "nbformat": 4,
 "nbformat_minor": 2
}
